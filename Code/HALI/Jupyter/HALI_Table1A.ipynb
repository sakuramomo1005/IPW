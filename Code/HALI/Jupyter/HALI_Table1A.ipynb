{
 "cells": [
  {
   "attachments": {},
   "cell_type": "markdown",
   "metadata": {},
   "source": [
    "# HALI Data Analysis\n",
    "\n",
    "#### Baseline and outcome characteristics of motivating HALI data set for n=2465 participants with complete baseline covariates\n",
    "\n",
    "* table 1A\n"
   ]
  },
  {
   "cell_type": "code",
   "execution_count": null,
   "metadata": {},
   "outputs": [],
   "source": []
  },
  {
   "cell_type": "code",
   "execution_count": 48,
   "metadata": {
    "scrolled": false
   },
   "outputs": [
    {
     "data": {
      "text/html": [
       "<table>\n",
       "<thead><tr><th scope=col></th><th scope=col>Intervention\n",
       "(n=1230)</th><th scope=col>Control\n",
       "(n=1235)</th></tr></thead>\n",
       "<tbody>\n",
       "\t<tr><td>Baseline cluster characteristics                       </td><td>                                                       </td><td>                                                       </td></tr>\n",
       "\t<tr><td>Number                                                 </td><td>51                                                     </td><td>50                                                     </td></tr>\n",
       "\t<tr><td>Cluster Size – mean (SD)                              </td><td>24.1 (3.3)                                             </td><td>24.7 (1.9)                                             </td></tr>\n",
       "\t<tr><td>Baseline child-level characteristics - % (n)           </td><td>                                                       </td><td>                                                       </td></tr>\n",
       "\t<tr><td>Female                                                 </td><td>47.9% (589)                                            </td><td>49.5% (611)                                            </td></tr>\n",
       "\t<tr><td>Age – mean (sd)                                       </td><td>7.7 (1.7)                                              </td><td>7.9 (1.7)                                              </td></tr>\n",
       "\t<tr><td>Household head education                               </td><td>                                                       </td><td>                                                       </td></tr>\n",
       "\t<tr><td>Did not complete primary education                     </td><td>29.1% (358)                                            </td><td>34.4% (425)                                            </td></tr>\n",
       "\t<tr><td>Primary                                                </td><td>55.6% (684)                                            </td><td>52.7% (651)                                            </td></tr>\n",
       "\t<tr><td>Secondary                                              </td><td>11.5% (141)                                            </td><td>10.6% (131)                                            </td></tr>\n",
       "\t<tr><td>College/degree                                         </td><td>3.8% (47)                                              </td><td>2.3% (28)                                              </td></tr>\n",
       "\t<tr><td>Household socioeconomic status (SES)                   </td><td>                                                       </td><td>                                                       </td></tr>\n",
       "\t<tr><td>Poorest                                                </td><td>19% (234)                                              </td><td>26.3% (325)                                            </td></tr>\n",
       "\t<tr><td>Poor                                                   </td><td>19.9% (245)                                            </td><td>21.1% (261)                                            </td></tr>\n",
       "\t<tr><td>Median poor                                            </td><td>21.1% (259)                                            </td><td>17.7% (219)                                            </td></tr>\n",
       "\t<tr><td>Less poor                                              </td><td>19.9% (245)                                            </td><td>18.4% (227)                                            </td></tr>\n",
       "\t<tr><td>Least poor                                             </td><td>20.1% (247)                                            </td><td>16.4% (203)                                            </td></tr>\n",
       "\t<tr><td>Baseline literacy – spelling score (0-20) – mean (sd)</td><td>8.4 (4.6)                                              </td><td>7.8 (4.3)                                              </td></tr>\n",
       "\t<tr><td>Outcome at 9-month follow-up                           </td><td>                                                       </td><td>                                                       </td></tr>\n",
       "\t<tr><td><span style=white-space:pre-wrap>High literacy (spelling score &gt; 10)                    </span></td><td>52.4% (644)                                                                                       </td><td>39.5% (488)                                                                                       </td></tr>\n",
       "</tbody>\n",
       "</table>\n"
      ],
      "text/latex": [
       "\\begin{tabular}{r|lll}\n",
       "  & Intervention\n",
       "(n=1230) & Control\n",
       "(n=1235)\\\\\n",
       "\\hline\n",
       "\t Baseline cluster characteristics                        &                                                         &                                                        \\\\\n",
       "\t Number                                                  & 51                                                      & 50                                                     \\\\\n",
       "\t Cluster Size – mean (SD)                               & 24.1 (3.3)                                              & 24.7 (1.9)                                             \\\\\n",
       "\t Baseline child-level characteristics - \\% (n)            &                                                           &                                                          \\\\\n",
       "\t Female                                                  & 47.9\\% (589)                                           & 49.5\\% (611)                                          \\\\\n",
       "\t Age – mean (sd)                                        & 7.7 (1.7)                                               & 7.9 (1.7)                                              \\\\\n",
       "\t Household head education                                &                                                         &                                                        \\\\\n",
       "\t Did not complete primary education                      & 29.1\\% (358)                                           & 34.4\\% (425)                                          \\\\\n",
       "\t Primary                                                 & 55.6\\% (684)                                           & 52.7\\% (651)                                          \\\\\n",
       "\t Secondary                                               & 11.5\\% (141)                                           & 10.6\\% (131)                                          \\\\\n",
       "\t College/degree                                          & 3.8\\% (47)                                             & 2.3\\% (28)                                            \\\\\n",
       "\t Household socioeconomic status (SES)                    &                                                         &                                                        \\\\\n",
       "\t Poorest                                                 & 19\\% (234)                                             & 26.3\\% (325)                                          \\\\\n",
       "\t Poor                                                    & 19.9\\% (245)                                           & 21.1\\% (261)                                          \\\\\n",
       "\t Median poor                                             & 21.1\\% (259)                                           & 17.7\\% (219)                                          \\\\\n",
       "\t Less poor                                               & 19.9\\% (245)                                           & 18.4\\% (227)                                          \\\\\n",
       "\t Least poor                                              & 20.1\\% (247)                                           & 16.4\\% (203)                                          \\\\\n",
       "\t Baseline literacy – spelling score (0-20) – mean (sd) & 8.4 (4.6)                                               & 7.8 (4.3)                                              \\\\\n",
       "\t Outcome at 9-month follow-up                            &                                                         &                                                        \\\\\n",
       "\t High literacy (spelling score > 10)                     & 52.4\\% (644)                                           & 39.5\\% (488)                                          \\\\\n",
       "\\end{tabular}\n"
      ],
      "text/markdown": [
       "\n",
       " | Intervention\n",
       "(n=1230) | Control\n",
       "(n=1235) | \n",
       "|---|---|---|---|---|---|---|---|---|---|---|---|---|---|---|---|---|---|---|---|\n",
       "| Baseline cluster characteristics                        |                                                         |                                                         | \n",
       "| Number                                                  | 51                                                      | 50                                                      | \n",
       "| Cluster Size – mean (SD)                               | 24.1 (3.3)                                              | 24.7 (1.9)                                              | \n",
       "| Baseline child-level characteristics - % (n)            |                                                         |                                                         | \n",
       "| Female                                                  | 47.9% (589)                                             | 49.5% (611)                                             | \n",
       "| Age – mean (sd)                                        | 7.7 (1.7)                                               | 7.9 (1.7)                                               | \n",
       "| Household head education                                |                                                         |                                                         | \n",
       "| Did not complete primary education                      | 29.1% (358)                                             | 34.4% (425)                                             | \n",
       "| Primary                                                 | 55.6% (684)                                             | 52.7% (651)                                             | \n",
       "| Secondary                                               | 11.5% (141)                                             | 10.6% (131)                                             | \n",
       "| College/degree                                          | 3.8% (47)                                               | 2.3% (28)                                               | \n",
       "| Household socioeconomic status (SES)                    |                                                         |                                                         | \n",
       "| Poorest                                                 | 19% (234)                                               | 26.3% (325)                                             | \n",
       "| Poor                                                    | 19.9% (245)                                             | 21.1% (261)                                             | \n",
       "| Median poor                                             | 21.1% (259)                                             | 17.7% (219)                                             | \n",
       "| Less poor                                               | 19.9% (245)                                             | 18.4% (227)                                             | \n",
       "| Least poor                                              | 20.1% (247)                                             | 16.4% (203)                                             | \n",
       "| Baseline literacy – spelling score (0-20) – mean (sd) | 8.4 (4.6)                                               | 7.8 (4.3)                                               | \n",
       "| Outcome at 9-month follow-up                            |                                                         |                                                         | \n",
       "| High literacy (spelling score > 10)                     | 52.4% (644)                                             | 39.5% (488)                                             | \n",
       "\n",
       "\n"
      ],
      "text/plain": [
       "                                                          \n",
       "1  Baseline cluster characteristics                       \n",
       "2  Number                                                 \n",
       "3  Cluster Size – mean (SD)                              \n",
       "4  Baseline child-level characteristics - % (n)           \n",
       "5  Female                                                 \n",
       "6  Age – mean (sd)                                       \n",
       "7  Household head education                               \n",
       "8  Did not complete primary education                     \n",
       "9  Primary                                                \n",
       "10 Secondary                                              \n",
       "11 College/degree                                         \n",
       "12 Household socioeconomic status (SES)                   \n",
       "13 Poorest                                                \n",
       "14 Poor                                                   \n",
       "15 Median poor                                            \n",
       "16 Less poor                                              \n",
       "17 Least poor                                             \n",
       "18 Baseline literacy – spelling score (0-20) – mean (sd)\n",
       "19 Outcome at 9-month follow-up                           \n",
       "20 High literacy (spelling score > 10)                    \n",
       "   Intervention\\n(n=1230) Control\\n(n=1235)\n",
       "1                                          \n",
       "2  51                     50               \n",
       "3  24.1 (3.3)             24.7 (1.9)       \n",
       "4                                          \n",
       "5  47.9% (589)            49.5% (611)      \n",
       "6  7.7 (1.7)              7.9 (1.7)        \n",
       "7                                          \n",
       "8  29.1% (358)            34.4% (425)      \n",
       "9  55.6% (684)            52.7% (651)      \n",
       "10 11.5% (141)            10.6% (131)      \n",
       "11 3.8% (47)              2.3% (28)        \n",
       "12                                         \n",
       "13 19% (234)              26.3% (325)      \n",
       "14 19.9% (245)            21.1% (261)      \n",
       "15 21.1% (259)            17.7% (219)      \n",
       "16 19.9% (245)            18.4% (227)      \n",
       "17 20.1% (247)            16.4% (203)      \n",
       "18 8.4 (4.6)              7.8 (4.3)        \n",
       "19                                         \n",
       "20 52.4% (644)            39.5% (488)      "
      ]
     },
     "metadata": {},
     "output_type": "display_data"
    }
   ],
   "source": [
    "table_1a"
   ]
  },
  {
   "cell_type": "code",
   "execution_count": null,
   "metadata": {},
   "outputs": [],
   "source": []
  },
  {
   "cell_type": "code",
   "execution_count": null,
   "metadata": {},
   "outputs": [],
   "source": []
  },
  {
   "cell_type": "code",
   "execution_count": null,
   "metadata": {},
   "outputs": [],
   "source": []
  },
  {
   "cell_type": "markdown",
   "metadata": {},
   "source": [
    "# Code Detail"
   ]
  },
  {
   "cell_type": "code",
   "execution_count": 1,
   "metadata": {},
   "outputs": [],
   "source": [
    "# install.packages('readstata13')\n",
    "# install.packages('geeM')\n",
    "# install.packages('jomo')\n",
    "# install.packages('knitr')"
   ]
  },
  {
   "cell_type": "code",
   "execution_count": 3,
   "metadata": {},
   "outputs": [],
   "source": [
    "library(readstata13) # library for read in the dataset\n",
    "library(lme4) # library for GLM\n",
    "library(geeM)\n",
    "library(jomo)\n",
    "library(knitr)"
   ]
  },
  {
   "cell_type": "markdown",
   "metadata": {},
   "source": [
    "### Read in data\n",
    "\n",
    "the full dataset named dat"
   ]
  },
  {
   "cell_type": "code",
   "execution_count": 4,
   "metadata": {},
   "outputs": [],
   "source": [
    "setwd('/Users/yaolanqiu/Documents/HALI/DATA')\n",
    "dat <- read.dta13('HALI_CLASS1_2539_MASTER_EDUC_FU1_FU2_LONG_accounts_withdrawals_BL_AS_COV_AND_OTHER_COV_17.11.2016.dta',\n",
    "                  nonint.factors = TRUE, generate.factors=TRUE)"
   ]
  },
  {
   "cell_type": "code",
   "execution_count": 5,
   "metadata": {},
   "outputs": [
    {
     "data": {
      "text/html": [
       "<ol class=list-inline>\n",
       "\t<li>5078</li>\n",
       "\t<li>220</li>\n",
       "</ol>\n"
      ],
      "text/latex": [
       "\\begin{enumerate*}\n",
       "\\item 5078\n",
       "\\item 220\n",
       "\\end{enumerate*}\n"
      ],
      "text/markdown": [
       "1. 5078\n",
       "2. 220\n",
       "\n",
       "\n"
      ],
      "text/plain": [
       "[1] 5078  220"
      ]
     },
     "metadata": {},
     "output_type": "display_data"
    }
   ],
   "source": [
    "dim(dat)"
   ]
  },
  {
   "cell_type": "markdown",
   "metadata": {},
   "source": [
    "### we only focused on 9 month data\n",
    "\n",
    "the data with only 9 month named data0"
   ]
  },
  {
   "cell_type": "code",
   "execution_count": 6,
   "metadata": {},
   "outputs": [
    {
     "data": {
      "text/html": [
       "<ol class=list-inline>\n",
       "\t<li>2539</li>\n",
       "\t<li>220</li>\n",
       "</ol>\n"
      ],
      "text/latex": [
       "\\begin{enumerate*}\n",
       "\\item 2539\n",
       "\\item 220\n",
       "\\end{enumerate*}\n"
      ],
      "text/markdown": [
       "1. 2539\n",
       "2. 220\n",
       "\n",
       "\n"
      ],
      "text/plain": [
       "[1] 2539  220"
      ]
     },
     "metadata": {},
     "output_type": "display_data"
    }
   ],
   "source": [
    "data0 <- dat[dat$visit=='9-month FU',]\n",
    "dim(data0) # 2539 220"
   ]
  },
  {
   "cell_type": "markdown",
   "metadata": {},
   "source": [
    "### select the input variables"
   ]
  },
  {
   "cell_type": "code",
   "execution_count": 7,
   "metadata": {},
   "outputs": [
    {
     "data": {
      "text/html": [
       "<ol class=list-inline>\n",
       "\t<li>2539</li>\n",
       "\t<li>8</li>\n",
       "</ol>\n"
      ],
      "text/latex": [
       "\\begin{enumerate*}\n",
       "\\item 2539\n",
       "\\item 8\n",
       "\\end{enumerate*}\n"
      ],
      "text/markdown": [
       "1. 2539\n",
       "2. 8\n",
       "\n",
       "\n"
      ],
      "text/plain": [
       "[1] 2539    8"
      ]
     },
     "metadata": {},
     "output_type": "display_data"
    }
   ],
   "source": [
    "dat0 <- data0[,c(\"school_id\",\"LIT_grp\",\n",
    "                 \"BL_gll21_total\", 'age_child','sex',\n",
    "                 'schlevel_comp',\"BL_ses\",\n",
    "                 \"gll21_total\")]\n",
    "rownames(dat0) <- NULL\n",
    "dim(dat0) # 2539 8"
   ]
  },
  {
   "cell_type": "markdown",
   "metadata": {},
   "source": [
    "### remove the data with missing covariates "
   ]
  },
  {
   "cell_type": "code",
   "execution_count": 8,
   "metadata": {},
   "outputs": [
    {
     "data": {
      "text/html": [
       "<ol class=list-inline>\n",
       "\t<li>2465</li>\n",
       "\t<li>8</li>\n",
       "</ol>\n"
      ],
      "text/latex": [
       "\\begin{enumerate*}\n",
       "\\item 2465\n",
       "\\item 8\n",
       "\\end{enumerate*}\n"
      ],
      "text/markdown": [
       "1. 2465\n",
       "2. 8\n",
       "\n",
       "\n"
      ],
      "text/plain": [
       "[1] 2465    8"
      ]
     },
     "metadata": {},
     "output_type": "display_data"
    }
   ],
   "source": [
    "dat1 = dat0[(is.na(dat0$school_id) == 0 & \n",
    "      is.na(dat0$LIT_grp) == 0 &\n",
    "      is.na(dat0$BL_gll21_total) == 0 &\n",
    "      is.na(dat0$age_child)== 0 & \n",
    "      is.na(dat0$sex) == 0 & \n",
    "      is.na(dat0$schlevel_comp) == 0 &\n",
    "      is.na(dat0$BL_ses) ==0) ,]\n",
    "rownames(dat1) = NULL\n",
    "dim(dat1) # 2465 8"
   ]
  },
  {
   "cell_type": "markdown",
   "metadata": {},
   "source": [
    "## Draw the table 1a"
   ]
  },
  {
   "cell_type": "markdown",
   "metadata": {},
   "source": [
    "####  Number of student in intervention arm and control arm:"
   ]
  },
  {
   "cell_type": "code",
   "execution_count": 9,
   "metadata": {},
   "outputs": [
    {
     "data": {
      "text/html": [
       "<ol class=list-inline>\n",
       "\t<li>1230</li>\n",
       "\t<li>8</li>\n",
       "</ol>\n"
      ],
      "text/latex": [
       "\\begin{enumerate*}\n",
       "\\item 1230\n",
       "\\item 8\n",
       "\\end{enumerate*}\n"
      ],
      "text/markdown": [
       "1. 1230\n",
       "2. 8\n",
       "\n",
       "\n"
      ],
      "text/plain": [
       "[1] 1230    8"
      ]
     },
     "metadata": {},
     "output_type": "display_data"
    },
    {
     "data": {
      "text/html": [
       "<ol class=list-inline>\n",
       "\t<li>1235</li>\n",
       "\t<li>8</li>\n",
       "</ol>\n"
      ],
      "text/latex": [
       "\\begin{enumerate*}\n",
       "\\item 1235\n",
       "\\item 8\n",
       "\\end{enumerate*}\n"
      ],
      "text/markdown": [
       "1. 1235\n",
       "2. 8\n",
       "\n",
       "\n"
      ],
      "text/plain": [
       "[1] 1235    8"
      ]
     },
     "metadata": {},
     "output_type": "display_data"
    }
   ],
   "source": [
    "dim(dat1[dat1$LIT_grp=='yes',]) # 1230\n",
    "dim(dat1[dat1$LIT_grp=='no',])  # 1235"
   ]
  },
  {
   "cell_type": "code",
   "execution_count": 10,
   "metadata": {},
   "outputs": [],
   "source": [
    "# the table cells\n",
    "col1 = col2 =col3 =c()"
   ]
  },
  {
   "cell_type": "markdown",
   "metadata": {},
   "source": [
    "#### Baseline cluster characteristics:"
   ]
  },
  {
   "cell_type": "code",
   "execution_count": 11,
   "metadata": {},
   "outputs": [],
   "source": [
    "col1 = c(col1, 'Baseline cluster characteristics')\n",
    "col2 = c(col2, '')\n",
    "col3 = c(col3, '')"
   ]
  },
  {
   "cell_type": "markdown",
   "metadata": {},
   "source": [
    "#### cluster number:"
   ]
  },
  {
   "cell_type": "code",
   "execution_count": 12,
   "metadata": {},
   "outputs": [
    {
     "data": {
      "text/html": [
       "51"
      ],
      "text/latex": [
       "51"
      ],
      "text/markdown": [
       "51"
      ],
      "text/plain": [
       "[1] 51"
      ]
     },
     "metadata": {},
     "output_type": "display_data"
    },
    {
     "data": {
      "text/html": [
       "50"
      ],
      "text/latex": [
       "50"
      ],
      "text/markdown": [
       "50"
      ],
      "text/plain": [
       "[1] 50"
      ]
     },
     "metadata": {},
     "output_type": "display_data"
    }
   ],
   "source": [
    "length(table(dat1[dat1$LIT_grp=='yes',]$school_id)) # intervention 51\n",
    "length(table(dat1[dat1$LIT_grp=='no',]$school_id)) # control 50"
   ]
  },
  {
   "cell_type": "code",
   "execution_count": 13,
   "metadata": {},
   "outputs": [],
   "source": [
    "col1 = c(col1,'Number')\n",
    "col2 = c(col2, length(table(dat1[dat1$LIT_grp=='yes',]$school_id)) )\n",
    "col3 = c(col3, length(table(dat1[dat1$LIT_grp=='no',]$school_id)))"
   ]
  },
  {
   "cell_type": "markdown",
   "metadata": {},
   "source": [
    "#### Cluster size (mean (SD)):\n",
    "\n",
    "intervention \n",
    " 24.1 (3.3)"
   ]
  },
  {
   "cell_type": "code",
   "execution_count": 14,
   "metadata": {},
   "outputs": [
    {
     "data": {
      "text/html": [
       "'24.1 (3.3)'"
      ],
      "text/latex": [
       "'24.1 (3.3)'"
      ],
      "text/markdown": [
       "'24.1 (3.3)'"
      ],
      "text/plain": [
       "[1] \"24.1 (3.3)\""
      ]
     },
     "metadata": {},
     "output_type": "display_data"
    }
   ],
   "source": [
    "paste(round(mean(table(dat1[dat1$LIT_grp=='yes',]$school_id)),1),' (',\n",
    "      round(sd(table(dat1[dat1$LIT_grp=='yes',]$school_id)),1),\")\",sep='')"
   ]
  },
  {
   "cell_type": "markdown",
   "metadata": {},
   "source": [
    "control \n",
    " 24.7 (1.9)"
   ]
  },
  {
   "cell_type": "code",
   "execution_count": 15,
   "metadata": {},
   "outputs": [
    {
     "data": {
      "text/html": [
       "'24.7 (1.9)'"
      ],
      "text/latex": [
       "'24.7 (1.9)'"
      ],
      "text/markdown": [
       "'24.7 (1.9)'"
      ],
      "text/plain": [
       "[1] \"24.7 (1.9)\""
      ]
     },
     "metadata": {},
     "output_type": "display_data"
    }
   ],
   "source": [
    "paste(round(mean(table(dat1[dat1$LIT_grp=='no',]$school_id)),1),' (',\n",
    "      round(sd(table(dat1[dat1$LIT_grp=='no',]$school_id)),1),\")\",sep='')"
   ]
  },
  {
   "cell_type": "code",
   "execution_count": 16,
   "metadata": {},
   "outputs": [],
   "source": [
    "col1 = c(col1,'Cluster Size – mean (SD)')\n",
    "col2 = c(col2, paste(round(mean(table(dat1[dat1$LIT_grp=='yes',]$school_id)),1),' (',\n",
    "                     round(sd(table(dat1[dat1$LIT_grp=='yes',]$school_id)),1),\")\",sep=''))\n",
    "col3 = c(col3, paste(round(mean(table(dat1[dat1$LIT_grp=='no',]$school_id)),1),' (',\n",
    "                     round(sd(table(dat1[dat1$LIT_grp=='no',]$school_id)),1),\")\",sep=''))"
   ]
  },
  {
   "cell_type": "markdown",
   "metadata": {},
   "source": [
    "#### Baseline child-level characteristics:"
   ]
  },
  {
   "cell_type": "code",
   "execution_count": 17,
   "metadata": {},
   "outputs": [],
   "source": [
    "col1 = c(col1, 'Baseline child-level characteristics - % (n)')\n",
    "col2 = c(col2, '')\n",
    "col3 = c(col3, '')"
   ]
  },
  {
   "cell_type": "markdown",
   "metadata": {},
   "source": [
    " intervention:\n",
    " gender - female: 47.9% (589)\n"
   ]
  },
  {
   "cell_type": "code",
   "execution_count": 18,
   "metadata": {},
   "outputs": [
    {
     "data": {
      "text/html": [
       "'47.9% (589)'"
      ],
      "text/latex": [
       "'47.9\\% (589)'"
      ],
      "text/markdown": [
       "'47.9% (589)'"
      ],
      "text/plain": [
       "[1] \"47.9% (589)\""
      ]
     },
     "metadata": {},
     "output_type": "display_data"
    }
   ],
   "source": [
    "paste(100 * round(dim(dat1[dat1$sex == 'Female' & \n",
    "                             dat1$LIT_grp == 'yes',])[1]/ dim(dat1[dat1$LIT_grp == 'yes',])[1],3),\n",
    "      \"% (\",dim(dat1[dat1$sex == 'Female' & dat1$LIT_grp == 'yes',])[1],\")\",sep='')"
   ]
  },
  {
   "cell_type": "markdown",
   "metadata": {},
   "source": [
    " control:\n",
    " gender - female:  49.5% (611)\n"
   ]
  },
  {
   "cell_type": "code",
   "execution_count": 19,
   "metadata": {},
   "outputs": [
    {
     "data": {
      "text/html": [
       "'49.5% (611)'"
      ],
      "text/latex": [
       "'49.5\\% (611)'"
      ],
      "text/markdown": [
       "'49.5% (611)'"
      ],
      "text/plain": [
       "[1] \"49.5% (611)\""
      ]
     },
     "metadata": {},
     "output_type": "display_data"
    }
   ],
   "source": [
    "paste(100 * round(dim(dat1[dat1$sex == 'Female' & \n",
    "                             dat1$LIT_grp == 'no',])[1]/ dim(dat1[dat1$LIT_grp == 'no',])[1],3),\n",
    "      \"% (\",dim(dat1[dat1$sex == 'Female' & dat1$LIT_grp == 'no',])[1],\")\",sep='')"
   ]
  },
  {
   "cell_type": "code",
   "execution_count": 20,
   "metadata": {},
   "outputs": [],
   "source": [
    "col1 = c(col1, 'Female')\n",
    "col2 = c(col2, paste(100 * round(dim(dat1[dat1$sex == 'Female' & \n",
    "                                            dat1$LIT_grp == 'yes',])[1]/ dim(dat1[dat1$LIT_grp == 'yes',])[1],3),\n",
    "                     \"% (\",dim(dat1[dat1$sex == 'Female' & dat1$LIT_grp == 'yes',])[1],\")\",sep=''))\n",
    "col3 = c(col3, paste(100 * round(dim(dat1[dat1$sex == 'Female' & \n",
    "                                            dat1$LIT_grp == 'no',])[1]/ dim(dat1[dat1$LIT_grp == 'no',])[1],3),\n",
    "                     \"% (\",dim(dat1[dat1$sex == 'Female' & dat1$LIT_grp == 'no',])[1],\")\",sep=''))"
   ]
  },
  {
   "cell_type": "markdown",
   "metadata": {},
   "source": [
    "#### Age - mean(sd)"
   ]
  },
  {
   "cell_type": "markdown",
   "metadata": {},
   "source": [
    "intervention"
   ]
  },
  {
   "cell_type": "code",
   "execution_count": 21,
   "metadata": {},
   "outputs": [
    {
     "data": {
      "text/html": [
       "'7.7 (1.7)'"
      ],
      "text/latex": [
       "'7.7 (1.7)'"
      ],
      "text/markdown": [
       "'7.7 (1.7)'"
      ],
      "text/plain": [
       "[1] \"7.7 (1.7)\""
      ]
     },
     "metadata": {},
     "output_type": "display_data"
    }
   ],
   "source": [
    "paste(round(mean(dat1[dat1$LIT_grp == 'yes',]$age_child),1),\n",
    "      ' (', round(sd(dat1[dat1$LIT_grp == 'yes',]$age_child),1),\n",
    "      ')', sep = '')"
   ]
  },
  {
   "cell_type": "markdown",
   "metadata": {},
   "source": [
    "control"
   ]
  },
  {
   "cell_type": "code",
   "execution_count": 22,
   "metadata": {},
   "outputs": [
    {
     "data": {
      "text/html": [
       "'7.9 (1.7)'"
      ],
      "text/latex": [
       "'7.9 (1.7)'"
      ],
      "text/markdown": [
       "'7.9 (1.7)'"
      ],
      "text/plain": [
       "[1] \"7.9 (1.7)\""
      ]
     },
     "metadata": {},
     "output_type": "display_data"
    }
   ],
   "source": [
    "paste(round(mean(dat1[dat1$LIT_grp == 'no',]$age_child),1),\n",
    "      ' (', round(sd(dat1[dat1$LIT_grp == 'no',]$age_child),1),\n",
    "      ')', sep = '')"
   ]
  },
  {
   "cell_type": "code",
   "execution_count": 23,
   "metadata": {},
   "outputs": [],
   "source": [
    "col1 = c(col1, 'Age – mean (sd)')\n",
    "col2 = c(col2, paste(round(mean(dat1[dat1$LIT_grp == 'yes',]$age_child),1),\n",
    "                     ' (', round(sd(dat1[dat1$LIT_grp == 'yes',]$age_child),1),\n",
    "                     ')', sep = ''))\n",
    "col3 = c(col3, paste(round(mean(dat1[dat1$LIT_grp == 'no',]$age_child),1),\n",
    "                     ' (', round(sd(dat1[dat1$LIT_grp == 'no',]$age_child),1),\n",
    "                     ')', sep = ''))"
   ]
  },
  {
   "cell_type": "markdown",
   "metadata": {},
   "source": [
    "#### Household education:"
   ]
  },
  {
   "cell_type": "code",
   "execution_count": 24,
   "metadata": {},
   "outputs": [],
   "source": [
    "col1 = c(col1, 'Household head education')\n",
    "col2 = c(col2, '')\n",
    "col3 = c(col3, '')"
   ]
  },
  {
   "cell_type": "markdown",
   "metadata": {},
   "source": [
    "intervention"
   ]
  },
  {
   "cell_type": "code",
   "execution_count": 25,
   "metadata": {},
   "outputs": [
    {
     "data": {
      "text/html": [
       "<ol class=list-inline>\n",
       "\t<li>'29.1% (358)'</li>\n",
       "\t<li>'55.6% (684)'</li>\n",
       "\t<li>'11.5% (141)'</li>\n",
       "\t<li>'3.8% (47)'</li>\n",
       "</ol>\n"
      ],
      "text/latex": [
       "\\begin{enumerate*}\n",
       "\\item '29.1\\% (358)'\n",
       "\\item '55.6\\% (684)'\n",
       "\\item '11.5\\% (141)'\n",
       "\\item '3.8\\% (47)'\n",
       "\\end{enumerate*}\n"
      ],
      "text/markdown": [
       "1. '29.1% (358)'\n",
       "2. '55.6% (684)'\n",
       "3. '11.5% (141)'\n",
       "4. '3.8% (47)'\n",
       "\n",
       "\n"
      ],
      "text/plain": [
       "[1] \"29.1% (358)\" \"55.6% (684)\" \"11.5% (141)\" \"3.8% (47)\"  "
      ]
     },
     "metadata": {},
     "output_type": "display_data"
    }
   ],
   "source": [
    "paste(100 * round(table(dat1[dat1$LIT_grp=='yes',]$schlevel_comp)/dim(dat1[dat1$LIT_grp=='yes',])[1],3),\n",
    "      \"% (\",\n",
    "      table(dat1[dat1$LIT_grp=='yes',]$schlevel_comp), \")\",sep='')"
   ]
  },
  {
   "cell_type": "markdown",
   "metadata": {},
   "source": [
    "control"
   ]
  },
  {
   "cell_type": "code",
   "execution_count": 26,
   "metadata": {},
   "outputs": [
    {
     "data": {
      "text/html": [
       "<ol class=list-inline>\n",
       "\t<li>'34.4% (425)'</li>\n",
       "\t<li>'52.7% (651)'</li>\n",
       "\t<li>'10.6% (131)'</li>\n",
       "\t<li>'2.3% (28)'</li>\n",
       "</ol>\n"
      ],
      "text/latex": [
       "\\begin{enumerate*}\n",
       "\\item '34.4\\% (425)'\n",
       "\\item '52.7\\% (651)'\n",
       "\\item '10.6\\% (131)'\n",
       "\\item '2.3\\% (28)'\n",
       "\\end{enumerate*}\n"
      ],
      "text/markdown": [
       "1. '34.4% (425)'\n",
       "2. '52.7% (651)'\n",
       "3. '10.6% (131)'\n",
       "4. '2.3% (28)'\n",
       "\n",
       "\n"
      ],
      "text/plain": [
       "[1] \"34.4% (425)\" \"52.7% (651)\" \"10.6% (131)\" \"2.3% (28)\"  "
      ]
     },
     "metadata": {},
     "output_type": "display_data"
    }
   ],
   "source": [
    "paste(100 * round(table(dat1[dat1$LIT_grp=='no',]$schlevel_comp)/dim(dat1[dat1$LIT_grp=='no',])[1],3),\n",
    "      \"% (\",\n",
    "      table(dat1[dat1$LIT_grp=='no',]$schlevel_comp), \")\",sep='')"
   ]
  },
  {
   "cell_type": "code",
   "execution_count": 27,
   "metadata": {},
   "outputs": [],
   "source": [
    "col1 = c(col1,c('Did not complete primary education',\n",
    "                'Primary',\n",
    "                'Secondary',\n",
    "                'College/degree'))\n",
    "col2 = c(col2, paste(100 * round(table(dat1[dat1$LIT_grp=='yes',]$schlevel_comp)/dim(dat1[dat1$LIT_grp=='yes',])[1],3),\n",
    "                     \"% (\",\n",
    "                     table(dat1[dat1$LIT_grp=='yes',]$schlevel_comp), \")\",sep=''))\n",
    "col3 = c(col3, paste(100 * round(table(dat1[dat1$LIT_grp=='no',]$schlevel_comp)/dim(dat1[dat1$LIT_grp=='no',])[1],3),\n",
    "                     \"% (\",\n",
    "                     table(dat1[dat1$LIT_grp=='no',]$schlevel_comp), \")\",sep=''))"
   ]
  },
  {
   "cell_type": "markdown",
   "metadata": {},
   "source": [
    "#### SES"
   ]
  },
  {
   "cell_type": "code",
   "execution_count": 28,
   "metadata": {},
   "outputs": [],
   "source": [
    "col1 = c(col1, 'Household socioeconomic status (SES)')\n",
    "col2 = c(col2, '')\n",
    "col3 = c(col3, '')"
   ]
  },
  {
   "cell_type": "markdown",
   "metadata": {},
   "source": [
    "intervention"
   ]
  },
  {
   "cell_type": "code",
   "execution_count": 29,
   "metadata": {},
   "outputs": [
    {
     "data": {
      "text/html": [
       "<ol class=list-inline>\n",
       "\t<li>'19% (234)'</li>\n",
       "\t<li>'19.9% (245)'</li>\n",
       "\t<li>'21.1% (259)'</li>\n",
       "\t<li>'19.9% (245)'</li>\n",
       "\t<li>'20.1% (247)'</li>\n",
       "</ol>\n"
      ],
      "text/latex": [
       "\\begin{enumerate*}\n",
       "\\item '19\\% (234)'\n",
       "\\item '19.9\\% (245)'\n",
       "\\item '21.1\\% (259)'\n",
       "\\item '19.9\\% (245)'\n",
       "\\item '20.1\\% (247)'\n",
       "\\end{enumerate*}\n"
      ],
      "text/markdown": [
       "1. '19% (234)'\n",
       "2. '19.9% (245)'\n",
       "3. '21.1% (259)'\n",
       "4. '19.9% (245)'\n",
       "5. '20.1% (247)'\n",
       "\n",
       "\n"
      ],
      "text/plain": [
       "[1] \"19% (234)\"   \"19.9% (245)\" \"21.1% (259)\" \"19.9% (245)\" \"20.1% (247)\""
      ]
     },
     "metadata": {},
     "output_type": "display_data"
    }
   ],
   "source": [
    "paste(100 * round(table(dat1[dat1$LIT_grp=='yes',]$BL_ses)/dim(dat1[dat1$LIT_grp=='yes',])[1],3),\n",
    "      \"% (\",\n",
    "      table(dat1[dat1$LIT_grp=='yes',]$BL_ses), \")\",sep='')"
   ]
  },
  {
   "cell_type": "markdown",
   "metadata": {},
   "source": [
    "control"
   ]
  },
  {
   "cell_type": "code",
   "execution_count": 30,
   "metadata": {},
   "outputs": [
    {
     "data": {
      "text/html": [
       "<ol class=list-inline>\n",
       "\t<li>'26.3% (325)'</li>\n",
       "\t<li>'21.1% (261)'</li>\n",
       "\t<li>'17.7% (219)'</li>\n",
       "\t<li>'18.4% (227)'</li>\n",
       "\t<li>'16.4% (203)'</li>\n",
       "</ol>\n"
      ],
      "text/latex": [
       "\\begin{enumerate*}\n",
       "\\item '26.3\\% (325)'\n",
       "\\item '21.1\\% (261)'\n",
       "\\item '17.7\\% (219)'\n",
       "\\item '18.4\\% (227)'\n",
       "\\item '16.4\\% (203)'\n",
       "\\end{enumerate*}\n"
      ],
      "text/markdown": [
       "1. '26.3% (325)'\n",
       "2. '21.1% (261)'\n",
       "3. '17.7% (219)'\n",
       "4. '18.4% (227)'\n",
       "5. '16.4% (203)'\n",
       "\n",
       "\n"
      ],
      "text/plain": [
       "[1] \"26.3% (325)\" \"21.1% (261)\" \"17.7% (219)\" \"18.4% (227)\" \"16.4% (203)\""
      ]
     },
     "metadata": {},
     "output_type": "display_data"
    }
   ],
   "source": [
    "paste(100 * round(table(dat1[dat1$LIT_grp=='no',]$BL_ses)/dim(dat1[dat1$LIT_grp=='no',])[1],3),\n",
    "      \"% (\",\n",
    "      table(dat1[dat1$LIT_grp=='no',]$BL_ses), \")\",sep='')"
   ]
  },
  {
   "cell_type": "code",
   "execution_count": 31,
   "metadata": {},
   "outputs": [],
   "source": [
    "col1 = c(col1,c('Poorest',\n",
    "                'Poor',\n",
    "                'Median poor',\n",
    "                'Less poor',\n",
    "                'Least poor'))\n",
    "col2 = c(col2, paste(100 * round(table(dat1[dat1$LIT_grp=='yes',]$BL_ses)/dim(dat1[dat1$LIT_grp=='yes',])[1],3),\n",
    "                     \"% (\",\n",
    "                     table(dat1[dat1$LIT_grp=='yes',]$BL_ses), \")\",sep=''))\n",
    "col3 = c(col3, paste(100 * round(table(dat1[dat1$LIT_grp=='no',]$BL_ses)/dim(dat1[dat1$LIT_grp=='no',])[1],3),\n",
    "                     \"% (\",\n",
    "                     table(dat1[dat1$LIT_grp=='no',]$BL_ses), \")\",sep=''))"
   ]
  },
  {
   "cell_type": "markdown",
   "metadata": {},
   "source": [
    "#### Baseline literacy – spelling score (0-20) – mean (sd)"
   ]
  },
  {
   "cell_type": "markdown",
   "metadata": {},
   "source": [
    "intervention"
   ]
  },
  {
   "cell_type": "code",
   "execution_count": 32,
   "metadata": {},
   "outputs": [
    {
     "data": {
      "text/html": [
       "'8.4 (4.6)'"
      ],
      "text/latex": [
       "'8.4 (4.6)'"
      ],
      "text/markdown": [
       "'8.4 (4.6)'"
      ],
      "text/plain": [
       "[1] \"8.4 (4.6)\""
      ]
     },
     "metadata": {},
     "output_type": "display_data"
    }
   ],
   "source": [
    "paste(round(mean(dat1[dat1$LIT_grp=='yes',]$BL_gll21_total),1),\n",
    "      ' (',\n",
    "      round(sd(dat1[dat1$LIT_grp=='yes',]$BL_gll21_total),1),\n",
    "      ')',sep='')"
   ]
  },
  {
   "cell_type": "markdown",
   "metadata": {},
   "source": [
    "control"
   ]
  },
  {
   "cell_type": "code",
   "execution_count": 33,
   "metadata": {},
   "outputs": [
    {
     "data": {
      "text/html": [
       "'7.8 (4.3)'"
      ],
      "text/latex": [
       "'7.8 (4.3)'"
      ],
      "text/markdown": [
       "'7.8 (4.3)'"
      ],
      "text/plain": [
       "[1] \"7.8 (4.3)\""
      ]
     },
     "metadata": {},
     "output_type": "display_data"
    }
   ],
   "source": [
    "paste(round(mean(dat1[dat1$LIT_grp=='no',]$BL_gll21_total),1),\n",
    "      ' (',\n",
    "      round(sd(dat1[dat1$LIT_grp=='no',]$BL_gll21_total),1),\n",
    "      ')',sep='')"
   ]
  },
  {
   "cell_type": "code",
   "execution_count": 34,
   "metadata": {},
   "outputs": [],
   "source": [
    "col1 = c(col1,'Baseline literacy – spelling score (0-20) – mean (sd)')\n",
    "col2 = c(col2, paste(round(mean(dat1[dat1$LIT_grp=='yes',]$BL_gll21_total),1),\n",
    "                     ' (',\n",
    "                     round(sd(dat1[dat1$LIT_grp=='yes',]$BL_gll21_total),1),\n",
    "                     ')',sep=''))\n",
    "col3 = c(col3, paste(round(mean(dat1[dat1$LIT_grp=='no',]$BL_gll21_total),1),\n",
    "                     ' (',\n",
    "                     round(sd(dat1[dat1$LIT_grp=='no',]$BL_gll21_total),1),\n",
    "                     ')',sep=''))"
   ]
  },
  {
   "cell_type": "markdown",
   "metadata": {},
   "source": [
    "#### Outcome at 9-month follow-up "
   ]
  },
  {
   "cell_type": "code",
   "execution_count": 35,
   "metadata": {},
   "outputs": [],
   "source": [
    "col1 = c(col1, 'Outcome at 9-month follow-up ')\n",
    "col2 = c(col2,' ')\n",
    "col3 = c(col3,' ')"
   ]
  },
  {
   "cell_type": "markdown",
   "metadata": {},
   "source": [
    "intervention"
   ]
  },
  {
   "cell_type": "code",
   "execution_count": 36,
   "metadata": {},
   "outputs": [
    {
     "data": {
      "text/html": [
       "'52.4% (644)'"
      ],
      "text/latex": [
       "'52.4\\% (644)'"
      ],
      "text/markdown": [
       "'52.4% (644)'"
      ],
      "text/plain": [
       "[1] \"52.4% (644)\""
      ]
     },
     "metadata": {},
     "output_type": "display_data"
    }
   ],
   "source": [
    "paste(100 * round(sum(dat1[dat1$LIT_grp=='yes',]$gll21_total > 10,na.rm = TRUE)/\n",
    "                    dim(dat1[dat1$LIT_grp=='yes', ])[1],3),\n",
    "      \"% (\",\n",
    "      sum(dat1[dat1$LIT_grp=='yes',]$gll21_total > 10,na.rm = TRUE),\")\",sep='')"
   ]
  },
  {
   "cell_type": "markdown",
   "metadata": {},
   "source": [
    "control"
   ]
  },
  {
   "cell_type": "code",
   "execution_count": 37,
   "metadata": {},
   "outputs": [
    {
     "data": {
      "text/html": [
       "'39.5% (488)'"
      ],
      "text/latex": [
       "'39.5\\% (488)'"
      ],
      "text/markdown": [
       "'39.5% (488)'"
      ],
      "text/plain": [
       "[1] \"39.5% (488)\""
      ]
     },
     "metadata": {},
     "output_type": "display_data"
    }
   ],
   "source": [
    "paste(100 * round(sum(dat1[dat1$LIT_grp=='no',]$gll21_total > 10,na.rm = TRUE)/\n",
    "                    dim(dat1[dat1$LIT_grp=='no', ])[1],3),\n",
    "      \"% (\",\n",
    "      sum(dat1[dat1$LIT_grp=='no',]$gll21_total > 10,na.rm = TRUE),\")\",sep='')"
   ]
  },
  {
   "cell_type": "code",
   "execution_count": 38,
   "metadata": {},
   "outputs": [],
   "source": [
    "col1 = c(col1,'High literacy (spelling score > 10)')\n",
    "col2 = c(col2, paste(100 * round(sum(dat1[dat1$LIT_grp=='yes',]$gll21_total > 10,na.rm = TRUE)/\n",
    "                                   dim(dat1[dat1$LIT_grp=='yes', ])[1],3),\n",
    "                     \"% (\",\n",
    "                     sum(dat1[dat1$LIT_grp=='yes',]$gll21_total > 10,na.rm = TRUE),\")\",sep=''))\n",
    "col3 = c(col3, paste(100 * round(sum(dat1[dat1$LIT_grp=='no',]$gll21_total > 10,na.rm = TRUE)/\n",
    "                                   dim(dat1[dat1$LIT_grp=='no', ])[1],3),\n",
    "                     \"% (\",\n",
    "                     sum(dat1[dat1$LIT_grp=='no',]$gll21_total > 10,na.rm = TRUE),\")\",sep=''))\n"
   ]
  },
  {
   "cell_type": "markdown",
   "metadata": {},
   "source": [
    "#### Missing outcome"
   ]
  },
  {
   "cell_type": "markdown",
   "metadata": {},
   "source": [
    "intervention"
   ]
  },
  {
   "cell_type": "code",
   "execution_count": 39,
   "metadata": {},
   "outputs": [
    {
     "data": {
      "text/html": [
       "'12.4% (152)'"
      ],
      "text/latex": [
       "'12.4\\% (152)'"
      ],
      "text/markdown": [
       "'12.4% (152)'"
      ],
      "text/plain": [
       "[1] \"12.4% (152)\""
      ]
     },
     "metadata": {},
     "output_type": "display_data"
    }
   ],
   "source": [
    "paste(100 * round(sum(is.na(dat1[dat1$LIT_grp=='yes',]$gll21_total))/ \n",
    "                    dim(dat1[dat1$LIT_grp=='yes',])[1],3),\n",
    "      '% (',\n",
    "      sum(is.na(dat1[dat1$LIT_grp=='yes',]$gll21_total)), \")\",sep='')"
   ]
  },
  {
   "cell_type": "markdown",
   "metadata": {},
   "source": [
    "control"
   ]
  },
  {
   "cell_type": "code",
   "execution_count": 40,
   "metadata": {},
   "outputs": [
    {
     "data": {
      "text/html": [
       "'11.6% (143)'"
      ],
      "text/latex": [
       "'11.6\\% (143)'"
      ],
      "text/markdown": [
       "'11.6% (143)'"
      ],
      "text/plain": [
       "[1] \"11.6% (143)\""
      ]
     },
     "metadata": {},
     "output_type": "display_data"
    }
   ],
   "source": [
    "paste(100 * round(sum(is.na(dat1[dat1$LIT_grp=='no',]$gll21_total))/ \n",
    "                    dim(dat1[dat1$LIT_grp=='no',])[1],3),\n",
    "      '% (',\n",
    "      sum(is.na(dat1[dat1$LIT_grp=='no',]$gll21_total)), \")\",sep='')"
   ]
  },
  {
   "cell_type": "code",
   "execution_count": 42,
   "metadata": {},
   "outputs": [],
   "source": [
    "col1 = c(col1,'Missing outcome')\n",
    "col2 = c(col2, paste(100 * round(sum(is.na(dat1[dat1$LIT_grp=='yes',]$gll21_total))/ \n",
    "                    dim(dat1[dat1$LIT_grp=='yes',])[1],3),\n",
    "      '% (',\n",
    "      sum(is.na(dat1[dat1$LIT_grp=='yes',]$gll21_total)), \")\",sep=''))\n",
    "col3 = c(col3, paste(100 * round(sum(is.na(dat1[dat1$LIT_grp=='no',]$gll21_total))/ \n",
    "                    dim(dat1[dat1$LIT_grp=='no',])[1],3),\n",
    "      '% (',\n",
    "      sum(is.na(dat1[dat1$LIT_grp=='no',]$gll21_total)), \")\",sep=''))"
   ]
  },
  {
   "cell_type": "markdown",
   "metadata": {},
   "source": [
    "### Combine the results to draw table:"
   ]
  },
  {
   "cell_type": "code",
   "execution_count": 43,
   "metadata": {
    "scrolled": false
   },
   "outputs": [
    {
     "data": {
      "text/html": [
       "<table>\n",
       "<thead><tr><th scope=col></th><th scope=col>Intervention\n",
       "(n=1230)</th><th scope=col>Control\n",
       "(n=1235)</th></tr></thead>\n",
       "<tbody>\n",
       "\t<tr><td>Baseline cluster characteristics                       </td><td>                                                       </td><td>                                                       </td></tr>\n",
       "\t<tr><td>Number                                                 </td><td>51                                                     </td><td>50                                                     </td></tr>\n",
       "\t<tr><td>Cluster Size – mean (SD)                              </td><td>24.1 (3.3)                                             </td><td>24.7 (1.9)                                             </td></tr>\n",
       "\t<tr><td>Baseline child-level characteristics - % (n)           </td><td>                                                       </td><td>                                                       </td></tr>\n",
       "\t<tr><td>Female                                                 </td><td>47.9% (589)                                            </td><td>49.5% (611)                                            </td></tr>\n",
       "\t<tr><td>Age – mean (sd)                                       </td><td>7.7 (1.7)                                              </td><td>7.9 (1.7)                                              </td></tr>\n",
       "\t<tr><td>Household head education                               </td><td>                                                       </td><td>                                                       </td></tr>\n",
       "\t<tr><td>Did not complete primary education                     </td><td>29.1% (358)                                            </td><td>34.4% (425)                                            </td></tr>\n",
       "\t<tr><td>Primary                                                </td><td>55.6% (684)                                            </td><td>52.7% (651)                                            </td></tr>\n",
       "\t<tr><td>Secondary                                              </td><td>11.5% (141)                                            </td><td>10.6% (131)                                            </td></tr>\n",
       "\t<tr><td>College/degree                                         </td><td>3.8% (47)                                              </td><td>2.3% (28)                                              </td></tr>\n",
       "\t<tr><td>Household socioeconomic status (SES)                   </td><td>                                                       </td><td>                                                       </td></tr>\n",
       "\t<tr><td>Poorest                                                </td><td>19% (234)                                              </td><td>26.3% (325)                                            </td></tr>\n",
       "\t<tr><td>Poor                                                   </td><td>19.9% (245)                                            </td><td>21.1% (261)                                            </td></tr>\n",
       "\t<tr><td>Median poor                                            </td><td>21.1% (259)                                            </td><td>17.7% (219)                                            </td></tr>\n",
       "\t<tr><td>Less poor                                              </td><td>19.9% (245)                                            </td><td>18.4% (227)                                            </td></tr>\n",
       "\t<tr><td>Least poor                                             </td><td>20.1% (247)                                            </td><td>16.4% (203)                                            </td></tr>\n",
       "\t<tr><td>Baseline literacy – spelling score (0-20) – mean (sd)</td><td>8.4 (4.6)                                              </td><td>7.8 (4.3)                                              </td></tr>\n",
       "\t<tr><td>Outcome at 9-month follow-up                           </td><td>                                                       </td><td>                                                       </td></tr>\n",
       "\t<tr><td><span style=white-space:pre-wrap>High literacy (spelling score &gt; 10)                    </span></td><td>52.4% (644)                                                                                       </td><td>39.5% (488)                                                                                       </td></tr>\n",
       "\t<tr><td>Missing outcome                                        </td><td>12.4% (152)                                            </td><td>11.6% (143)                                            </td></tr>\n",
       "</tbody>\n",
       "</table>\n"
      ],
      "text/latex": [
       "\\begin{tabular}{r|lll}\n",
       "  & Intervention\n",
       "(n=1230) & Control\n",
       "(n=1235)\\\\\n",
       "\\hline\n",
       "\t Baseline cluster characteristics                        &                                                         &                                                        \\\\\n",
       "\t Number                                                  & 51                                                      & 50                                                     \\\\\n",
       "\t Cluster Size – mean (SD)                               & 24.1 (3.3)                                              & 24.7 (1.9)                                             \\\\\n",
       "\t Baseline child-level characteristics - \\% (n)            &                                                           &                                                          \\\\\n",
       "\t Female                                                  & 47.9\\% (589)                                           & 49.5\\% (611)                                          \\\\\n",
       "\t Age – mean (sd)                                        & 7.7 (1.7)                                               & 7.9 (1.7)                                              \\\\\n",
       "\t Household head education                                &                                                         &                                                        \\\\\n",
       "\t Did not complete primary education                      & 29.1\\% (358)                                           & 34.4\\% (425)                                          \\\\\n",
       "\t Primary                                                 & 55.6\\% (684)                                           & 52.7\\% (651)                                          \\\\\n",
       "\t Secondary                                               & 11.5\\% (141)                                           & 10.6\\% (131)                                          \\\\\n",
       "\t College/degree                                          & 3.8\\% (47)                                             & 2.3\\% (28)                                            \\\\\n",
       "\t Household socioeconomic status (SES)                    &                                                         &                                                        \\\\\n",
       "\t Poorest                                                 & 19\\% (234)                                             & 26.3\\% (325)                                          \\\\\n",
       "\t Poor                                                    & 19.9\\% (245)                                           & 21.1\\% (261)                                          \\\\\n",
       "\t Median poor                                             & 21.1\\% (259)                                           & 17.7\\% (219)                                          \\\\\n",
       "\t Less poor                                               & 19.9\\% (245)                                           & 18.4\\% (227)                                          \\\\\n",
       "\t Least poor                                              & 20.1\\% (247)                                           & 16.4\\% (203)                                          \\\\\n",
       "\t Baseline literacy – spelling score (0-20) – mean (sd) & 8.4 (4.6)                                               & 7.8 (4.3)                                              \\\\\n",
       "\t Outcome at 9-month follow-up                            &                                                         &                                                        \\\\\n",
       "\t High literacy (spelling score > 10)                     & 52.4\\% (644)                                           & 39.5\\% (488)                                          \\\\\n",
       "\t Missing outcome                                         & 12.4\\% (152)                                           & 11.6\\% (143)                                          \\\\\n",
       "\\end{tabular}\n"
      ],
      "text/markdown": [
       "\n",
       " | Intervention\n",
       "(n=1230) | Control\n",
       "(n=1235) | \n",
       "|---|---|---|---|---|---|---|---|---|---|---|---|---|---|---|---|---|---|---|---|---|\n",
       "| Baseline cluster characteristics                        |                                                         |                                                         | \n",
       "| Number                                                  | 51                                                      | 50                                                      | \n",
       "| Cluster Size – mean (SD)                               | 24.1 (3.3)                                              | 24.7 (1.9)                                              | \n",
       "| Baseline child-level characteristics - % (n)            |                                                         |                                                         | \n",
       "| Female                                                  | 47.9% (589)                                             | 49.5% (611)                                             | \n",
       "| Age – mean (sd)                                        | 7.7 (1.7)                                               | 7.9 (1.7)                                               | \n",
       "| Household head education                                |                                                         |                                                         | \n",
       "| Did not complete primary education                      | 29.1% (358)                                             | 34.4% (425)                                             | \n",
       "| Primary                                                 | 55.6% (684)                                             | 52.7% (651)                                             | \n",
       "| Secondary                                               | 11.5% (141)                                             | 10.6% (131)                                             | \n",
       "| College/degree                                          | 3.8% (47)                                               | 2.3% (28)                                               | \n",
       "| Household socioeconomic status (SES)                    |                                                         |                                                         | \n",
       "| Poorest                                                 | 19% (234)                                               | 26.3% (325)                                             | \n",
       "| Poor                                                    | 19.9% (245)                                             | 21.1% (261)                                             | \n",
       "| Median poor                                             | 21.1% (259)                                             | 17.7% (219)                                             | \n",
       "| Less poor                                               | 19.9% (245)                                             | 18.4% (227)                                             | \n",
       "| Least poor                                              | 20.1% (247)                                             | 16.4% (203)                                             | \n",
       "| Baseline literacy – spelling score (0-20) – mean (sd) | 8.4 (4.6)                                               | 7.8 (4.3)                                               | \n",
       "| Outcome at 9-month follow-up                            |                                                         |                                                         | \n",
       "| High literacy (spelling score > 10)                     | 52.4% (644)                                             | 39.5% (488)                                             | \n",
       "| Missing outcome                                         | 12.4% (152)                                             | 11.6% (143)                                             | \n",
       "\n",
       "\n"
      ],
      "text/plain": [
       "                                                          \n",
       "1  Baseline cluster characteristics                       \n",
       "2  Number                                                 \n",
       "3  Cluster Size – mean (SD)                              \n",
       "4  Baseline child-level characteristics - % (n)           \n",
       "5  Female                                                 \n",
       "6  Age – mean (sd)                                       \n",
       "7  Household head education                               \n",
       "8  Did not complete primary education                     \n",
       "9  Primary                                                \n",
       "10 Secondary                                              \n",
       "11 College/degree                                         \n",
       "12 Household socioeconomic status (SES)                   \n",
       "13 Poorest                                                \n",
       "14 Poor                                                   \n",
       "15 Median poor                                            \n",
       "16 Less poor                                              \n",
       "17 Least poor                                             \n",
       "18 Baseline literacy – spelling score (0-20) – mean (sd)\n",
       "19 Outcome at 9-month follow-up                           \n",
       "20 High literacy (spelling score > 10)                    \n",
       "21 Missing outcome                                        \n",
       "   Intervention\\n(n=1230) Control\\n(n=1235)\n",
       "1                                          \n",
       "2  51                     50               \n",
       "3  24.1 (3.3)             24.7 (1.9)       \n",
       "4                                          \n",
       "5  47.9% (589)            49.5% (611)      \n",
       "6  7.7 (1.7)              7.9 (1.7)        \n",
       "7                                          \n",
       "8  29.1% (358)            34.4% (425)      \n",
       "9  55.6% (684)            52.7% (651)      \n",
       "10 11.5% (141)            10.6% (131)      \n",
       "11 3.8% (47)              2.3% (28)        \n",
       "12                                         \n",
       "13 19% (234)              26.3% (325)      \n",
       "14 19.9% (245)            21.1% (261)      \n",
       "15 21.1% (259)            17.7% (219)      \n",
       "16 19.9% (245)            18.4% (227)      \n",
       "17 20.1% (247)            16.4% (203)      \n",
       "18 8.4 (4.6)              7.8 (4.3)        \n",
       "19                                         \n",
       "20 52.4% (644)            39.5% (488)      \n",
       "21 12.4% (152)            11.6% (143)      "
      ]
     },
     "metadata": {},
     "output_type": "display_data"
    }
   ],
   "source": [
    "table_1a = data.frame(col1, col2, col3)\n",
    "colnames(table_1a) = c('',\n",
    "                       'Intervention\\n(n=1230)',\n",
    "                       'Control\\n(n=1235)')\n",
    "table_1a"
   ]
  },
  {
   "cell_type": "code",
   "execution_count": null,
   "metadata": {},
   "outputs": [],
   "source": []
  }
 ],
 "metadata": {
  "kernelspec": {
   "display_name": "R",
   "language": "R",
   "name": "ir"
  },
  "language_info": {
   "codemirror_mode": "r",
   "file_extension": ".r",
   "mimetype": "text/x-r-source",
   "name": "R",
   "pygments_lexer": "r",
   "version": "3.4.3"
  }
 },
 "nbformat": 4,
 "nbformat_minor": 2
}
