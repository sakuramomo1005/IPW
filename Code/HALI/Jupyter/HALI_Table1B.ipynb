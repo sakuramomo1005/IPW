{
 "cells": [
  {
   "cell_type": "markdown",
   "metadata": {},
   "source": [
    "# HALI Data Analysis\n",
    "\n",
    "#### Estimated intervention effects under five different GEE approaches (with robust SE and exchangeable working correlation matrix)\n",
    "\n",
    "* Draw table 1B\n",
    "\n",
    "* Draw table S1"
   ]
  },
  {
   "cell_type": "code",
   "execution_count": 54,
   "metadata": {
    "scrolled": true
   },
   "outputs": [
    {
     "data": {
      "text/html": [
       "<table>\n",
       "<thead><tr><th scope=col>Method</th><th scope=col>Estimated</th><th scope=col>SE</th><th scope=col>Confidence Interval</th><th scope=col>p-value</th></tr></thead>\n",
       "<tbody>\n",
       "\t<tr><td>CRA-GEE     </td><td>1.82        </td><td>0.19        </td><td>(1.26, 2.65)</td><td>0.002       </td></tr>\n",
       "\t<tr><td>A-CRA-GEE   </td><td>1.93        </td><td>0.17        </td><td>(1.38, 2.71)</td><td>&lt;0.001   </td></tr>\n",
       "\t<tr><td>W-GEE       </td><td>1.80        </td><td>0.19        </td><td>(1.23, 2.62)</td><td>0.002       </td></tr>\n",
       "\t<tr><td>CW-GEE      </td><td>1.83        </td><td>0.19        </td><td>(1.26, 2.65)</td><td>0.001       </td></tr>\n",
       "\t<tr><td>MMI-GEE     </td><td>1.81        </td><td>0.19        </td><td>(1.25, 2.63)</td><td>0.002       </td></tr>\n",
       "</tbody>\n",
       "</table>\n"
      ],
      "text/latex": [
       "\\begin{tabular}{lllll}\n",
       " Method & Estimated & SE & Confidence Interval & p-value\\\\\n",
       "\\hline\n",
       "\t CRA-GEE      & 1.82         & 0.19         & (1.26, 2.65) & 0.002       \\\\\n",
       "\t A-CRA-GEE    & 1.93         & 0.17         & (1.38, 2.71) & <0.001      \\\\\n",
       "\t W-GEE        & 1.80         & 0.19         & (1.23, 2.62) & 0.002       \\\\\n",
       "\t CW-GEE       & 1.83         & 0.19         & (1.26, 2.65) & 0.001       \\\\\n",
       "\t MMI-GEE      & 1.81         & 0.19         & (1.25, 2.63) & 0.002       \\\\\n",
       "\\end{tabular}\n"
      ],
      "text/markdown": [
       "\n",
       "Method | Estimated | SE | Confidence Interval | p-value | \n",
       "|---|---|---|---|---|\n",
       "| CRA-GEE      | 1.82         | 0.19         | (1.26, 2.65) | 0.002        | \n",
       "| A-CRA-GEE    | 1.93         | 0.17         | (1.38, 2.71) | <0.001       | \n",
       "| W-GEE        | 1.80         | 0.19         | (1.23, 2.62) | 0.002        | \n",
       "| CW-GEE       | 1.83         | 0.19         | (1.26, 2.65) | 0.001        | \n",
       "| MMI-GEE      | 1.81         | 0.19         | (1.25, 2.63) | 0.002        | \n",
       "\n",
       "\n"
      ],
      "text/plain": [
       "     Method    Estimated SE   Confidence Interval p-value\n",
       "[1,] CRA-GEE   1.82      0.19 (1.26, 2.65)        0.002  \n",
       "[2,] A-CRA-GEE 1.93      0.17 (1.38, 2.71)        <0.001 \n",
       "[3,] W-GEE     1.80      0.19 (1.23, 2.62)        0.002  \n",
       "[4,] CW-GEE    1.83      0.19 (1.26, 2.65)        0.001  \n",
       "[5,] MMI-GEE   1.81      0.19 (1.25, 2.63)        0.002  "
      ]
     },
     "metadata": {},
     "output_type": "display_data"
    }
   ],
   "source": [
    "table_1b"
   ]
  },
  {
   "cell_type": "code",
   "execution_count": 51,
   "metadata": {
    "scrolled": true
   },
   "outputs": [
    {
     "data": {
      "text/html": [
       "<table>\n",
       "<thead><tr><th scope=col>Method</th><th scope=col>Estimated</th><th scope=col>SE</th><th scope=col>Confidence Interval</th><th scope=col>p-value</th><th scope=col>Estimated</th><th scope=col>SE</th><th scope=col>Confidence Interval</th><th scope=col>p-value</th></tr></thead>\n",
       "<tbody>\n",
       "\t<tr><td>CRA-GEE     </td><td>1.82        </td><td>0.19        </td><td>(1.26, 2.65)</td><td>0.002       </td><td>1.84        </td><td>0.19        </td><td>(1.27, 2.66)</td><td>0.001       </td></tr>\n",
       "\t<tr><td>A-CRA-GEE   </td><td>1.93        </td><td>0.17        </td><td>(1.38, 2.71)</td><td>&lt;0.001   </td><td>1.92        </td><td>0.17        </td><td>(1.37, 2.68)</td><td>&lt;0.001   </td></tr>\n",
       "\t<tr><td>W-GEE       </td><td>1.80        </td><td>0.19        </td><td>(1.23, 2.62)</td><td>0.002       </td><td>1.81        </td><td>0.19        </td><td>(1.24, 2.63)</td><td>0.002       </td></tr>\n",
       "\t<tr><td>CW-GEE      </td><td>1.83        </td><td>0.19        </td><td>(1.26, 2.65)</td><td>0.001       </td><td>1.83        </td><td>0.19        </td><td>(1.26, 2.65)</td><td>0.002       </td></tr>\n",
       "\t<tr><td>MMI-GEE     </td><td>1.81        </td><td>0.19        </td><td>(1.25, 2.63)</td><td>0.002       </td><td>1.79        </td><td>0.19        </td><td>(1.23, 2.60)</td><td>0.002       </td></tr>\n",
       "</tbody>\n",
       "</table>\n"
      ],
      "text/latex": [
       "\\begin{tabular}{lllllllll}\n",
       " Method & Estimated & SE & Confidence Interval & p-value & Estimated & SE & Confidence Interval & p-value\\\\\n",
       "\\hline\n",
       "\t CRA-GEE      & 1.82         & 0.19         & (1.26, 2.65) & 0.002        & 1.84         & 0.19         & (1.27, 2.66) & 0.001       \\\\\n",
       "\t A-CRA-GEE    & 1.93         & 0.17         & (1.38, 2.71) & <0.001       & 1.92         & 0.17         & (1.37, 2.68) & <0.001      \\\\\n",
       "\t W-GEE        & 1.80         & 0.19         & (1.23, 2.62) & 0.002        & 1.81         & 0.19         & (1.24, 2.63) & 0.002       \\\\\n",
       "\t CW-GEE       & 1.83         & 0.19         & (1.26, 2.65) & 0.001        & 1.83         & 0.19         & (1.26, 2.65) & 0.002       \\\\\n",
       "\t MMI-GEE      & 1.81         & 0.19         & (1.25, 2.63) & 0.002        & 1.79         & 0.19         & (1.23, 2.60) & 0.002       \\\\\n",
       "\\end{tabular}\n"
      ],
      "text/markdown": [
       "\n",
       "Method | Estimated | SE | Confidence Interval | p-value | Estimated | SE | Confidence Interval | p-value | \n",
       "|---|---|---|---|---|\n",
       "| CRA-GEE      | 1.82         | 0.19         | (1.26, 2.65) | 0.002        | 1.84         | 0.19         | (1.27, 2.66) | 0.001        | \n",
       "| A-CRA-GEE    | 1.93         | 0.17         | (1.38, 2.71) | <0.001       | 1.92         | 0.17         | (1.37, 2.68) | <0.001       | \n",
       "| W-GEE        | 1.80         | 0.19         | (1.23, 2.62) | 0.002        | 1.81         | 0.19         | (1.24, 2.63) | 0.002        | \n",
       "| CW-GEE       | 1.83         | 0.19         | (1.26, 2.65) | 0.001        | 1.83         | 0.19         | (1.26, 2.65) | 0.002        | \n",
       "| MMI-GEE      | 1.81         | 0.19         | (1.25, 2.63) | 0.002        | 1.79         | 0.19         | (1.23, 2.60) | 0.002        | \n",
       "\n",
       "\n"
      ],
      "text/plain": [
       "     Method    Estimated SE   Confidence Interval p-value Estimated SE  \n",
       "[1,] CRA-GEE   1.82      0.19 (1.26, 2.65)        0.002   1.84      0.19\n",
       "[2,] A-CRA-GEE 1.93      0.17 (1.38, 2.71)        <0.001  1.92      0.17\n",
       "[3,] W-GEE     1.80      0.19 (1.23, 2.62)        0.002   1.81      0.19\n",
       "[4,] CW-GEE    1.83      0.19 (1.26, 2.65)        0.001   1.83      0.19\n",
       "[5,] MMI-GEE   1.81      0.19 (1.25, 2.63)        0.002   1.79      0.19\n",
       "     Confidence Interval p-value\n",
       "[1,] (1.27, 2.66)        0.001  \n",
       "[2,] (1.37, 2.68)        <0.001 \n",
       "[3,] (1.24, 2.63)        0.002  \n",
       "[4,] (1.26, 2.65)        0.002  \n",
       "[5,] (1.23, 2.60)        0.002  "
      ]
     },
     "metadata": {},
     "output_type": "display_data"
    }
   ],
   "source": [
    "table_s1"
   ]
  },
  {
   "cell_type": "markdown",
   "metadata": {},
   "source": [
    "# Code Detail"
   ]
  },
  {
   "cell_type": "code",
   "execution_count": 1,
   "metadata": {},
   "outputs": [],
   "source": [
    "# install.packages('readstata13')\n",
    "# install.packages('geeM')\n",
    "# install.packages('jomo')\n",
    "# install.packages('knitr')"
   ]
  },
  {
   "cell_type": "code",
   "execution_count": 3,
   "metadata": {},
   "outputs": [],
   "source": [
    "library(readstata13) # library for read in the dataset\n",
    "library(lme4) # library for GLM\n",
    "library(geeM)\n",
    "library(jomo)\n",
    "library(knitr)"
   ]
  },
  {
   "cell_type": "markdown",
   "metadata": {},
   "source": [
    "### Read in data\n",
    "\n",
    "the full dataset named dat"
   ]
  },
  {
   "cell_type": "code",
   "execution_count": 4,
   "metadata": {},
   "outputs": [],
   "source": [
    "setwd('/Users/yaolanqiu/Documents/HALI/DATA')\n",
    "dat <- read.dta13('HALI_CLASS1_2539_MASTER_EDUC_FU1_FU2_LONG_accounts_withdrawals_BL_AS_COV_AND_OTHER_COV_17.11.2016.dta',\n",
    "                  nonint.factors = TRUE, generate.factors=TRUE)"
   ]
  },
  {
   "cell_type": "code",
   "execution_count": 5,
   "metadata": {},
   "outputs": [
    {
     "data": {
      "text/html": [
       "<ol class=list-inline>\n",
       "\t<li>5078</li>\n",
       "\t<li>220</li>\n",
       "</ol>\n"
      ],
      "text/latex": [
       "\\begin{enumerate*}\n",
       "\\item 5078\n",
       "\\item 220\n",
       "\\end{enumerate*}\n"
      ],
      "text/markdown": [
       "1. 5078\n",
       "2. 220\n",
       "\n",
       "\n"
      ],
      "text/plain": [
       "[1] 5078  220"
      ]
     },
     "metadata": {},
     "output_type": "display_data"
    }
   ],
   "source": [
    "dim(dat)"
   ]
  },
  {
   "cell_type": "markdown",
   "metadata": {},
   "source": [
    "### we only focused on 9 month data\n",
    "\n",
    "the data with only 9 month named data0"
   ]
  },
  {
   "cell_type": "code",
   "execution_count": 6,
   "metadata": {
    "scrolled": true
   },
   "outputs": [
    {
     "data": {
      "text/html": [
       "<ol class=list-inline>\n",
       "\t<li>2539</li>\n",
       "\t<li>220</li>\n",
       "</ol>\n"
      ],
      "text/latex": [
       "\\begin{enumerate*}\n",
       "\\item 2539\n",
       "\\item 220\n",
       "\\end{enumerate*}\n"
      ],
      "text/markdown": [
       "1. 2539\n",
       "2. 220\n",
       "\n",
       "\n"
      ],
      "text/plain": [
       "[1] 2539  220"
      ]
     },
     "metadata": {},
     "output_type": "display_data"
    }
   ],
   "source": [
    "data0 <- dat[dat$visit=='9-month FU',]\n",
    "dim(data0) # 2539 220"
   ]
  },
  {
   "cell_type": "markdown",
   "metadata": {},
   "source": [
    "### select the input variables"
   ]
  },
  {
   "cell_type": "code",
   "execution_count": 7,
   "metadata": {},
   "outputs": [
    {
     "data": {
      "text/html": [
       "<ol class=list-inline>\n",
       "\t<li>2539</li>\n",
       "\t<li>8</li>\n",
       "</ol>\n"
      ],
      "text/latex": [
       "\\begin{enumerate*}\n",
       "\\item 2539\n",
       "\\item 8\n",
       "\\end{enumerate*}\n"
      ],
      "text/markdown": [
       "1. 2539\n",
       "2. 8\n",
       "\n",
       "\n"
      ],
      "text/plain": [
       "[1] 2539    8"
      ]
     },
     "metadata": {},
     "output_type": "display_data"
    }
   ],
   "source": [
    "dat0 <- data0[,c(\"school_id\",\"LIT_grp\",\n",
    "                 \"BL_gll21_total\", 'age_child','sex',\n",
    "                 'schlevel_comp',\"BL_ses\",\n",
    "                 \"gll21_total\")]\n",
    "rownames(dat0) <- NULL\n",
    "dim(dat0) # 2539 8"
   ]
  },
  {
   "cell_type": "markdown",
   "metadata": {},
   "source": [
    "### remove the data with missing covariates "
   ]
  },
  {
   "cell_type": "code",
   "execution_count": 8,
   "metadata": {},
   "outputs": [
    {
     "data": {
      "text/html": [
       "<ol class=list-inline>\n",
       "\t<li>2465</li>\n",
       "\t<li>8</li>\n",
       "</ol>\n"
      ],
      "text/latex": [
       "\\begin{enumerate*}\n",
       "\\item 2465\n",
       "\\item 8\n",
       "\\end{enumerate*}\n"
      ],
      "text/markdown": [
       "1. 2465\n",
       "2. 8\n",
       "\n",
       "\n"
      ],
      "text/plain": [
       "[1] 2465    8"
      ]
     },
     "metadata": {},
     "output_type": "display_data"
    }
   ],
   "source": [
    "dat1 = dat0[(is.na(dat0$school_id) == 0 & \n",
    "      is.na(dat0$LIT_grp) == 0 &\n",
    "      is.na(dat0$BL_gll21_total) == 0 &\n",
    "      is.na(dat0$age_child)== 0 & \n",
    "      is.na(dat0$sex) == 0 & \n",
    "      is.na(dat0$schlevel_comp) == 0 &\n",
    "      is.na(dat0$BL_ses) ==0) ,]\n",
    "rownames(dat1) = NULL\n",
    "dim(dat1) # 2465 8"
   ]
  },
  {
   "cell_type": "markdown",
   "metadata": {},
   "source": [
    "# Draw table 1b"
   ]
  },
  {
   "cell_type": "markdown",
   "metadata": {},
   "source": [
    "#### The formula we will use:\n",
    "\n"
   ]
  },
  {
   "cell_type": "code",
   "execution_count": 9,
   "metadata": {},
   "outputs": [],
   "source": [
    "# formula for GEE\n",
    "formula1 = y ~ LIT_grp\n",
    "formula2 = y ~ LIT_grp + BL_gll21_total + \n",
    "               age_child + sex + schlevel_comp + BL_ses\n",
    "\n",
    "# formula to calculate the weights \n",
    "formula3 = missing ~ LIT_grp + BL_gll21_total + \n",
    "                     age_child + sex + schlevel_comp + \n",
    "                     BL_ses\n",
    "formula4 = missing ~ LIT_grp + BL_gll21_total + \n",
    "                     age_child + sex + schlevel_comp + \n",
    "                     BL_ses + (1 | school_id)"
   ]
  },
  {
   "cell_type": "markdown",
   "metadata": {},
   "source": [
    "Add misisng indicator"
   ]
  },
  {
   "cell_type": "code",
   "execution_count": 10,
   "metadata": {},
   "outputs": [],
   "source": [
    "dat1$missing = is.na(dat1$gll21_total)"
   ]
  },
  {
   "cell_type": "markdown",
   "metadata": {},
   "source": [
    "High literacy indicator"
   ]
  },
  {
   "cell_type": "code",
   "execution_count": 11,
   "metadata": {},
   "outputs": [],
   "source": [
    "y = ifelse(dat1$gll21_total>10,1,0)\n",
    "dat1$y = y"
   ]
  },
  {
   "cell_type": "markdown",
   "metadata": {},
   "source": [
    " Empty vectors that save results later"
   ]
  },
  {
   "cell_type": "code",
   "execution_count": 12,
   "metadata": {},
   "outputs": [],
   "source": [
    "means <- c();sds <- c();cis <- c();ps <- c()"
   ]
  },
  {
   "cell_type": "markdown",
   "metadata": {},
   "source": [
    "## CRA-GEE"
   ]
  },
  {
   "cell_type": "markdown",
   "metadata": {},
   "source": [
    "#### independent working correlation matrix "
   ]
  },
  {
   "cell_type": "code",
   "execution_count": 13,
   "metadata": {},
   "outputs": [
    {
     "data": {
      "text/plain": [
       "            Estimates Model SE Robust SE   wald        p\n",
       "(Intercept)   -0.2133   0.0609    0.1184 -1.801 0.071640\n",
       "LIT_grpyes     0.6079   0.0870    0.1887  3.221 0.001275\n",
       "\n",
       " Estimated Correlation Parameter:  0 \n",
       " Correlation Structure:  independence \n",
       " Est. Scale Parameter:  1.001 \n",
       "\n",
       " Number of GEE iterations: 2 \n",
       " Number of Clusters:  101    Maximum Cluster Size:  27 \n",
       " Number of observations with nonzero weight:  2170 "
      ]
     },
     "metadata": {},
     "output_type": "display_data"
    }
   ],
   "source": [
    "ucra_ind <- geem(formula1,id = school_id, \n",
    "                 data = dat1,\n",
    "                 family =  binomial(\"logit\"),\n",
    "                 corstr = \"independence\")\n",
    "summary(ucra_ind)"
   ]
  },
  {
   "cell_type": "code",
   "execution_count": 14,
   "metadata": {},
   "outputs": [],
   "source": [
    "# save the results \n",
    "m <- summary(ucra_ind)$beta[2]\n",
    "s <- summary(ucra_ind)$se.robust[2]\n",
    "p <- summary(ucra_ind)$p[2]\n",
    "ciu <- m-1.96*s; cil <- m+1.96*s\n",
    "\n",
    "# save results \n",
    "means <- c(means,exp(m))\n",
    "sds <- c(sds,s)\n",
    "ps <- c(ps,p)\n",
    "ciu <- formatC(exp(ciu),2,format=\"f\"); cil <- formatC(exp(cil),2,format=\"f\")\n",
    "cis <- c(cis,paste('(',ciu,', ',cil,')',sep=''))"
   ]
  },
  {
   "cell_type": "markdown",
   "metadata": {},
   "source": [
    "#### exchangeable working correlation matrix"
   ]
  },
  {
   "cell_type": "code",
   "execution_count": 15,
   "metadata": {
    "scrolled": true
   },
   "outputs": [
    {
     "data": {
      "text/plain": [
       "            Estimates Model SE Robust SE   wald        p\n",
       "(Intercept)   -0.2196   0.1316    0.1181 -1.859 0.063020\n",
       "LIT_grpyes     0.6013   0.1869    0.1899  3.166 0.001545\n",
       "\n",
       " Estimated Correlation Parameter:  0.1759 \n",
       " Correlation Structure:  exchangeable \n",
       " Est. Scale Parameter:  1 \n",
       "\n",
       " Number of GEE iterations: 3 \n",
       " Number of Clusters:  101    Maximum Cluster Size:  27 \n",
       " Number of observations with nonzero weight:  2170 "
      ]
     },
     "metadata": {},
     "output_type": "display_data"
    }
   ],
   "source": [
    "ucra_ex <- geem(formula = formula1,id = school_id, \n",
    "                data = dat1,\n",
    "                family =  binomial(\"logit\"),\n",
    "                corstr = \"exchangeable\")\n",
    "summary(ucra_ex)"
   ]
  },
  {
   "cell_type": "code",
   "execution_count": 16,
   "metadata": {},
   "outputs": [],
   "source": [
    "# save the results \n",
    "m <- summary(ucra_ex)$beta[2]\n",
    "s <- summary(ucra_ex)$se.robust[2]\n",
    "p <- summary(ucra_ex)$p[2]\n",
    "ciu <- m-1.96*s; cil <- m+1.96*s\n",
    "\n",
    "# save results \n",
    "means <- c(means,exp(m))\n",
    "sds <- c(sds,s)\n",
    "ps <- c(ps,p)\n",
    "ciu <- formatC(exp(ciu),2,format=\"f\"); cil <- formatC(exp(cil),2,format=\"f\")\n",
    "cis <- c(cis,paste('(',ciu,', ',cil,')',sep=''))"
   ]
  },
  {
   "cell_type": "markdown",
   "metadata": {},
   "source": [
    "## A-CRA-GEE"
   ]
  },
  {
   "cell_type": "markdown",
   "metadata": {},
   "source": [
    "#### independent working correlation matrix"
   ]
  },
  {
   "cell_type": "code",
   "execution_count": 17,
   "metadata": {},
   "outputs": [
    {
     "data": {
      "text/plain": [
       "                           Estimates Model SE Robust SE    wald         p\n",
       "(Intercept)                 -3.35600  0.32660   0.37440 -8.9620 0.0000000\n",
       "LIT_grpyes                   0.65240  0.10530   0.17090  3.8180 0.0001344\n",
       "BL_gll21_total               0.33690  0.01612   0.01891 17.8200 0.0000000\n",
       "age_child                    0.04344  0.03160   0.03574  1.2150 0.2242000\n",
       "sexFemale                   -0.04238  0.10510   0.11320 -0.3742 0.7083000\n",
       "schlevel_compprimary         0.15010  0.12020   0.12410  1.2100 0.2262000\n",
       "schlevel_compsecondary       0.59720  0.20610   0.21670  2.7560 0.0058470\n",
       "schlevel_compcollege/deree   0.98280  0.34330   0.38300  2.5660 0.0103000\n",
       "BL_sesPoor                  -0.07301  0.15890   0.16200 -0.4506 0.6523000\n",
       "BL_sesMedian poor           -0.11680  0.16140   0.18990 -0.6147 0.5387000\n",
       "BL_sesLess poor             -0.06672  0.16770   0.15890 -0.4198 0.6746000\n",
       "BL_sesLeast poor             0.32660  0.17900   0.18570  1.7580 0.0787100\n",
       "\n",
       " Estimated Correlation Parameter:  0 \n",
       " Correlation Structure:  independence \n",
       " Est. Scale Parameter:  0.9856 \n",
       "\n",
       " Number of GEE iterations: 2 \n",
       " Number of Clusters:  101    Maximum Cluster Size:  27 \n",
       " Number of observations with nonzero weight:  2170 "
      ]
     },
     "metadata": {},
     "output_type": "display_data"
    }
   ],
   "source": [
    "cra_ind <- geem(formula = formula2,\n",
    "                id = school_id, data = dat1,\n",
    "                family =  binomial(\"logit\"),\n",
    "                corstr = \"independence\")\n",
    "summary(cra_ind)"
   ]
  },
  {
   "cell_type": "code",
   "execution_count": 18,
   "metadata": {},
   "outputs": [],
   "source": [
    "# save the results \n",
    "m <- summary(cra_ind)$beta[2]\n",
    "s <- summary(cra_ind)$se.robust[2]\n",
    "p <- summary(cra_ind)$p[2]\n",
    "ciu <- m-1.96*s; cil <- m+1.96*s\n",
    "\n",
    "# save results \n",
    "means <- c(means,exp(m))\n",
    "sds <- c(sds,s)\n",
    "ps <- c(ps,p)\n",
    "ciu <- formatC(exp(ciu),2,format=\"f\"); cil <- formatC(exp(cil),2,format=\"f\")\n",
    "cis <- c(cis,paste('(',ciu,', ',cil,')',sep=''))"
   ]
  },
  {
   "cell_type": "markdown",
   "metadata": {},
   "source": [
    "#### exchangeable working correlation matrix"
   ]
  },
  {
   "cell_type": "code",
   "execution_count": 19,
   "metadata": {},
   "outputs": [
    {
     "data": {
      "text/plain": [
       "                           Estimates Model SE Robust SE    wald         p\n",
       "(Intercept)                 -3.26900  0.33530   0.36370 -8.9880 0.0000000\n",
       "LIT_grpyes                   0.65910  0.15260   0.17180  3.8370 0.0001244\n",
       "BL_gll21_total               0.31640  0.01607   0.01799 17.5900 0.0000000\n",
       "age_child                    0.05289  0.03128   0.03328  1.5900 0.1119000\n",
       "sexFemale                   -0.03572  0.09951   0.10440 -0.3421 0.7323000\n",
       "schlevel_compprimary         0.12190  0.11460   0.11760  1.0360 0.3001000\n",
       "schlevel_compsecondary       0.54240  0.19540   0.20070  2.7020 0.0068930\n",
       "schlevel_compcollege/deree   1.03300  0.32730   0.35470  2.9120 0.0035970\n",
       "BL_sesPoor                  -0.05516  0.15010   0.15920 -0.3465 0.7290000\n",
       "BL_sesMedian poor           -0.12950  0.15370   0.18580 -0.6967 0.4860000\n",
       "BL_sesLess poor             -0.09199  0.16010   0.15440 -0.5958 0.5513000\n",
       "BL_sesLeast poor             0.21320  0.17220   0.17430  1.2230 0.2212000\n",
       "\n",
       " Estimated Correlation Parameter:  0.06921 \n",
       " Correlation Structure:  exchangeable \n",
       " Est. Scale Parameter:  0.9427 \n",
       "\n",
       " Number of GEE iterations: 6 \n",
       " Number of Clusters:  101    Maximum Cluster Size:  27 \n",
       " Number of observations with nonzero weight:  2170 "
      ]
     },
     "metadata": {},
     "output_type": "display_data"
    }
   ],
   "source": [
    "cra_ex <- geem(formula = formula2,\n",
    "               id = school_id, data = dat1,\n",
    "               family =  binomial(\"logit\"),\n",
    "               corstr = \"exchangeable\")\n",
    "summary(cra_ex)"
   ]
  },
  {
   "cell_type": "code",
   "execution_count": 20,
   "metadata": {},
   "outputs": [],
   "source": [
    "# save the results \n",
    "m <- summary(cra_ex)$beta[2]\n",
    "s <- summary(cra_ex)$se.robust[2]\n",
    "p <- summary(cra_ex)$p[2]\n",
    "ciu <- m-1.96*s; cil <- m+1.96*s\n",
    "\n",
    "# save results \n",
    "means <- c(means,exp(m))\n",
    "sds <- c(sds,s)\n",
    "ps <- c(ps,p)\n",
    "ciu <- formatC(exp(ciu),2,format=\"f\"); cil <- formatC(exp(cil),2,format=\"f\")\n",
    "cis <- c(cis,paste('(',ciu,', ',cil,')',sep=''))"
   ]
  },
  {
   "cell_type": "markdown",
   "metadata": {},
   "source": [
    "## W-GEE"
   ]
  },
  {
   "cell_type": "markdown",
   "metadata": {},
   "source": [
    "#### calculate the weights"
   ]
  },
  {
   "cell_type": "code",
   "execution_count": 21,
   "metadata": {},
   "outputs": [],
   "source": [
    "w1 <- glm(formula = formula3, data = dat1,\n",
    "          family = binomial(link='logit'))\n",
    "w2 <- glmer(formula = formula4, data = dat1,\n",
    "            family = binomial(link='logit'),\n",
    "            control=glmerControl(optimizer=\"bobyqa\",\n",
    "                    optCtrl=list(maxfun=2e5)))\n",
    "# increase the iteration times to avoid non-convergence"
   ]
  },
  {
   "cell_type": "code",
   "execution_count": 22,
   "metadata": {},
   "outputs": [],
   "source": [
    "w1 <- predict(w1,type=\"response\")  # get the weights value from the glm\n",
    "w2 <- predict(w2,type=\"response\")  # get the weights value form the glmer\n",
    "# add the weights to the dataset\n",
    "dat1$weight <- (1/ w1)\n",
    "dat1$weight2 <- (1/w2)"
   ]
  },
  {
   "cell_type": "markdown",
   "metadata": {},
   "source": [
    "#### independent working correlation matrix"
   ]
  },
  {
   "cell_type": "code",
   "execution_count": 23,
   "metadata": {},
   "outputs": [
    {
     "data": {
      "text/plain": [
       "            Estimates Model SE Robust SE    wald        p\n",
       "(Intercept)   -0.0699  0.05971    0.1183 -0.5907 0.554700\n",
       "LIT_grpyes     0.5918  0.08753    0.1914  3.0930 0.001983\n",
       "\n",
       " Estimated Correlation Parameter:  0 \n",
       " Correlation Structure:  independence \n",
       " Est. Scale Parameter:  8.782 \n",
       "\n",
       " Number of GEE iterations: 2 \n",
       " Number of Clusters:  101    Maximum Cluster Size:  27 \n",
       " Number of observations with nonzero weight:  2170 "
      ]
     },
     "metadata": {},
     "output_type": "display_data"
    }
   ],
   "source": [
    "ipw_ind <- geem(formula = y~LIT_grp,\n",
    "                id = school_id, data = dat1,\n",
    "                family =  binomial(\"logit\"),\n",
    "                weights = dat1$weight,\n",
    "                corstr = \"independence\")\n",
    "summary(ipw_ind)"
   ]
  },
  {
   "cell_type": "code",
   "execution_count": 24,
   "metadata": {
    "scrolled": true
   },
   "outputs": [],
   "source": [
    "# save the results \n",
    "m <- summary(ipw_ind)$beta[2]\n",
    "s <- summary(ipw_ind)$se.robust[2]\n",
    "p <- summary(ipw_ind)$p[2]\n",
    "ciu <- m-1.96*s; cil <- m+1.96*s\n",
    "\n",
    "# save results \n",
    "means <- c(means,exp(m))\n",
    "sds <- c(sds,s)\n",
    "ps <- c(ps,p)\n",
    "ciu <- formatC(exp(ciu),2,format=\"f\"); cil <- formatC(exp(cil),2,format=\"f\")\n",
    "cis <- c(cis,paste('(',ciu,', ',cil,')',sep=''))"
   ]
  },
  {
   "cell_type": "markdown",
   "metadata": {},
   "source": [
    "#### exchangeable working correlation matrix"
   ]
  },
  {
   "cell_type": "code",
   "execution_count": 25,
   "metadata": {},
   "outputs": [
    {
     "data": {
      "text/plain": [
       "            Estimates Model SE Robust SE    wald        p\n",
       "(Intercept)  -0.07491   0.1290    0.1182 -0.6336 0.526300\n",
       "LIT_grpyes    0.58800   0.1879    0.1923  3.0570 0.002234\n",
       "\n",
       " Estimated Correlation Parameter:  0.176 \n",
       " Correlation Structure:  exchangeable \n",
       " Est. Scale Parameter:  8.773 \n",
       "\n",
       " Number of GEE iterations: 3 \n",
       " Number of Clusters:  101    Maximum Cluster Size:  27 \n",
       " Number of observations with nonzero weight:  2170 "
      ]
     },
     "metadata": {},
     "output_type": "display_data"
    }
   ],
   "source": [
    "ipw_ex <- geem(formula = y~LIT_grp,\n",
    "               id = school_id, data = dat1,\n",
    "               family =  binomial(\"logit\"),\n",
    "               weights = dat1$weight,\n",
    "               corstr = \"exchangeable\")\n",
    "summary(ipw_ex)"
   ]
  },
  {
   "cell_type": "code",
   "execution_count": 26,
   "metadata": {},
   "outputs": [],
   "source": [
    "# save the results \n",
    "m <- summary(ipw_ex)$beta[2]\n",
    "s <- summary(ipw_ex)$se.robust[2]\n",
    "p <- summary(ipw_ex)$p[2]\n",
    "ciu <- m-1.96*s; cil <- m+1.96*s\n",
    "\n",
    "# save results \n",
    "means <- c(means,exp(m))\n",
    "sds <- c(sds,s)\n",
    "ps <- c(ps,p)\n",
    "ciu <- formatC(exp(ciu),2,format=\"f\"); cil <- formatC(exp(cil),2,format=\"f\")\n",
    "cis <- c(cis,paste('(',ciu,', ',cil,')',sep=''))"
   ]
  },
  {
   "cell_type": "markdown",
   "metadata": {},
   "source": [
    "## CW-GEE"
   ]
  },
  {
   "cell_type": "markdown",
   "metadata": {},
   "source": [
    "#### independent working correlation matrix"
   ]
  },
  {
   "cell_type": "code",
   "execution_count": 27,
   "metadata": {},
   "outputs": [
    {
     "data": {
      "text/plain": [
       "            Estimates Model SE Robust SE    wald        p\n",
       "(Intercept)  -0.06748  0.05981    0.1228 -0.5495 0.582600\n",
       "LIT_grpyes    0.60200  0.08759    0.1907  3.1570 0.001592\n",
       "\n",
       " Estimated Correlation Parameter:  0 \n",
       " Correlation Structure:  independence \n",
       " Est. Scale Parameter:  9.537 \n",
       "\n",
       " Number of GEE iterations: 2 \n",
       " Number of Clusters:  101    Maximum Cluster Size:  27 \n",
       " Number of observations with nonzero weight:  2170 "
      ]
     },
     "metadata": {},
     "output_type": "display_data"
    }
   ],
   "source": [
    "ipw_clu_ind <- geem(formula = y~LIT_grp,\n",
    "                 id=school_id, data = dat1,\n",
    "                 family =  binomial(\"logit\"),\n",
    "                 weights = dat1$weight2,\n",
    "                 corstr = \"independence\")\n",
    "summary(ipw_clu_ind)"
   ]
  },
  {
   "cell_type": "code",
   "execution_count": 28,
   "metadata": {},
   "outputs": [],
   "source": [
    "# save the results \n",
    "m <- summary(ipw_clu_ind)$beta[2]\n",
    "s <- summary(ipw_clu_ind)$se.robust[2]\n",
    "p <- summary(ipw_clu_ind)$p[2]\n",
    "ciu <- m-1.96*s; cil <- m+1.96*s\n",
    "\n",
    "# save results \n",
    "means <- c(means,exp(m))\n",
    "sds <- c(sds,s)\n",
    "ps <- c(ps,p)\n",
    "ciu <- formatC(exp(ciu),2,format=\"f\"); cil <- formatC(exp(cil),2,format=\"f\")\n",
    "cis <- c(cis,paste('(',ciu,', ',cil,')',sep=''))"
   ]
  },
  {
   "cell_type": "markdown",
   "metadata": {},
   "source": [
    "#### exchangeable working correlation matrix"
   ]
  },
  {
   "cell_type": "code",
   "execution_count": 29,
   "metadata": {},
   "outputs": [
    {
     "data": {
      "text/plain": [
       "            Estimates Model SE Robust SE    wald        p\n",
       "(Intercept)  -0.07377   0.1287    0.1216 -0.6067 0.544000\n",
       "LIT_grpyes    0.60320   0.1875    0.1890  3.1920 0.001414\n",
       "\n",
       " Estimated Correlation Parameter:  0.1714 \n",
       " Correlation Structure:  exchangeable \n",
       " Est. Scale Parameter:  9.533 \n",
       "\n",
       " Number of GEE iterations: 3 \n",
       " Number of Clusters:  101    Maximum Cluster Size:  27 \n",
       " Number of observations with nonzero weight:  2170 "
      ]
     },
     "metadata": {},
     "output_type": "display_data"
    }
   ],
   "source": [
    "ipw_clu_ex <- geem(formula = y~LIT_grp,\n",
    "                id = school_id, data = dat1,\n",
    "                family =  binomial(\"logit\"),\n",
    "                weights = dat1$weight2,\n",
    "                corstr = \"exchangeable\")\n",
    "summary(ipw_clu_ex)"
   ]
  },
  {
   "cell_type": "code",
   "execution_count": 30,
   "metadata": {},
   "outputs": [],
   "source": [
    "# save the results \n",
    "m <- summary(ipw_clu_ex)$beta[2]\n",
    "s <- summary(ipw_clu_ex)$se.robust[2]\n",
    "p <- summary(ipw_clu_ex)$p[2]\n",
    "ciu <- m-1.96*s; cil <- m+1.96*s\n",
    "\n",
    "# save results \n",
    "means <- c(means,exp(m))\n",
    "sds <- c(sds,s)\n",
    "ps <- c(ps,p)\n",
    "ciu <- formatC(exp(ciu),2,format=\"f\"); cil <- formatC(exp(cil),2,format=\"f\")\n",
    "cis <- c(cis,paste('(',ciu,', ',cil,')',sep=''))"
   ]
  },
  {
   "cell_type": "markdown",
   "metadata": {},
   "source": [
    "## MMI-GEE"
   ]
  },
  {
   "cell_type": "code",
   "execution_count": 31,
   "metadata": {},
   "outputs": [],
   "source": [
    "covariates <- c(\"BL_gll21_total\",\"age_child\",\"sex\",\"schlevel_comp\",\"BL_ses\")\n",
    "data.miss <- dat1\n",
    "# data frame for response variables with missing values\n",
    "y.cat <- data.frame(outcome=factor(data.miss$y))  \n",
    "# number of levels in outcome variable\n",
    "y.numcat <- c(2)     \n",
    "# data frame for clusters\n",
    "clus <- data.frame(clus=data.miss$school_id)         \n",
    "# covariates, includes 1s.\n",
    "nobs <- dim(data.miss)[1]\n",
    "x <- data.frame(rep(1,nobs),\n",
    "                data.miss[,covariates],\n",
    "                group=data.miss$LIT_grp)"
   ]
  },
  {
   "cell_type": "markdown",
   "metadata": {},
   "source": [
    "#### generate the complete dataset\n",
    "\n",
    "* run to generate Nimp full datasets\n",
    "\n",
    "* imp is full datasets \n"
   ]
  },
  {
   "cell_type": "code",
   "execution_count": 32,
   "metadata": {},
   "outputs": [],
   "source": [
    "set.seed(123)\n",
    "Nimp <- 15\n",
    "imp <- jomo1rancat(Y.cat = y.cat, Y.numcat = y.numcat, X = x,\n",
    "                  clus = clus, nburn = 100, nbetween = 25, \n",
    "                  nimp = Nimp,output = 0)"
   ]
  },
  {
   "cell_type": "markdown",
   "metadata": {},
   "source": [
    "#### save the mean and variance results"
   ]
  },
  {
   "cell_type": "code",
   "execution_count": 33,
   "metadata": {},
   "outputs": [],
   "source": [
    "mmi_est_ind <- c();mmi_est_ex <- c()\n",
    "mmi_std_ind <- c();mmi_std_ex <- c()\n",
    "mmi_p_ind <- c();mmi_p_ex <- c()\n",
    "\n",
    "for(i in 1:Nimp){\n",
    "  temp <- imp[imp$Imputation==i,]\n",
    "  rownames(temp) <- NULL\n",
    "  temp$outcome <- as.numeric(temp$outcome)-1\n",
    "  \n",
    "  # run the analysis for Nimp times\n",
    "  mmi_ind <- geem(formula=outcome~group,\n",
    "               id=clus , data = temp,\n",
    "               family =  binomial(\"logit\"),\n",
    "               corstr = \"independence\")\n",
    "  mmi_ex <- geem(formula=outcome~group,\n",
    "              id=clus , data = temp,\n",
    "              family =  binomial(\"logit\"),\n",
    "              corstr = \"exchangeable\")\n",
    "  \n",
    "  # save the results \n",
    "  mmi_est_ind <- c(mmi_est_ind,\n",
    "                summary(mmi_ind)$beta[2])\n",
    "  mmi_std_ind <- c(mmi_std_ind,\n",
    "                summary(mmi_ind)$se.robust[2])\n",
    "  \n",
    "  # save the results \n",
    "  mmi_est_ex <- c(mmi_est_ex,\n",
    "               summary(mmi_ex)$beta[2])\n",
    "  mmi_std_ex <- c(mmi_std_ex,\n",
    "               summary(mmi_ex)$se.robust[2])\n",
    "  mmi_p_ind <- c(mmi_p_ind,summary(mmi_ind)$p[2])\n",
    "  mmi_p_ex <- c(mmi_p_ex,summary(mmi_ex)$p[2])\n",
    "}"
   ]
  },
  {
   "cell_type": "markdown",
   "metadata": {},
   "source": [
    "#### pool the results"
   ]
  },
  {
   "cell_type": "code",
   "execution_count": 34,
   "metadata": {},
   "outputs": [],
   "source": [
    "mypool <- function(mean0,sd0,num=5,J=50){\n",
    "    # input: \n",
    "    # mean0: a vector of the values of estimated beta parameter, with length equals to the imputation time.\n",
    "    # sd0: a vector of the standard deviations of the estimated beta parameter, with length equals to the imputation time.\n",
    "    # num: impuation time\n",
    "    # J: the number of clusters in each intervention arm \n",
    "  \n",
    "  # count the times of NA in the input vector.\n",
    "  na_times <- sum(is.na(mean0)) \n",
    "  # the number of imputations without NA. \n",
    "  num_actual <- num-na_times \n",
    "  \n",
    "  # the MI estimate of the beta parameter\n",
    "  m <- mean(mean0,na.rm=TRUE) \n",
    "  \n",
    "  # estimate of average wihtin-imputation variance \n",
    "  # i.e. based on the SE^2 of the beta parameter from each fitted model\n",
    "  W <- mean(sd0^2,na.rm=TRUE) \n",
    "  \n",
    "  # estimate of between-imputation variance \n",
    "  # i.e. empirical SD of the point estimates of beta parameter\n",
    "  B <- var(mean0,na.rm=TRUE) \n",
    "\n",
    "  # estimate of total variance \n",
    "  # i.e. will need to take the sqrt of this to use for inference in making confidence intervals etc.\n",
    "  v_hat <- W+(1+1/num_actual)*B \n",
    "  v_hat_sqrt<-sqrt(v_hat)\n",
    "  \n",
    "  # Confindence interval\n",
    "  # Testing based on naive normal distribution assumption\n",
    "  l <- m-1.96*v_hat_sqrt\n",
    "  u <- m+1.96*v_hat_sqrt\n",
    "  \n",
    "  # Testing based on standard results from MI literature\n",
    "  # i.e. df of t distribution for testing based on standard results from MI literature\n",
    "  df_denom <- (1+1/num_actual)*B\n",
    "  df_part <- 1+W/df_denom\n",
    "  df_t <- (num_actual-1)*df_part^2 # adjusted df of t distribution\n",
    "  l_t <- m-qt(0.975,df_t)*v_hat_sqrt\n",
    "  u_t <- m+qt(0.975,df_t)*v_hat_sqrt\n",
    "  \n",
    "  # Testing based on results from MMI literature, Barnard and Rubin (1999), \n",
    "  # df of t distribution for testing based on results in re adjustment for MMI feature\n",
    "  \n",
    "  #df for full data\n",
    "  df_com <- 2*J - 2 \n",
    "  \n",
    "  # calculate the adjusted df based on the literature.\n",
    "  parenthesis <- 1+df_denom*(1/W) \n",
    "  df_obs <- df_com*((df_com+1)/(df_com+3))*(1/parenthesis) \n",
    "  df_adj_t <- 1/(1/df_t + 1/df_obs) \n",
    "  \n",
    "  # Print the results\n",
    "  print(\"Standard t df and Barnard/Rubin adjusted t df\");\n",
    "  print(c(df_t, df_adj_t))\n",
    "  print(\"97.5% quantiles from standard t df and Barnard/Rubin adjusted t df\");\n",
    "  print(c(qt(0.975,df_t), qt(0.975,df_adj_t)))\n",
    "  \n",
    "  # The confidence interval calculated based on df of standard t distribution and adjusted df of t distribution \n",
    "  l_t <- m-qt(0.975,df_t)*v_hat_sqrt\n",
    "  u_t <- m+qt(0.975,df_t)*v_hat_sqrt\n",
    "  l_adj_t <- m-qt(0.975,df_adj_t)*v_hat_sqrt\n",
    "  u_adj_t <- m+qt(0.975,df_adj_t)*v_hat_sqrt\n",
    "  \n",
    "  return(list(mean=m,std=v_hat_sqrt,\n",
    "              df_t=df_t,\n",
    "              df_adj_t=df_adj_t))\n",
    "}"
   ]
  },
  {
   "cell_type": "code",
   "execution_count": 35,
   "metadata": {},
   "outputs": [
    {
     "name": "stdout",
     "output_type": "stream",
     "text": [
      "[1] \"Standard t df and Barnard/Rubin adjusted t df\"\n",
      "[1] 73829.75487    94.61522\n",
      "[1] \"97.5% quantiles from standard t df and Barnard/Rubin adjusted t df\"\n",
      "[1] 1.959996 1.985355\n",
      "[1] \"Standard t df and Barnard/Rubin adjusted t df\"\n",
      "[1] 75391.54784    94.63147\n",
      "[1] \"97.5% quantiles from standard t df and Barnard/Rubin adjusted t df\"\n",
      "[1] 1.959995 1.985351\n"
     ]
    }
   ],
   "source": [
    "pool1 <- mypool(mmi_est_ind,mmi_std_ind,num=Nimp)\n",
    "pool2 <- mypool(mmi_est_ex,mmi_std_ex,num=Nimp)"
   ]
  },
  {
   "cell_type": "code",
   "execution_count": 36,
   "metadata": {},
   "outputs": [],
   "source": [
    "# save the results \n",
    "# independent working correlation matrix\n",
    "ciu <- pool1$mean - qt(0.975, pool1$df_adj_t)*pool1$std;\n",
    "cil <- pool1$mean + qt(0.975, pool1$df_adj_t)*pool1$std\n",
    "means <- c(means,exp(pool1$mean))\n",
    "ps <- c(ps,round(mean(mmi_p_ind),3))\n",
    "sds <- c(sds,pool1$std)\n",
    "ciu <- formatC(exp(ciu),2,format=\"f\"); cil <- formatC(exp(cil),2,format=\"f\")\n",
    "cis <- c(cis,paste('(',ciu,', ',cil,')',sep=''))\n",
    "\n",
    "# exchangeable working correlation matrix\n",
    "ciu <- pool2$mean - qt(0.975, pool2$df_adj_t)*pool2$std;\n",
    "cil <- pool2$mean + qt(0.975, pool2$df_adj_t)*pool2$std\n",
    "# save the results\n",
    "means <- c(means,exp(pool2$mean))\n",
    "sds <- c(sds,pool2$std) \n",
    "ps <- c(ps,round(mean(mmi_p_ex),3))\n",
    "ciu <- formatC(exp(ciu),2,format=\"f\"); cil <- formatC(exp(cil),2,format=\"f\")\n",
    "cis <- c(cis,paste('(',ciu,', ',cil,')',sep=''))"
   ]
  },
  {
   "cell_type": "markdown",
   "metadata": {},
   "source": [
    "## Draw table 1b\n",
    "\n"
   ]
  },
  {
   "cell_type": "code",
   "execution_count": 37,
   "metadata": {},
   "outputs": [],
   "source": [
    "# use the saved resutls to draw summary table\n",
    "\n",
    "coefs_ind <- formatC(means[seq(1,10,2)],2,format=\"f\")\n",
    "coefs_ex <- formatC(means[seq(2,10,2)],2,format=\"f\")\n",
    "std_ind <- formatC(sds[seq(1,10,2)],2,format=\"f\")\n",
    "std_ex <- formatC(sds[seq(2,10,2)],2,format=\"f\")\n",
    "cis_ind <- formatC(cis[seq(1,10,2)],2,format=\"f\")\n",
    "cis_ex <- formatC(cis[seq(2,10,2)],2,format=\"f\")\n",
    "p_ind <- formatC(ps[seq(1,10,2)],3,format=\"f\")\n",
    "p_ex <- formatC(ps[seq(2,10,2)],3,format=\"f\")\n",
    "names <- c('CRA-GEE','A-CRA-GEE','W-GEE','CW-GEE','MMI-GEE')"
   ]
  },
  {
   "cell_type": "code",
   "execution_count": 45,
   "metadata": {
    "scrolled": true
   },
   "outputs": [],
   "source": [
    "table_sum <- cbind(names,coefs_ex,std_ex,cis_ex,p_ex,coefs_ind,std_ind,cis_ind,p_ind)\n",
    "colnames(table_sum) <- c('Method','Estimated','SE','Confidence Interval','p-value',\n",
    "                        'Estimated','SE','Confidence Interval','p-value')"
   ]
  },
  {
   "cell_type": "code",
   "execution_count": 46,
   "metadata": {
    "scrolled": true
   },
   "outputs": [
    {
     "data": {
      "text/html": [
       "<table>\n",
       "<thead><tr><th scope=col>Method</th><th scope=col>Estimated</th><th scope=col>SE</th><th scope=col>Confidence Interval</th><th scope=col>p-value</th><th scope=col>Estimated</th><th scope=col>SE</th><th scope=col>Confidence Interval</th><th scope=col>p-value</th></tr></thead>\n",
       "<tbody>\n",
       "\t<tr><td>CRA-GEE     </td><td>1.82        </td><td>0.19        </td><td>(1.26, 2.65)</td><td>0.002       </td><td>1.84        </td><td>0.19        </td><td>(1.27, 2.66)</td><td>0.001       </td></tr>\n",
       "\t<tr><td>A-CRA-GEE   </td><td>1.93        </td><td>0.17        </td><td>(1.38, 2.71)</td><td>&lt;0.001   </td><td>1.92        </td><td>0.17        </td><td>(1.37, 2.68)</td><td>&lt;0.001   </td></tr>\n",
       "\t<tr><td>W-GEE       </td><td>1.80        </td><td>0.19        </td><td>(1.23, 2.62)</td><td>0.002       </td><td>1.81        </td><td>0.19        </td><td>(1.24, 2.63)</td><td>0.002       </td></tr>\n",
       "\t<tr><td>CW-GEE      </td><td>1.83        </td><td>0.19        </td><td>(1.26, 2.65)</td><td>0.001       </td><td>1.83        </td><td>0.19        </td><td>(1.26, 2.65)</td><td>0.002       </td></tr>\n",
       "\t<tr><td>MMI-GEE     </td><td>1.81        </td><td>0.19        </td><td>(1.25, 2.63)</td><td>0.002       </td><td>1.79        </td><td>0.19        </td><td>(1.23, 2.60)</td><td>0.002       </td></tr>\n",
       "</tbody>\n",
       "</table>\n"
      ],
      "text/latex": [
       "\\begin{tabular}{lllllllll}\n",
       " Method & Estimated & SE & Confidence Interval & p-value & Estimated & SE & Confidence Interval & p-value\\\\\n",
       "\\hline\n",
       "\t CRA-GEE      & 1.82         & 0.19         & (1.26, 2.65) & 0.002        & 1.84         & 0.19         & (1.27, 2.66) & 0.001       \\\\\n",
       "\t A-CRA-GEE    & 1.93         & 0.17         & (1.38, 2.71) & <0.001       & 1.92         & 0.17         & (1.37, 2.68) & <0.001      \\\\\n",
       "\t W-GEE        & 1.80         & 0.19         & (1.23, 2.62) & 0.002        & 1.81         & 0.19         & (1.24, 2.63) & 0.002       \\\\\n",
       "\t CW-GEE       & 1.83         & 0.19         & (1.26, 2.65) & 0.001        & 1.83         & 0.19         & (1.26, 2.65) & 0.002       \\\\\n",
       "\t MMI-GEE      & 1.81         & 0.19         & (1.25, 2.63) & 0.002        & 1.79         & 0.19         & (1.23, 2.60) & 0.002       \\\\\n",
       "\\end{tabular}\n"
      ],
      "text/markdown": [
       "\n",
       "Method | Estimated | SE | Confidence Interval | p-value | Estimated | SE | Confidence Interval | p-value | \n",
       "|---|---|---|---|---|\n",
       "| CRA-GEE      | 1.82         | 0.19         | (1.26, 2.65) | 0.002        | 1.84         | 0.19         | (1.27, 2.66) | 0.001        | \n",
       "| A-CRA-GEE    | 1.93         | 0.17         | (1.38, 2.71) | <0.001       | 1.92         | 0.17         | (1.37, 2.68) | <0.001       | \n",
       "| W-GEE        | 1.80         | 0.19         | (1.23, 2.62) | 0.002        | 1.81         | 0.19         | (1.24, 2.63) | 0.002        | \n",
       "| CW-GEE       | 1.83         | 0.19         | (1.26, 2.65) | 0.001        | 1.83         | 0.19         | (1.26, 2.65) | 0.002        | \n",
       "| MMI-GEE      | 1.81         | 0.19         | (1.25, 2.63) | 0.002        | 1.79         | 0.19         | (1.23, 2.60) | 0.002        | \n",
       "\n",
       "\n"
      ],
      "text/plain": [
       "     Method    Estimated SE   Confidence Interval p-value Estimated SE  \n",
       "[1,] CRA-GEE   1.82      0.19 (1.26, 2.65)        0.002   1.84      0.19\n",
       "[2,] A-CRA-GEE 1.93      0.17 (1.38, 2.71)        <0.001  1.92      0.17\n",
       "[3,] W-GEE     1.80      0.19 (1.23, 2.62)        0.002   1.81      0.19\n",
       "[4,] CW-GEE    1.83      0.19 (1.26, 2.65)        0.001   1.83      0.19\n",
       "[5,] MMI-GEE   1.81      0.19 (1.25, 2.63)        0.002   1.79      0.19\n",
       "     Confidence Interval p-value\n",
       "[1,] (1.27, 2.66)        0.001  \n",
       "[2,] (1.37, 2.68)        <0.001 \n",
       "[3,] (1.24, 2.63)        0.002  \n",
       "[4,] (1.26, 2.65)        0.002  \n",
       "[5,] (1.23, 2.60)        0.002  "
      ]
     },
     "metadata": {},
     "output_type": "display_data"
    }
   ],
   "source": [
    "table_sum[table_sum[,c(5)] == \"0.000\",5] <- '<0.001'\n",
    "table_sum[table_sum[,c(9)] == \"0.000\",9] <- '<0.001'\n",
    "table_sum"
   ]
  },
  {
   "cell_type": "code",
   "execution_count": 52,
   "metadata": {
    "scrolled": true
   },
   "outputs": [
    {
     "data": {
      "text/html": [
       "<table>\n",
       "<thead><tr><th scope=col>Method</th><th scope=col>Estimated</th><th scope=col>SE</th><th scope=col>Confidence Interval</th><th scope=col>p-value</th></tr></thead>\n",
       "<tbody>\n",
       "\t<tr><td>CRA-GEE     </td><td>1.82        </td><td>0.19        </td><td>(1.26, 2.65)</td><td>0.002       </td></tr>\n",
       "\t<tr><td>A-CRA-GEE   </td><td>1.93        </td><td>0.17        </td><td>(1.38, 2.71)</td><td>&lt;0.001   </td></tr>\n",
       "\t<tr><td>W-GEE       </td><td>1.80        </td><td>0.19        </td><td>(1.23, 2.62)</td><td>0.002       </td></tr>\n",
       "\t<tr><td>CW-GEE      </td><td>1.83        </td><td>0.19        </td><td>(1.26, 2.65)</td><td>0.001       </td></tr>\n",
       "\t<tr><td>MMI-GEE     </td><td>1.81        </td><td>0.19        </td><td>(1.25, 2.63)</td><td>0.002       </td></tr>\n",
       "</tbody>\n",
       "</table>\n"
      ],
      "text/latex": [
       "\\begin{tabular}{lllll}\n",
       " Method & Estimated & SE & Confidence Interval & p-value\\\\\n",
       "\\hline\n",
       "\t CRA-GEE      & 1.82         & 0.19         & (1.26, 2.65) & 0.002       \\\\\n",
       "\t A-CRA-GEE    & 1.93         & 0.17         & (1.38, 2.71) & <0.001      \\\\\n",
       "\t W-GEE        & 1.80         & 0.19         & (1.23, 2.62) & 0.002       \\\\\n",
       "\t CW-GEE       & 1.83         & 0.19         & (1.26, 2.65) & 0.001       \\\\\n",
       "\t MMI-GEE      & 1.81         & 0.19         & (1.25, 2.63) & 0.002       \\\\\n",
       "\\end{tabular}\n"
      ],
      "text/markdown": [
       "\n",
       "Method | Estimated | SE | Confidence Interval | p-value | \n",
       "|---|---|---|---|---|\n",
       "| CRA-GEE      | 1.82         | 0.19         | (1.26, 2.65) | 0.002        | \n",
       "| A-CRA-GEE    | 1.93         | 0.17         | (1.38, 2.71) | <0.001       | \n",
       "| W-GEE        | 1.80         | 0.19         | (1.23, 2.62) | 0.002        | \n",
       "| CW-GEE       | 1.83         | 0.19         | (1.26, 2.65) | 0.001        | \n",
       "| MMI-GEE      | 1.81         | 0.19         | (1.25, 2.63) | 0.002        | \n",
       "\n",
       "\n"
      ],
      "text/plain": [
       "     Method    Estimated SE   Confidence Interval p-value\n",
       "[1,] CRA-GEE   1.82      0.19 (1.26, 2.65)        0.002  \n",
       "[2,] A-CRA-GEE 1.93      0.17 (1.38, 2.71)        <0.001 \n",
       "[3,] W-GEE     1.80      0.19 (1.23, 2.62)        0.002  \n",
       "[4,] CW-GEE    1.83      0.19 (1.26, 2.65)        0.001  \n",
       "[5,] MMI-GEE   1.81      0.19 (1.25, 2.63)        0.002  "
      ]
     },
     "metadata": {},
     "output_type": "display_data"
    }
   ],
   "source": [
    "hali_ex <- table_sum[,1:5]\n",
    "hali_ex"
   ]
  },
  {
   "cell_type": "code",
   "execution_count": 53,
   "metadata": {},
   "outputs": [],
   "source": [
    "table_s1 <- table_sum\n",
    "table_1b <- hali_ex"
   ]
  },
  {
   "cell_type": "code",
   "execution_count": null,
   "metadata": {},
   "outputs": [],
   "source": []
  }
 ],
 "metadata": {
  "kernelspec": {
   "display_name": "R",
   "language": "R",
   "name": "ir"
  },
  "language_info": {
   "codemirror_mode": "r",
   "file_extension": ".r",
   "mimetype": "text/x-r-source",
   "name": "R",
   "pygments_lexer": "r",
   "version": "3.4.3"
  }
 },
 "nbformat": 4,
 "nbformat_minor": 2
}
