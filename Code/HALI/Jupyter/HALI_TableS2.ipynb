{
 "cells": [
  {
   "cell_type": "markdown",
   "metadata": {},
   "source": [
    "# HALI Data Analysis\n",
    "\n",
    "#### Predictors of outcome (high literacy) and of missingness (of high literacy outcome) from HALI motivating data set.\n",
    "* table S2"
   ]
  },
  {
   "cell_type": "code",
   "execution_count": 30,
   "metadata": {
    "scrolled": false
   },
   "outputs": [
    {
     "data": {
      "text/html": [
       "<table>\n",
       "<thead><tr><th scope=col></th><th scope=col>Estimate</th><th scope=col>SE</th><th scope=col>p-value</th><th scope=col>Estimate</th><th scope=col>SE</th><th scope=col>p-value</th></tr></thead>\n",
       "<tbody>\n",
       "\t<tr><td><span style=white-space:pre-wrap>Intercept              </span></td><td>-3.61                                                          </td><td>0.38                                                           </td><td>&lt;0.001                                                      </td><td>-1.51                                                          </td><td>0.39                                                           </td><td>&lt;0.001                                                      </td></tr>\n",
       "\t<tr><td><span style=white-space:pre-wrap>Intervention           </span></td><td>0.75                                                           </td><td>0.19                                                           </td><td>&lt;0.001                                                      </td><td>0.09                                                           </td><td>0.15                                                           </td><td>0.538                                                          </td></tr>\n",
       "\t<tr><td>Baseline literacy score</td><td>0.35                   </td><td>0.02                   </td><td>&lt;0.001              </td><td>-0.03                  </td><td>0.01                   </td><td>0.105                  </td></tr>\n",
       "\t<tr><td>Age                    </td><td>0.06                   </td><td>0.04                   </td><td>0.094                  </td><td>-0.02                  </td><td>0.04                   </td><td>0.544                  </td></tr>\n",
       "\t<tr><td>Sex (Female)           </td><td>-0.04                  </td><td>0.11                   </td><td>0.733                  </td><td>-0.00                  </td><td>0.13                   </td><td>0.991                  </td></tr>\n",
       "\t<tr><td>HH education           </td><td>                       </td><td>                       </td><td>0.002                  </td><td>                       </td><td>                       </td><td>0.021                  </td></tr>\n",
       "\t<tr><td>  primary              </td><td>0.13                   </td><td>0.13                   </td><td>                       </td><td>-0.34                  </td><td>0.15                   </td><td>                       </td></tr>\n",
       "\t<tr><td>  secondary            </td><td>0.61                   </td><td>0.22                   </td><td>                       </td><td>-0.17                  </td><td>0.24                   </td><td>                       </td></tr>\n",
       "\t<tr><td>  college/degree       </td><td>1.16                   </td><td>0.38                   </td><td>                       </td><td>0.46                   </td><td>0.32                   </td><td>                       </td></tr>\n",
       "\t<tr><td>SES household          </td><td>                       </td><td>                       </td><td>0.357                  </td><td>                       </td><td>                       </td><td>0.920                  </td></tr>\n",
       "\t<tr><td>  Poor                 </td><td>-0.04                  </td><td>0.17                   </td><td>                       </td><td>0.04                   </td><td>0.19                   </td><td>                       </td></tr>\n",
       "\t<tr><td>  Median Poor          </td><td>-0.14                  </td><td>0.17                   </td><td>                       </td><td>-0.02                  </td><td>0.20                   </td><td>                       </td></tr>\n",
       "\t<tr><td>  Less Poor            </td><td>-0.08                  </td><td>0.18                   </td><td>                       </td><td>-0.10                  </td><td>0.21                   </td><td>                       </td></tr>\n",
       "\t<tr><td>  Least Poor           </td><td>0.24                   </td><td>0.20                   </td><td>                       </td><td>-0.15                  </td><td>0.22                   </td><td>                       </td></tr>\n",
       "</tbody>\n",
       "</table>\n"
      ],
      "text/latex": [
       "\\begin{tabular}{lllllll}\n",
       "  & Estimate & SE & p-value & Estimate & SE & p-value\\\\\n",
       "\\hline\n",
       "\t Intercept               & -3.61                   & 0.38                    & <0.001                  & -1.51                   & 0.39                    & <0.001                 \\\\\n",
       "\t Intervention            & 0.75                    & 0.19                    & <0.001                  & 0.09                    & 0.15                    & 0.538                  \\\\\n",
       "\t Baseline literacy score & 0.35                    & 0.02                    & <0.001                  & -0.03                   & 0.01                    & 0.105                  \\\\\n",
       "\t Age                     & 0.06                    & 0.04                    & 0.094                   & -0.02                   & 0.04                    & 0.544                  \\\\\n",
       "\t Sex (Female)            & -0.04                   & 0.11                    & 0.733                   & -0.00                   & 0.13                    & 0.991                  \\\\\n",
       "\t HH education            &                         &                         & 0.002                   &                         &                         & 0.021                  \\\\\n",
       "\t   primary               & 0.13                    & 0.13                    &                         & -0.34                   & 0.15                    &                        \\\\\n",
       "\t   secondary             & 0.61                    & 0.22                    &                         & -0.17                   & 0.24                    &                        \\\\\n",
       "\t   college/degree        & 1.16                    & 0.38                    &                         & 0.46                    & 0.32                    &                        \\\\\n",
       "\t SES household           &                         &                         & 0.357                   &                         &                         & 0.920                  \\\\\n",
       "\t   Poor                  & -0.04                   & 0.17                    &                         & 0.04                    & 0.19                    &                        \\\\\n",
       "\t   Median Poor           & -0.14                   & 0.17                    &                         & -0.02                   & 0.20                    &                        \\\\\n",
       "\t   Less Poor             & -0.08                   & 0.18                    &                         & -0.10                   & 0.21                    &                        \\\\\n",
       "\t   Least Poor            & 0.24                    & 0.20                    &                         & -0.15                   & 0.22                    &                        \\\\\n",
       "\\end{tabular}\n"
      ],
      "text/markdown": [
       "\n",
       " | Estimate | SE | p-value | Estimate | SE | p-value | \n",
       "|---|---|---|---|---|---|---|---|---|---|---|---|---|---|\n",
       "| Intercept               | -3.61                   | 0.38                    | <0.001                  | -1.51                   | 0.39                    | <0.001                  | \n",
       "| Intervention            | 0.75                    | 0.19                    | <0.001                  | 0.09                    | 0.15                    | 0.538                   | \n",
       "| Baseline literacy score | 0.35                    | 0.02                    | <0.001                  | -0.03                   | 0.01                    | 0.105                   | \n",
       "| Age                     | 0.06                    | 0.04                    | 0.094                   | -0.02                   | 0.04                    | 0.544                   | \n",
       "| Sex (Female)            | -0.04                   | 0.11                    | 0.733                   | -0.00                   | 0.13                    | 0.991                   | \n",
       "| HH education            |                         |                         | 0.002                   |                         |                         | 0.021                   | \n",
       "|   primary               | 0.13                    | 0.13                    |                         | -0.34                   | 0.15                    |                         | \n",
       "|   secondary             | 0.61                    | 0.22                    |                         | -0.17                   | 0.24                    |                         | \n",
       "|   college/degree        | 1.16                    | 0.38                    |                         | 0.46                    | 0.32                    |                         | \n",
       "| SES household           |                         |                         | 0.357                   |                         |                         | 0.920                   | \n",
       "|   Poor                  | -0.04                   | 0.17                    |                         | 0.04                    | 0.19                    |                         | \n",
       "|   Median Poor           | -0.14                   | 0.17                    |                         | -0.02                   | 0.20                    |                         | \n",
       "|   Less Poor             | -0.08                   | 0.18                    |                         | -0.10                   | 0.21                    |                         | \n",
       "|   Least Poor            | 0.24                    | 0.20                    |                         | -0.15                   | 0.22                    |                         | \n",
       "\n",
       "\n"
      ],
      "text/plain": [
       "                              Estimate SE   p-value Estimate SE   p-value\n",
       " [1,] Intercept               -3.61    0.38 <0.001  -1.51    0.39 <0.001 \n",
       " [2,] Intervention            0.75     0.19 <0.001  0.09     0.15 0.538  \n",
       " [3,] Baseline literacy score 0.35     0.02 <0.001  -0.03    0.01 0.105  \n",
       " [4,] Age                     0.06     0.04 0.094   -0.02    0.04 0.544  \n",
       " [5,] Sex (Female)            -0.04    0.11 0.733   -0.00    0.13 0.991  \n",
       " [6,] HH education                          0.002                 0.021  \n",
       " [7,]   primary               0.13     0.13         -0.34    0.15        \n",
       " [8,]   secondary             0.61     0.22         -0.17    0.24        \n",
       " [9,]   college/degree        1.16     0.38         0.46     0.32        \n",
       "[10,] SES household                         0.357                 0.920  \n",
       "[11,]   Poor                  -0.04    0.17         0.04     0.19        \n",
       "[12,]   Median Poor           -0.14    0.17         -0.02    0.20        \n",
       "[13,]   Less Poor             -0.08    0.18         -0.10    0.21        \n",
       "[14,]   Least Poor            0.24     0.20         -0.15    0.22        "
      ]
     },
     "metadata": {},
     "output_type": "display_data"
    }
   ],
   "source": [
    "tableS2"
   ]
  },
  {
   "cell_type": "markdown",
   "metadata": {},
   "source": [
    "# Code Detail"
   ]
  },
  {
   "cell_type": "code",
   "execution_count": 14,
   "metadata": {},
   "outputs": [],
   "source": [
    "# install.packages('readstata13')\n",
    "# install.packages('geeM')\n",
    "# install.packages('jomo')\n",
    "# install.packages('knitr')"
   ]
  },
  {
   "cell_type": "code",
   "execution_count": 2,
   "metadata": {},
   "outputs": [],
   "source": [
    "library(readstata13) # library for read in the dataset\n",
    "library(lme4) # library for GLM\n",
    "library(geeM)\n",
    "library(jomo)\n",
    "library(knitr)"
   ]
  },
  {
   "cell_type": "markdown",
   "metadata": {},
   "source": [
    "### Read in data\n",
    "\n",
    "the full dataset named dat"
   ]
  },
  {
   "cell_type": "code",
   "execution_count": 3,
   "metadata": {},
   "outputs": [],
   "source": [
    "setwd('/Users/yaolanqiu/Documents/HALI/DATA')\n",
    "dat <- read.dta13('HALI_CLASS1_2539_MASTER_EDUC_FU1_FU2_LONG_accounts_withdrawals_BL_AS_COV_AND_OTHER_COV_17.11.2016.dta',\n",
    "                  nonint.factors = TRUE, generate.factors=TRUE)"
   ]
  },
  {
   "cell_type": "code",
   "execution_count": 4,
   "metadata": {},
   "outputs": [
    {
     "data": {
      "text/html": [
       "<ol class=list-inline>\n",
       "\t<li>5078</li>\n",
       "\t<li>220</li>\n",
       "</ol>\n"
      ],
      "text/latex": [
       "\\begin{enumerate*}\n",
       "\\item 5078\n",
       "\\item 220\n",
       "\\end{enumerate*}\n"
      ],
      "text/markdown": [
       "1. 5078\n",
       "2. 220\n",
       "\n",
       "\n"
      ],
      "text/plain": [
       "[1] 5078  220"
      ]
     },
     "metadata": {},
     "output_type": "display_data"
    }
   ],
   "source": [
    "dim(dat)"
   ]
  },
  {
   "cell_type": "markdown",
   "metadata": {},
   "source": [
    "### we only focused on 9 month data\n",
    "\n",
    "the data with only 9 month named data0"
   ]
  },
  {
   "cell_type": "code",
   "execution_count": 5,
   "metadata": {},
   "outputs": [
    {
     "data": {
      "text/html": [
       "<ol class=list-inline>\n",
       "\t<li>2539</li>\n",
       "\t<li>220</li>\n",
       "</ol>\n"
      ],
      "text/latex": [
       "\\begin{enumerate*}\n",
       "\\item 2539\n",
       "\\item 220\n",
       "\\end{enumerate*}\n"
      ],
      "text/markdown": [
       "1. 2539\n",
       "2. 220\n",
       "\n",
       "\n"
      ],
      "text/plain": [
       "[1] 2539  220"
      ]
     },
     "metadata": {},
     "output_type": "display_data"
    }
   ],
   "source": [
    "data0 <- dat[dat$visit=='9-month FU',]\n",
    "dim(data0) # 2539 220"
   ]
  },
  {
   "cell_type": "markdown",
   "metadata": {},
   "source": [
    "### select the input variables"
   ]
  },
  {
   "cell_type": "code",
   "execution_count": 6,
   "metadata": {},
   "outputs": [
    {
     "data": {
      "text/html": [
       "<ol class=list-inline>\n",
       "\t<li>2539</li>\n",
       "\t<li>8</li>\n",
       "</ol>\n"
      ],
      "text/latex": [
       "\\begin{enumerate*}\n",
       "\\item 2539\n",
       "\\item 8\n",
       "\\end{enumerate*}\n"
      ],
      "text/markdown": [
       "1. 2539\n",
       "2. 8\n",
       "\n",
       "\n"
      ],
      "text/plain": [
       "[1] 2539    8"
      ]
     },
     "metadata": {},
     "output_type": "display_data"
    }
   ],
   "source": [
    "dat0 <- data0[,c(\"school_id\",\"LIT_grp\",\n",
    "                 \"BL_gll21_total\", 'age_child','sex',\n",
    "                 'schlevel_comp',\"BL_ses\",\n",
    "                 \"gll21_total\")]\n",
    "rownames(dat0) <- NULL\n",
    "dim(dat0) # 2539 8"
   ]
  },
  {
   "cell_type": "markdown",
   "metadata": {},
   "source": [
    "### remove the data with missing covariates "
   ]
  },
  {
   "cell_type": "code",
   "execution_count": 7,
   "metadata": {
    "scrolled": true
   },
   "outputs": [
    {
     "data": {
      "text/html": [
       "<ol class=list-inline>\n",
       "\t<li>2465</li>\n",
       "\t<li>8</li>\n",
       "</ol>\n"
      ],
      "text/latex": [
       "\\begin{enumerate*}\n",
       "\\item 2465\n",
       "\\item 8\n",
       "\\end{enumerate*}\n"
      ],
      "text/markdown": [
       "1. 2465\n",
       "2. 8\n",
       "\n",
       "\n"
      ],
      "text/plain": [
       "[1] 2465    8"
      ]
     },
     "metadata": {},
     "output_type": "display_data"
    }
   ],
   "source": [
    "dat1 = dat0[(is.na(dat0$school_id) == 0 & \n",
    "      is.na(dat0$LIT_grp) == 0 &\n",
    "      is.na(dat0$BL_gll21_total) == 0 &\n",
    "      is.na(dat0$age_child)== 0 & \n",
    "      is.na(dat0$sex) == 0 & \n",
    "      is.na(dat0$schlevel_comp) == 0 &\n",
    "      is.na(dat0$BL_ses) ==0) ,]\n",
    "rownames(dat1) = NULL\n",
    "dim(dat1) # 2465 8"
   ]
  },
  {
   "cell_type": "markdown",
   "metadata": {},
   "source": [
    "## Predictors of outcome (high literacy) "
   ]
  },
  {
   "cell_type": "markdown",
   "metadata": {},
   "source": [
    "## Predictors of outcome missingness"
   ]
  },
  {
   "cell_type": "markdown",
   "metadata": {},
   "source": [
    "criteria of high literacy"
   ]
  },
  {
   "cell_type": "code",
   "execution_count": 8,
   "metadata": {},
   "outputs": [],
   "source": [
    "dat1$y=ifelse(dat1$gll21_total>10,1,0)"
   ]
  },
  {
   "cell_type": "markdown",
   "metadata": {},
   "source": [
    "missing indicator"
   ]
  },
  {
   "cell_type": "code",
   "execution_count": 21,
   "metadata": {},
   "outputs": [],
   "source": [
    "dat1$missing = is.na(dat1$gll21_total)"
   ]
  },
  {
   "cell_type": "markdown",
   "metadata": {},
   "source": [
    "#### model 1\n",
    "with outcome:\n",
    "* high literacy\n",
    "\n",
    "with covariates:\n",
    "* baseline score\n",
    "* age \n",
    "* sex\n",
    "* with or without household education level\n",
    "* SES"
   ]
  },
  {
   "cell_type": "code",
   "execution_count": 9,
   "metadata": {},
   "outputs": [],
   "source": [
    "model1_edu=glmer(y~LIT_grp+BL_gll21_total+age_child+sex\n",
    "               +schlevel_comp+BL_ses+(1|school_id),\n",
    "               data=dat1,\n",
    "               family=binomial('logit'),\n",
    "               control=glmerControl(optimizer=\"bobyqa\",\n",
    "                                    optCtrl=list(maxfun=2e5)))"
   ]
  },
  {
   "cell_type": "code",
   "execution_count": 10,
   "metadata": {},
   "outputs": [],
   "source": [
    "model1_edu2=glmer(y~LIT_grp+BL_gll21_total+age_child+sex\n",
    "               +BL_ses+(1|school_id),\n",
    "               data=dat1,\n",
    "               family=binomial('logit'),\n",
    "               control=glmerControl(optimizer=\"bobyqa\",\n",
    "                                    optCtrl=list(maxfun=2e5)))"
   ]
  },
  {
   "cell_type": "markdown",
   "metadata": {},
   "source": [
    "#### Calculate the overall p value for household education level"
   ]
  },
  {
   "cell_type": "code",
   "execution_count": 11,
   "metadata": {},
   "outputs": [
    {
     "data": {
      "text/html": [
       "0.002"
      ],
      "text/latex": [
       "0.002"
      ],
      "text/markdown": [
       "0.002"
      ],
      "text/plain": [
       "[1] 0.002"
      ]
     },
     "metadata": {},
     "output_type": "display_data"
    }
   ],
   "source": [
    "edu=anova(model1_edu, model1_edu2, test=\"LRT\")\n",
    "round(edu$`Pr(>Chisq)`[2],3)"
   ]
  },
  {
   "cell_type": "markdown",
   "metadata": {},
   "source": [
    "#### Similarly, calculate the overall p value for SES"
   ]
  },
  {
   "cell_type": "code",
   "execution_count": 12,
   "metadata": {},
   "outputs": [],
   "source": [
    "model2_ses=glmer(y~LIT_grp+BL_gll21_total+age_child+sex+\n",
    "                 schlevel_comp+BL_ses+(1|school_id),\n",
    "                 data=dat1,\n",
    "                 family=binomial('logit'),\n",
    "                 control=glmerControl(optimizer=\"bobyqa\",\n",
    "                                     optCtrl=list(maxfun=2e5)))\n",
    "model2_ses2=glmer(y~LIT_grp+BL_gll21_total+age_child+sex+\n",
    "                 schlevel_comp+(1|school_id),\n",
    "                 data=dat1,\n",
    "                 family=binomial('logit'),\n",
    "                 control=glmerControl(optimizer=\"bobyqa\",\n",
    "                                      optCtrl=list(maxfun=2e5)))\n",
    "ses=anova(model2_ses, model2_ses2, test=\"LRT\")"
   ]
  },
  {
   "cell_type": "markdown",
   "metadata": {},
   "source": [
    "#### Model 3 \n",
    "\n",
    "* outcome: missing indicator"
   ]
  },
  {
   "cell_type": "code",
   "execution_count": 24,
   "metadata": {},
   "outputs": [],
   "source": [
    "model3_edu=glmer(missing~LIT_grp+BL_gll21_total+age_child+sex+schlevel_comp\n",
    "                +BL_ses+(1|school_id),\n",
    "                 data=dat1,\n",
    "                 family=binomial('logit'),\n",
    "                 control=glmerControl(optimizer=\"bobyqa\",\n",
    "                                      optCtrl=list(maxfun=2e5)))\n",
    "model3_edu2=glmer(missing~LIT_grp+BL_gll21_total+age_child+sex\n",
    "                +BL_ses+(1|school_id),\n",
    "                 data=dat1,\n",
    "                 family=binomial('logit'),\n",
    "                 control=glmerControl(optimizer=\"bobyqa\",\n",
    "                                      optCtrl=list(maxfun=2e5)))"
   ]
  },
  {
   "cell_type": "markdown",
   "metadata": {},
   "source": [
    "the overall p value for household education level"
   ]
  },
  {
   "cell_type": "code",
   "execution_count": 25,
   "metadata": {},
   "outputs": [],
   "source": [
    "edu2=anova(model3_edu, model3_edu2, test=\"LRT\")"
   ]
  },
  {
   "cell_type": "markdown",
   "metadata": {},
   "source": [
    "Similarly, calculate the overall p value for SES"
   ]
  },
  {
   "cell_type": "code",
   "execution_count": 26,
   "metadata": {},
   "outputs": [],
   "source": [
    "model4_ses=glmer(missing~LIT_grp+BL_gll21_total+age_child+sex+schlevel_comp\n",
    "                 +BL_ses+(1|school_id),\n",
    "                 data=dat1,\n",
    "                 family=binomial('logit'),\n",
    "                 control=glmerControl(optimizer=\"bobyqa\",\n",
    "                                      optCtrl=list(maxfun=2e5)))\n",
    "\n",
    "model4_ses2=glmer(missing~LIT_grp+BL_gll21_total+age_child+sex+schlevel_comp\n",
    "                  +(1|school_id),\n",
    "                  data=dat1,\n",
    "                  family=binomial('logit'),\n",
    "                  control=glmerControl(optimizer=\"bobyqa\",\n",
    "                                       optCtrl=list(maxfun=2e5)))\n",
    "ses2=anova(model4_ses, model4_ses2, test=\"LRT\")"
   ]
  },
  {
   "cell_type": "markdown",
   "metadata": {},
   "source": [
    "### Draw the table S2"
   ]
  },
  {
   "cell_type": "code",
   "execution_count": 27,
   "metadata": {},
   "outputs": [],
   "source": [
    "table1=round(summary(model2_ses)$coefficient,3)\n",
    "table2=round(summary(model4_ses)$coefficient,3)"
   ]
  },
  {
   "cell_type": "code",
   "execution_count": 28,
   "metadata": {},
   "outputs": [],
   "source": [
    "table1=cbind(formatC(table1[,c(1:3)],2,format=\"f\"),table1[,4])\n",
    "table1[,4][table1[,4]==\"0\"] = '<0.001'\n",
    "\n",
    "table2=cbind(formatC(table2[,c(1:3)],2,format=\"f\"),table2[,4])\n",
    "table2[,4][table2[,4]==\"0\"] = '<0.001'\n",
    "\n",
    "ass1=rbind(table1[1:5,],\n",
    "           c('','','',formatC(round(edu$`Pr(>Chisq)`[2],3),3,format=\"f\")),\n",
    "           table1[6:8,],\n",
    "           c(\"\",\"\",\"\",formatC(round(ses$`Pr(>Chisq)`[2],3),3,format=\"f\")),\n",
    "           table1[9:12,]\n",
    ")\n",
    "\n",
    "ass2=rbind(table2[1:5,],\n",
    "           c('','','',formatC(round(edu2$`Pr(>Chisq)`[2],3),3,format=\"f\")),\n",
    "           table2[6:8,],\n",
    "           c(\"\",\"\",\"\",formatC(round(ses2$`Pr(>Chisq)`[2],3),3,format=\"f\")),\n",
    "           table2[9:12,]\n",
    ") \n",
    "ass=cbind(c(\n",
    "  'Intercept','Intervention','Baseline literacy score',\n",
    "  'Age','Sex (Female)','HH education','  primary','  secondary',\n",
    "  '  college/degree','SES household','  Poor','  Median Poor','  Less Poor',\n",
    "  '  Least Poor'\n",
    "),ass1,ass2)\n",
    "rownames(ass)=NULL\n",
    "ass = ass[,c(1,2,3,5,6,7,9)]\n",
    "ass[c(7:9,11:14),c(4,7)] = ''\n",
    "colnames(ass) = c('','Estimate','SE','p-value','Estimate','SE','p-value')"
   ]
  },
  {
   "cell_type": "code",
   "execution_count": 29,
   "metadata": {},
   "outputs": [
    {
     "data": {
      "text/html": [
       "<table>\n",
       "<thead><tr><th scope=col></th><th scope=col>Estimate</th><th scope=col>SE</th><th scope=col>p-value</th><th scope=col>Estimate</th><th scope=col>SE</th><th scope=col>p-value</th></tr></thead>\n",
       "<tbody>\n",
       "\t<tr><td><span style=white-space:pre-wrap>Intercept              </span></td><td>-3.61                                                          </td><td>0.38                                                           </td><td>&lt;0.001                                                      </td><td>-1.51                                                          </td><td>0.39                                                           </td><td>&lt;0.001                                                      </td></tr>\n",
       "\t<tr><td><span style=white-space:pre-wrap>Intervention           </span></td><td>0.75                                                           </td><td>0.19                                                           </td><td>&lt;0.001                                                      </td><td>0.09                                                           </td><td>0.15                                                           </td><td>0.538                                                          </td></tr>\n",
       "\t<tr><td>Baseline literacy score</td><td>0.35                   </td><td>0.02                   </td><td>&lt;0.001              </td><td>-0.03                  </td><td>0.01                   </td><td>0.105                  </td></tr>\n",
       "\t<tr><td>Age                    </td><td>0.06                   </td><td>0.04                   </td><td>0.094                  </td><td>-0.02                  </td><td>0.04                   </td><td>0.544                  </td></tr>\n",
       "\t<tr><td>Sex (Female)           </td><td>-0.04                  </td><td>0.11                   </td><td>0.733                  </td><td>-0.00                  </td><td>0.13                   </td><td>0.991                  </td></tr>\n",
       "\t<tr><td>HH education           </td><td>                       </td><td>                       </td><td>0.002                  </td><td>                       </td><td>                       </td><td>0.021                  </td></tr>\n",
       "\t<tr><td>  primary              </td><td>0.13                   </td><td>0.13                   </td><td>                       </td><td>-0.34                  </td><td>0.15                   </td><td>                       </td></tr>\n",
       "\t<tr><td>  secondary            </td><td>0.61                   </td><td>0.22                   </td><td>                       </td><td>-0.17                  </td><td>0.24                   </td><td>                       </td></tr>\n",
       "\t<tr><td>  college/degree       </td><td>1.16                   </td><td>0.38                   </td><td>                       </td><td>0.46                   </td><td>0.32                   </td><td>                       </td></tr>\n",
       "\t<tr><td>SES household          </td><td>                       </td><td>                       </td><td>0.357                  </td><td>                       </td><td>                       </td><td>0.920                  </td></tr>\n",
       "\t<tr><td>  Poor                 </td><td>-0.04                  </td><td>0.17                   </td><td>                       </td><td>0.04                   </td><td>0.19                   </td><td>                       </td></tr>\n",
       "\t<tr><td>  Median Poor          </td><td>-0.14                  </td><td>0.17                   </td><td>                       </td><td>-0.02                  </td><td>0.20                   </td><td>                       </td></tr>\n",
       "\t<tr><td>  Less Poor            </td><td>-0.08                  </td><td>0.18                   </td><td>                       </td><td>-0.10                  </td><td>0.21                   </td><td>                       </td></tr>\n",
       "\t<tr><td>  Least Poor           </td><td>0.24                   </td><td>0.20                   </td><td>                       </td><td>-0.15                  </td><td>0.22                   </td><td>                       </td></tr>\n",
       "</tbody>\n",
       "</table>\n"
      ],
      "text/latex": [
       "\\begin{tabular}{lllllll}\n",
       "  & Estimate & SE & p-value & Estimate & SE & p-value\\\\\n",
       "\\hline\n",
       "\t Intercept               & -3.61                   & 0.38                    & <0.001                  & -1.51                   & 0.39                    & <0.001                 \\\\\n",
       "\t Intervention            & 0.75                    & 0.19                    & <0.001                  & 0.09                    & 0.15                    & 0.538                  \\\\\n",
       "\t Baseline literacy score & 0.35                    & 0.02                    & <0.001                  & -0.03                   & 0.01                    & 0.105                  \\\\\n",
       "\t Age                     & 0.06                    & 0.04                    & 0.094                   & -0.02                   & 0.04                    & 0.544                  \\\\\n",
       "\t Sex (Female)            & -0.04                   & 0.11                    & 0.733                   & -0.00                   & 0.13                    & 0.991                  \\\\\n",
       "\t HH education            &                         &                         & 0.002                   &                         &                         & 0.021                  \\\\\n",
       "\t   primary               & 0.13                    & 0.13                    &                         & -0.34                   & 0.15                    &                        \\\\\n",
       "\t   secondary             & 0.61                    & 0.22                    &                         & -0.17                   & 0.24                    &                        \\\\\n",
       "\t   college/degree        & 1.16                    & 0.38                    &                         & 0.46                    & 0.32                    &                        \\\\\n",
       "\t SES household           &                         &                         & 0.357                   &                         &                         & 0.920                  \\\\\n",
       "\t   Poor                  & -0.04                   & 0.17                    &                         & 0.04                    & 0.19                    &                        \\\\\n",
       "\t   Median Poor           & -0.14                   & 0.17                    &                         & -0.02                   & 0.20                    &                        \\\\\n",
       "\t   Less Poor             & -0.08                   & 0.18                    &                         & -0.10                   & 0.21                    &                        \\\\\n",
       "\t   Least Poor            & 0.24                    & 0.20                    &                         & -0.15                   & 0.22                    &                        \\\\\n",
       "\\end{tabular}\n"
      ],
      "text/markdown": [
       "\n",
       " | Estimate | SE | p-value | Estimate | SE | p-value | \n",
       "|---|---|---|---|---|---|---|---|---|---|---|---|---|---|\n",
       "| Intercept               | -3.61                   | 0.38                    | <0.001                  | -1.51                   | 0.39                    | <0.001                  | \n",
       "| Intervention            | 0.75                    | 0.19                    | <0.001                  | 0.09                    | 0.15                    | 0.538                   | \n",
       "| Baseline literacy score | 0.35                    | 0.02                    | <0.001                  | -0.03                   | 0.01                    | 0.105                   | \n",
       "| Age                     | 0.06                    | 0.04                    | 0.094                   | -0.02                   | 0.04                    | 0.544                   | \n",
       "| Sex (Female)            | -0.04                   | 0.11                    | 0.733                   | -0.00                   | 0.13                    | 0.991                   | \n",
       "| HH education            |                         |                         | 0.002                   |                         |                         | 0.021                   | \n",
       "|   primary               | 0.13                    | 0.13                    |                         | -0.34                   | 0.15                    |                         | \n",
       "|   secondary             | 0.61                    | 0.22                    |                         | -0.17                   | 0.24                    |                         | \n",
       "|   college/degree        | 1.16                    | 0.38                    |                         | 0.46                    | 0.32                    |                         | \n",
       "| SES household           |                         |                         | 0.357                   |                         |                         | 0.920                   | \n",
       "|   Poor                  | -0.04                   | 0.17                    |                         | 0.04                    | 0.19                    |                         | \n",
       "|   Median Poor           | -0.14                   | 0.17                    |                         | -0.02                   | 0.20                    |                         | \n",
       "|   Less Poor             | -0.08                   | 0.18                    |                         | -0.10                   | 0.21                    |                         | \n",
       "|   Least Poor            | 0.24                    | 0.20                    |                         | -0.15                   | 0.22                    |                         | \n",
       "\n",
       "\n"
      ],
      "text/plain": [
       "                              Estimate SE   p-value Estimate SE   p-value\n",
       " [1,] Intercept               -3.61    0.38 <0.001  -1.51    0.39 <0.001 \n",
       " [2,] Intervention            0.75     0.19 <0.001  0.09     0.15 0.538  \n",
       " [3,] Baseline literacy score 0.35     0.02 <0.001  -0.03    0.01 0.105  \n",
       " [4,] Age                     0.06     0.04 0.094   -0.02    0.04 0.544  \n",
       " [5,] Sex (Female)            -0.04    0.11 0.733   -0.00    0.13 0.991  \n",
       " [6,] HH education                          0.002                 0.021  \n",
       " [7,]   primary               0.13     0.13         -0.34    0.15        \n",
       " [8,]   secondary             0.61     0.22         -0.17    0.24        \n",
       " [9,]   college/degree        1.16     0.38         0.46     0.32        \n",
       "[10,] SES household                         0.357                 0.920  \n",
       "[11,]   Poor                  -0.04    0.17         0.04     0.19        \n",
       "[12,]   Median Poor           -0.14    0.17         -0.02    0.20        \n",
       "[13,]   Less Poor             -0.08    0.18         -0.10    0.21        \n",
       "[14,]   Least Poor            0.24     0.20         -0.15    0.22        "
      ]
     },
     "metadata": {},
     "output_type": "display_data"
    }
   ],
   "source": [
    "tableS2 = ass\n",
    "tableS2"
   ]
  },
  {
   "cell_type": "code",
   "execution_count": null,
   "metadata": {},
   "outputs": [],
   "source": []
  }
 ],
 "metadata": {
  "kernelspec": {
   "display_name": "R",
   "language": "R",
   "name": "ir"
  },
  "language_info": {
   "codemirror_mode": "r",
   "file_extension": ".r",
   "mimetype": "text/x-r-source",
   "name": "R",
   "pygments_lexer": "r",
   "version": "3.4.3"
  }
 },
 "nbformat": 4,
 "nbformat_minor": 2
}
