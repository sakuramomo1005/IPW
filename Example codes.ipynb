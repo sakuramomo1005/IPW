{
 "cells": [
  {
   "cell_type": "markdown",
   "metadata": {},
   "source": [
    "# Roadmap\n",
    "\n",
    "This is a demo to show how we generate a dataset with missing values in outcome and how we apply \n",
    "\n",
    "* unadjust complete record analysis (CRA), \n",
    "* complete record analysis (CRA)\n",
    "* inverse probabilty weighting (IPW) without cluster effects\n",
    "* inverse probabilty weighting (IPW) with cluster effects considered\n",
    "* multilevel multiple imputation (MMI)\n",
    "\n",
    "to analysis the dataset with missing outcome "
   ]
  },
  {
   "cell_type": "markdown",
   "metadata": {},
   "source": [
    "#### Load in the needed libraries"
   ]
  },
  {
   "cell_type": "code",
   "execution_count": 1,
   "metadata": {},
   "outputs": [
    {
     "name": "stderr",
     "output_type": "stream",
     "text": [
      "Loading required package: Matrix\n"
     ]
    }
   ],
   "source": [
    "library(lme4)\n",
    "library(geepack)\n",
    "library(jomo)"
   ]
  },
  {
   "cell_type": "markdown",
   "metadata": {},
   "source": [
    "# Functions"
   ]
  },
  {
   "cell_type": "markdown",
   "metadata": {},
   "source": [
    "### 1. Function to catch errors and warns"
   ]
  },
  {
   "cell_type": "code",
   "execution_count": 2,
   "metadata": {},
   "outputs": [],
   "source": [
    "myTryCatch <- function(expr) {\n",
    "  # input: a statement\n",
    "  # output: the results of the statement, the warnings and the errors in this statement\n",
    "  warn <- err <- NULL\n",
    "  value <- withCallingHandlers(\n",
    "    tryCatch(expr, error=function(e) {\n",
    "      err <<- e\n",
    "      NULL\n",
    "    }), warning=function(w) {\n",
    "      warn <<- w\n",
    "      invokeRestart(\"muffleWarning\")\n",
    "    })\n",
    "  list(value=value, warning=warn, error=err)\n",
    "}"
   ]
  },
  {
   "cell_type": "markdown",
   "metadata": {},
   "source": [
    "### 2. Function to calculate the variance based on ICC"
   ]
  },
  {
   "cell_type": "code",
   "execution_count": 3,
   "metadata": {},
   "outputs": [],
   "source": [
    "missing_icc=function(icc){\n",
    "  # input: ICC\n",
    "  # output: the variance associated with this ICC\n",
    "  pi=3.142\n",
    "  a=pi^2/(3*(1/icc-1))\n",
    "  return(a)\n",
    "}"
   ]
  },
  {
   "cell_type": "markdown",
   "metadata": {},
   "source": [
    "#### 2.1 Example"
   ]
  },
  {
   "cell_type": "code",
   "execution_count": 4,
   "metadata": {},
   "outputs": [
    {
     "data": {
      "text/html": [
       "0.365635703703704"
      ],
      "text/latex": [
       "0.365635703703704"
      ],
      "text/markdown": [
       "0.365635703703704"
      ],
      "text/plain": [
       "[1] 0.3656357"
      ]
     },
     "metadata": {},
     "output_type": "display_data"
    }
   ],
   "source": [
    "missing_icc(0.1) "
   ]
  },
  {
   "cell_type": "markdown",
   "metadata": {},
   "source": [
    "### 3. Expit function"
   ]
  },
  {
   "cell_type": "code",
   "execution_count": 5,
   "metadata": {},
   "outputs": [],
   "source": [
    "expit=function(x){y=exp(x)/(1+exp(x));return(y)}"
   ]
  },
  {
   "cell_type": "markdown",
   "metadata": {},
   "source": [
    "#### 3. Example"
   ]
  },
  {
   "cell_type": "code",
   "execution_count": 6,
   "metadata": {},
   "outputs": [
    {
     "data": {
      "text/html": [
       "0.5"
      ],
      "text/latex": [
       "0.5"
      ],
      "text/markdown": [
       "0.5"
      ],
      "text/plain": [
       "[1] 0.5"
      ]
     },
     "metadata": {},
     "output_type": "display_data"
    },
    {
     "data": {
      "text/html": [
       "3.72007597602084e-44"
      ],
      "text/latex": [
       "3.72007597602084e-44"
      ],
      "text/markdown": [
       "3.72007597602084e-44"
      ],
      "text/plain": [
       "[1] 3.720076e-44"
      ]
     },
     "metadata": {},
     "output_type": "display_data"
    },
    {
     "data": {
      "text/html": [
       "1"
      ],
      "text/latex": [
       "1"
      ],
      "text/markdown": [
       "1"
      ],
      "text/plain": [
       "[1] 1"
      ]
     },
     "metadata": {},
     "output_type": "display_data"
    }
   ],
   "source": [
    "expit(0); expit(-100); expit(100)"
   ]
  },
  {
   "cell_type": "markdown",
   "metadata": {},
   "source": [
    "### 4. Function to generate the simulation datasets"
   ]
  },
  {
   "cell_type": "code",
   "execution_count": 7,
   "metadata": {},
   "outputs": [],
   "source": [
    "dategen=function(k,M,mux=0,varx,icc,mud=0,iccm,intercept){\n",
    "  K=2*k  # total cluster number\n",
    "  m=rpois(K,M) # cluster sizes\n",
    "  N=sum(m) # total individual number\n",
    "  i=rep(rep(c(0,1),each=k),times=m) # \n",
    "  cluster=rep(1:K,times=m)\n",
    "  vard=missing_icc(icc)\n",
    "  delta=rep(rnorm(K,mud,sqrt(vard)),times=m)\n",
    "  x=rnorm(N,mux,sqrt(varx))\n",
    "  p=expit(1+1.36*i+x+delta)\n",
    "  y=rbinom(N,1,p)\n",
    "  alpha=rep(rnorm(K,0,sqrt(missing_icc(iccm))),times=m)\n",
    "  mis=expit(intercept+i+x+alpha)\n",
    "  r=rbinom(N,1,mis)\n",
    "  res=data.frame(y=y,arm=i,x=x,cluster=cluster,delta=delta,mis=mis,r=r)\n",
    "  return(res)\n",
    "}"
   ]
  },
  {
   "cell_type": "markdown",
   "metadata": {},
   "source": [
    "#### 4.1 Example"
   ]
  },
  {
   "cell_type": "code",
   "execution_count": 8,
   "metadata": {},
   "outputs": [
    {
     "data": {
      "text/html": [
       "<table>\n",
       "<thead><tr><th scope=col>y</th><th scope=col>arm</th><th scope=col>x</th><th scope=col>cluster</th><th scope=col>delta</th><th scope=col>mis</th><th scope=col>r</th></tr></thead>\n",
       "<tbody>\n",
       "\t<tr><td>1         </td><td>0         </td><td>-0.1469305</td><td>1         </td><td>0.2869029 </td><td>0.1615242 </td><td>0         </td></tr>\n",
       "\t<tr><td>1         </td><td>0         </td><td>-0.3741830</td><td>1         </td><td>0.2869029 </td><td>0.1330585 </td><td>0         </td></tr>\n",
       "\t<tr><td>0         </td><td>0         </td><td> 0.3229701</td><td>1         </td><td>0.2869029 </td><td>0.2355867 </td><td>0         </td></tr>\n",
       "\t<tr><td>1         </td><td>0         </td><td> 0.6460363</td><td>1         </td><td>0.2869029 </td><td>0.2986020 </td><td>1         </td></tr>\n",
       "\t<tr><td>1         </td><td>0         </td><td>-0.1125027</td><td>1         </td><td>0.2869029 </td><td>0.1662414 </td><td>0         </td></tr>\n",
       "\t<tr><td>1         </td><td>0         </td><td> 0.1697805</td><td>1         </td><td>0.2869029 </td><td>0.2091231 </td><td>0         </td></tr>\n",
       "</tbody>\n",
       "</table>\n"
      ],
      "text/latex": [
       "\\begin{tabular}{r|lllllll}\n",
       " y & arm & x & cluster & delta & mis & r\\\\\n",
       "\\hline\n",
       "\t 1          & 0          & -0.1469305 & 1          & 0.2869029  & 0.1615242  & 0         \\\\\n",
       "\t 1          & 0          & -0.3741830 & 1          & 0.2869029  & 0.1330585  & 0         \\\\\n",
       "\t 0          & 0          &  0.3229701 & 1          & 0.2869029  & 0.2355867  & 0         \\\\\n",
       "\t 1          & 0          &  0.6460363 & 1          & 0.2869029  & 0.2986020  & 1         \\\\\n",
       "\t 1          & 0          & -0.1125027 & 1          & 0.2869029  & 0.1662414  & 0         \\\\\n",
       "\t 1          & 0          &  0.1697805 & 1          & 0.2869029  & 0.2091231  & 0         \\\\\n",
       "\\end{tabular}\n"
      ],
      "text/markdown": [
       "\n",
       "y | arm | x | cluster | delta | mis | r | \n",
       "|---|---|---|---|---|---|\n",
       "| 1          | 0          | -0.1469305 | 1          | 0.2869029  | 0.1615242  | 0          | \n",
       "| 1          | 0          | -0.3741830 | 1          | 0.2869029  | 0.1330585  | 0          | \n",
       "| 0          | 0          |  0.3229701 | 1          | 0.2869029  | 0.2355867  | 0          | \n",
       "| 1          | 0          |  0.6460363 | 1          | 0.2869029  | 0.2986020  | 1          | \n",
       "| 1          | 0          | -0.1125027 | 1          | 0.2869029  | 0.1662414  | 0          | \n",
       "| 1          | 0          |  0.1697805 | 1          | 0.2869029  | 0.2091231  | 0          | \n",
       "\n",
       "\n"
      ],
      "text/plain": [
       "  y arm x          cluster delta     mis       r\n",
       "1 1 0   -0.1469305 1       0.2869029 0.1615242 0\n",
       "2 1 0   -0.3741830 1       0.2869029 0.1330585 0\n",
       "3 0 0    0.3229701 1       0.2869029 0.2355867 0\n",
       "4 1 0    0.6460363 1       0.2869029 0.2986020 1\n",
       "5 1 0   -0.1125027 1       0.2869029 0.1662414 0\n",
       "6 1 0    0.1697805 1       0.2869029 0.2091231 0"
      ]
     },
     "metadata": {},
     "output_type": "display_data"
    }
   ],
   "source": [
    "example=dategen(k=50, M=50, varx=0.2, icc=0.1, iccm=0, intercept=-1.5)\n",
    "head(example)"
   ]
  },
  {
   "cell_type": "code",
   "execution_count": 9,
   "metadata": {
    "scrolled": true
   },
   "outputs": [
    {
     "data": {
      "text/html": [
       "<ol class=list-inline>\n",
       "\t<li>5081</li>\n",
       "\t<li>7</li>\n",
       "</ol>\n"
      ],
      "text/latex": [
       "\\begin{enumerate*}\n",
       "\\item 5081\n",
       "\\item 7\n",
       "\\end{enumerate*}\n"
      ],
      "text/markdown": [
       "1. 5081\n",
       "2. 7\n",
       "\n",
       "\n"
      ],
      "text/plain": [
       "[1] 5081    7"
      ]
     },
     "metadata": {},
     "output_type": "display_data"
    }
   ],
   "source": [
    "dim(example)"
   ]
  },
  {
   "cell_type": "code",
   "execution_count": 10,
   "metadata": {
    "scrolled": true
   },
   "outputs": [
    {
     "data": {
      "text/plain": [
       "\n",
       "   0    1 \n",
       "2622 2459 "
      ]
     },
     "metadata": {},
     "output_type": "display_data"
    }
   ],
   "source": [
    "table(example$arm)"
   ]
  },
  {
   "cell_type": "code",
   "execution_count": 11,
   "metadata": {},
   "outputs": [
    {
     "data": {
      "text/html": [
       "50.81"
      ],
      "text/latex": [
       "50.81"
      ],
      "text/markdown": [
       "50.81"
      ],
      "text/plain": [
       "[1] 50.81"
      ]
     },
     "metadata": {},
     "output_type": "display_data"
    }
   ],
   "source": [
    "mean(table(example$cluster))"
   ]
  },
  {
   "cell_type": "markdown",
   "metadata": {},
   "source": [
    "### 5. Function to calculate the missingness percentage in dataset"
   ]
  },
  {
   "cell_type": "code",
   "execution_count": 12,
   "metadata": {},
   "outputs": [],
   "source": [
    "missing_per=function(data){\n",
    "  # input:\n",
    "  # output:\n",
    "  res=sum(data$r)/dim(data)[1]\n",
    "  return(res)\n",
    "}"
   ]
  },
  {
   "cell_type": "markdown",
   "metadata": {},
   "source": [
    "#### 5.1 Example"
   ]
  },
  {
   "cell_type": "code",
   "execution_count": 13,
   "metadata": {},
   "outputs": [
    {
     "data": {
      "text/html": [
       "0.280456603030899"
      ],
      "text/latex": [
       "0.280456603030899"
      ],
      "text/markdown": [
       "0.280456603030899"
      ],
      "text/plain": [
       "[1] 0.2804566"
      ]
     },
     "metadata": {},
     "output_type": "display_data"
    }
   ],
   "source": [
    "missing_per(example)"
   ]
  },
  {
   "cell_type": "markdown",
   "metadata": {},
   "source": [
    "### 6.Pool function for multiple imputation (MI)"
   ]
  },
  {
   "cell_type": "code",
   "execution_count": 14,
   "metadata": {},
   "outputs": [],
   "source": [
    "mypool=function(mean0,sd0,num=5,print='no'){\n",
    "  m=mean(mean0,na.rm=TRUE)\n",
    "  v=mean(sd0,na.rm=TRUE)\n",
    "  B=sd(mean0,na.rm=TRUE)\n",
    "  v_hat=v+(1+1/num)*B\n",
    "  l=m-1.96*v_hat\n",
    "  u=m+1.96*v_hat\n",
    "  if(print=='no'){\n",
    "    return(list(mean=m,std=v_hat))\n",
    "  }\n",
    "  if(print=='yes'){\n",
    "    print('mean (95% CI)')\n",
    "    print(paste(round(m,2),\" (\",round(l,2),',',round(u,2),')',sep=''))\n",
    "    return(list(mean=m,std=v_hat))\n",
    "  }\n",
    "}"
   ]
  },
  {
   "cell_type": "markdown",
   "metadata": {},
   "source": [
    "# Simulate one dataset with missing outcomes"
   ]
  },
  {
   "cell_type": "markdown",
   "metadata": {},
   "source": [
    "Since in our simulation, we want to keep each dataset has the same percent of missing in outcome, which is 30%, we need to tune the intercepts when the parameters change in the dataset generation process. \n",
    "\n",
    "Here is how we tune the intercept in each round of simulation:\n",
    "\n",
    "* Given the parameters in the dataset, we get a large range of intercepts from -5 to 5, with step=0.1. Then 100 datasets can be generated. The one with the most closet percent of missingness to 0.3 will be selected"
   ]
  },
  {
   "cell_type": "markdown",
   "metadata": {},
   "source": [
    "#### Example"
   ]
  },
  {
   "cell_type": "code",
   "execution_count": 15,
   "metadata": {
    "scrolled": true
   },
   "outputs": [
    {
     "data": {
      "text/html": [
       "-1.5"
      ],
      "text/latex": [
       "-1.5"
      ],
      "text/markdown": [
       "-1.5"
      ],
      "text/plain": [
       "[1] -1.5"
      ]
     },
     "metadata": {},
     "output_type": "display_data"
    }
   ],
   "source": [
    "k=50;M=50;varx=0.2;icc=0.1;iccm=0.1\n",
    "\n",
    "mis=c()\n",
    "for(intercept in seq(-5,5,0.1)){\n",
    "    temp=dategen(k,M,varx=varx,icc=icc,iccm=iccm,intercept=intercept)  \n",
    "    mis=c(mis,missing_per(temp))\n",
    "}\n",
    "intercept=seq(-5,5,0.1)[which.min(abs(mis-0.3))]\n",
    "intercept"
   ]
  },
  {
   "cell_type": "code",
   "execution_count": 16,
   "metadata": {},
   "outputs": [
    {
     "data": {
      "text/html": [
       "0.307630360378498"
      ],
      "text/latex": [
       "0.307630360378498"
      ],
      "text/markdown": [
       "0.307630360378498"
      ],
      "text/plain": [
       "[1] 0.3076304"
      ]
     },
     "metadata": {},
     "output_type": "display_data"
    }
   ],
   "source": [
    "k=50;M=50;varx=0.2;icc=0.1;iccm=0.1\n",
    "intercept=-1.4\n",
    "example2=dategen(k,M,varx=varx,icc=icc,iccm=iccm,intercept=intercept)  \n",
    "missing_per(example2)"
   ]
  },
  {
   "cell_type": "markdown",
   "metadata": {},
   "source": [
    "### Analyze the dataset with missing outcomes"
   ]
  },
  {
   "cell_type": "markdown",
   "metadata": {},
   "source": [
    "Asign the dataset to **d1, d2,** and **d3** to make the variable name consist to the simulation codes\n",
    "\n",
    "* d1 is the original dataset without missingness\n",
    "* d3 is the dataset with missing values\n",
    "* d2 is the d1 dataset that delects the missing values in d3"
   ]
  },
  {
   "cell_type": "code",
   "execution_count": 17,
   "metadata": {
    "scrolled": true
   },
   "outputs": [
    {
     "data": {
      "text/html": [
       "<table>\n",
       "<thead><tr><th scope=col>y</th><th scope=col>arm</th><th scope=col>x</th><th scope=col>cluster</th><th scope=col>delta</th><th scope=col>mis</th><th scope=col>r</th></tr></thead>\n",
       "<tbody>\n",
       "\t<tr><td>1          </td><td>0          </td><td>-0.19685678</td><td>1          </td><td>-0.199188  </td><td>0.1209250  </td><td>0          </td></tr>\n",
       "\t<tr><td>0          </td><td>0          </td><td>-0.01159787</td><td>1          </td><td>-0.199188  </td><td>0.1420410  </td><td>0          </td></tr>\n",
       "\t<tr><td>1          </td><td>0          </td><td>-0.15495173</td><td>1          </td><td>-0.199188  </td><td>0.1254508  </td><td>0          </td></tr>\n",
       "\t<tr><td>1          </td><td>0          </td><td>-0.27905741</td><td>1          </td><td>-0.199188  </td><td>0.1124556  </td><td>0          </td></tr>\n",
       "\t<tr><td>1          </td><td>0          </td><td> 0.43872608</td><td>1          </td><td>-0.199188  </td><td>0.2061784  </td><td>0          </td></tr>\n",
       "\t<tr><td>1          </td><td>0          </td><td> 0.77151303</td><td>1          </td><td>-0.199188  </td><td>0.2659381  </td><td>0          </td></tr>\n",
       "</tbody>\n",
       "</table>\n"
      ],
      "text/latex": [
       "\\begin{tabular}{r|lllllll}\n",
       " y & arm & x & cluster & delta & mis & r\\\\\n",
       "\\hline\n",
       "\t 1           & 0           & -0.19685678 & 1           & -0.199188   & 0.1209250   & 0          \\\\\n",
       "\t 0           & 0           & -0.01159787 & 1           & -0.199188   & 0.1420410   & 0          \\\\\n",
       "\t 1           & 0           & -0.15495173 & 1           & -0.199188   & 0.1254508   & 0          \\\\\n",
       "\t 1           & 0           & -0.27905741 & 1           & -0.199188   & 0.1124556   & 0          \\\\\n",
       "\t 1           & 0           &  0.43872608 & 1           & -0.199188   & 0.2061784   & 0          \\\\\n",
       "\t 1           & 0           &  0.77151303 & 1           & -0.199188   & 0.2659381   & 0          \\\\\n",
       "\\end{tabular}\n"
      ],
      "text/markdown": [
       "\n",
       "y | arm | x | cluster | delta | mis | r | \n",
       "|---|---|---|---|---|---|\n",
       "| 1           | 0           | -0.19685678 | 1           | -0.199188   | 0.1209250   | 0           | \n",
       "| 0           | 0           | -0.01159787 | 1           | -0.199188   | 0.1420410   | 0           | \n",
       "| 1           | 0           | -0.15495173 | 1           | -0.199188   | 0.1254508   | 0           | \n",
       "| 1           | 0           | -0.27905741 | 1           | -0.199188   | 0.1124556   | 0           | \n",
       "| 1           | 0           |  0.43872608 | 1           | -0.199188   | 0.2061784   | 0           | \n",
       "| 1           | 0           |  0.77151303 | 1           | -0.199188   | 0.2659381   | 0           | \n",
       "\n",
       "\n"
      ],
      "text/plain": [
       "  y arm x           cluster delta     mis       r\n",
       "1 1 0   -0.19685678 1       -0.199188 0.1209250 0\n",
       "2 0 0   -0.01159787 1       -0.199188 0.1420410 0\n",
       "3 1 0   -0.15495173 1       -0.199188 0.1254508 0\n",
       "4 1 0   -0.27905741 1       -0.199188 0.1124556 0\n",
       "5 1 0    0.43872608 1       -0.199188 0.2061784 0\n",
       "6 1 0    0.77151303 1       -0.199188 0.2659381 0"
      ]
     },
     "metadata": {},
     "output_type": "display_data"
    }
   ],
   "source": [
    "# d1\n",
    "d1=example2\n",
    "head(d1)"
   ]
  },
  {
   "cell_type": "code",
   "execution_count": 18,
   "metadata": {
    "scrolled": true
   },
   "outputs": [
    {
     "data": {
      "text/html": [
       "<table>\n",
       "<thead><tr><th scope=col>y</th><th scope=col>arm</th><th scope=col>x</th><th scope=col>cluster</th><th scope=col>delta</th><th scope=col>mis</th><th scope=col>r</th><th scope=col>missing</th></tr></thead>\n",
       "<tbody>\n",
       "\t<tr><td>1          </td><td>0          </td><td>-0.19685678</td><td>1          </td><td>-0.199188  </td><td>0.1209250  </td><td>0          </td><td>0          </td></tr>\n",
       "\t<tr><td>0          </td><td>0          </td><td>-0.01159787</td><td>1          </td><td>-0.199188  </td><td>0.1420410  </td><td>0          </td><td>0          </td></tr>\n",
       "\t<tr><td>1          </td><td>0          </td><td>-0.15495173</td><td>1          </td><td>-0.199188  </td><td>0.1254508  </td><td>0          </td><td>0          </td></tr>\n",
       "\t<tr><td>1          </td><td>0          </td><td>-0.27905741</td><td>1          </td><td>-0.199188  </td><td>0.1124556  </td><td>0          </td><td>0          </td></tr>\n",
       "\t<tr><td>1          </td><td>0          </td><td> 0.43872608</td><td>1          </td><td>-0.199188  </td><td>0.2061784  </td><td>0          </td><td>0          </td></tr>\n",
       "\t<tr><td>1          </td><td>0          </td><td> 0.77151303</td><td>1          </td><td>-0.199188  </td><td>0.2659381  </td><td>0          </td><td>0          </td></tr>\n",
       "</tbody>\n",
       "</table>\n"
      ],
      "text/latex": [
       "\\begin{tabular}{r|llllllll}\n",
       " y & arm & x & cluster & delta & mis & r & missing\\\\\n",
       "\\hline\n",
       "\t 1           & 0           & -0.19685678 & 1           & -0.199188   & 0.1209250   & 0           & 0          \\\\\n",
       "\t 0           & 0           & -0.01159787 & 1           & -0.199188   & 0.1420410   & 0           & 0          \\\\\n",
       "\t 1           & 0           & -0.15495173 & 1           & -0.199188   & 0.1254508   & 0           & 0          \\\\\n",
       "\t 1           & 0           & -0.27905741 & 1           & -0.199188   & 0.1124556   & 0           & 0          \\\\\n",
       "\t 1           & 0           &  0.43872608 & 1           & -0.199188   & 0.2061784   & 0           & 0          \\\\\n",
       "\t 1           & 0           &  0.77151303 & 1           & -0.199188   & 0.2659381   & 0           & 0          \\\\\n",
       "\\end{tabular}\n"
      ],
      "text/markdown": [
       "\n",
       "y | arm | x | cluster | delta | mis | r | missing | \n",
       "|---|---|---|---|---|---|\n",
       "| 1           | 0           | -0.19685678 | 1           | -0.199188   | 0.1209250   | 0           | 0           | \n",
       "| 0           | 0           | -0.01159787 | 1           | -0.199188   | 0.1420410   | 0           | 0           | \n",
       "| 1           | 0           | -0.15495173 | 1           | -0.199188   | 0.1254508   | 0           | 0           | \n",
       "| 1           | 0           | -0.27905741 | 1           | -0.199188   | 0.1124556   | 0           | 0           | \n",
       "| 1           | 0           |  0.43872608 | 1           | -0.199188   | 0.2061784   | 0           | 0           | \n",
       "| 1           | 0           |  0.77151303 | 1           | -0.199188   | 0.2659381   | 0           | 0           | \n",
       "\n",
       "\n"
      ],
      "text/plain": [
       "  y arm x           cluster delta     mis       r missing\n",
       "1 1 0   -0.19685678 1       -0.199188 0.1209250 0 0      \n",
       "2 0 0   -0.01159787 1       -0.199188 0.1420410 0 0      \n",
       "3 1 0   -0.15495173 1       -0.199188 0.1254508 0 0      \n",
       "4 1 0   -0.27905741 1       -0.199188 0.1124556 0 0      \n",
       "5 1 0    0.43872608 1       -0.199188 0.2061784 0 0      \n",
       "6 1 0    0.77151303 1       -0.199188 0.2659381 0 0      "
      ]
     },
     "metadata": {},
     "output_type": "display_data"
    }
   ],
   "source": [
    "# d3\n",
    "d3=example2\n",
    "d3$y=ifelse(d3$r==1,NA,d3$y)\n",
    "d3$missing=d3$r\n",
    "head(d3)"
   ]
  },
  {
   "cell_type": "code",
   "execution_count": 19,
   "metadata": {},
   "outputs": [
    {
     "data": {
      "text/html": [
       "<table>\n",
       "<thead><tr><th scope=col>y</th><th scope=col>arm</th><th scope=col>x</th><th scope=col>cluster</th><th scope=col>delta</th><th scope=col>mis</th><th scope=col>r</th><th scope=col>missing</th></tr></thead>\n",
       "<tbody>\n",
       "\t<tr><td>1          </td><td>0          </td><td>-0.19685678</td><td>1          </td><td>-0.199188  </td><td>0.1209250  </td><td>0          </td><td>0          </td></tr>\n",
       "\t<tr><td>0          </td><td>0          </td><td>-0.01159787</td><td>1          </td><td>-0.199188  </td><td>0.1420410  </td><td>0          </td><td>0          </td></tr>\n",
       "\t<tr><td>1          </td><td>0          </td><td>-0.15495173</td><td>1          </td><td>-0.199188  </td><td>0.1254508  </td><td>0          </td><td>0          </td></tr>\n",
       "\t<tr><td>1          </td><td>0          </td><td>-0.27905741</td><td>1          </td><td>-0.199188  </td><td>0.1124556  </td><td>0          </td><td>0          </td></tr>\n",
       "\t<tr><td>1          </td><td>0          </td><td> 0.43872608</td><td>1          </td><td>-0.199188  </td><td>0.2061784  </td><td>0          </td><td>0          </td></tr>\n",
       "\t<tr><td>1          </td><td>0          </td><td> 0.77151303</td><td>1          </td><td>-0.199188  </td><td>0.2659381  </td><td>0          </td><td>0          </td></tr>\n",
       "</tbody>\n",
       "</table>\n"
      ],
      "text/latex": [
       "\\begin{tabular}{r|llllllll}\n",
       " y & arm & x & cluster & delta & mis & r & missing\\\\\n",
       "\\hline\n",
       "\t 1           & 0           & -0.19685678 & 1           & -0.199188   & 0.1209250   & 0           & 0          \\\\\n",
       "\t 0           & 0           & -0.01159787 & 1           & -0.199188   & 0.1420410   & 0           & 0          \\\\\n",
       "\t 1           & 0           & -0.15495173 & 1           & -0.199188   & 0.1254508   & 0           & 0          \\\\\n",
       "\t 1           & 0           & -0.27905741 & 1           & -0.199188   & 0.1124556   & 0           & 0          \\\\\n",
       "\t 1           & 0           &  0.43872608 & 1           & -0.199188   & 0.2061784   & 0           & 0          \\\\\n",
       "\t 1           & 0           &  0.77151303 & 1           & -0.199188   & 0.2659381   & 0           & 0          \\\\\n",
       "\\end{tabular}\n"
      ],
      "text/markdown": [
       "\n",
       "y | arm | x | cluster | delta | mis | r | missing | \n",
       "|---|---|---|---|---|---|\n",
       "| 1           | 0           | -0.19685678 | 1           | -0.199188   | 0.1209250   | 0           | 0           | \n",
       "| 0           | 0           | -0.01159787 | 1           | -0.199188   | 0.1420410   | 0           | 0           | \n",
       "| 1           | 0           | -0.15495173 | 1           | -0.199188   | 0.1254508   | 0           | 0           | \n",
       "| 1           | 0           | -0.27905741 | 1           | -0.199188   | 0.1124556   | 0           | 0           | \n",
       "| 1           | 0           |  0.43872608 | 1           | -0.199188   | 0.2061784   | 0           | 0           | \n",
       "| 1           | 0           |  0.77151303 | 1           | -0.199188   | 0.2659381   | 0           | 0           | \n",
       "\n",
       "\n"
      ],
      "text/plain": [
       "  y arm x           cluster delta     mis       r missing\n",
       "1 1 0   -0.19685678 1       -0.199188 0.1209250 0 0      \n",
       "2 0 0   -0.01159787 1       -0.199188 0.1420410 0 0      \n",
       "3 1 0   -0.15495173 1       -0.199188 0.1254508 0 0      \n",
       "4 1 0   -0.27905741 1       -0.199188 0.1124556 0 0      \n",
       "5 1 0    0.43872608 1       -0.199188 0.2061784 0 0      \n",
       "6 1 0    0.77151303 1       -0.199188 0.2659381 0 0      "
      ]
     },
     "metadata": {},
     "output_type": "display_data"
    }
   ],
   "source": [
    "# d2\n",
    "d2=na.omit(d3)\n",
    "head(d2)"
   ]
  },
  {
   "cell_type": "markdown",
   "metadata": {},
   "source": [
    "### 1.1 True effect with independent working correlation matrix"
   ]
  },
  {
   "cell_type": "code",
   "execution_count": 20,
   "metadata": {},
   "outputs": [],
   "source": [
    "trues_ind=geeglm(formula=y~arm,id=cluster, data = d1,\n",
    "                                    family =  binomial(\"logit\"),\n",
    "                                    corstr = \"independence\")"
   ]
  },
  {
   "cell_type": "code",
   "execution_count": 21,
   "metadata": {
    "scrolled": true
   },
   "outputs": [
    {
     "data": {
      "text/html": [
       "<table>\n",
       "<thead><tr><th></th><th scope=col>Estimate</th><th scope=col>Std.err</th><th scope=col>Wald</th><th scope=col>Pr(&gt;|W|)</th></tr></thead>\n",
       "<tbody>\n",
       "\t<tr><th scope=row>(Intercept)</th><td>0.9447017 </td><td>0.07848507</td><td>144.88230 </td><td>0         </td></tr>\n",
       "\t<tr><th scope=row>arm</th><td>1.1779649 </td><td>0.13776752</td><td> 73.10903 </td><td>0         </td></tr>\n",
       "</tbody>\n",
       "</table>\n"
      ],
      "text/latex": [
       "\\begin{tabular}{r|llll}\n",
       "  & Estimate & Std.err & Wald & Pr(>\\textbar{}W\\textbar{})\\\\\n",
       "\\hline\n",
       "\t(Intercept) & 0.9447017  & 0.07848507 & 144.88230  & 0         \\\\\n",
       "\tarm & 1.1779649  & 0.13776752 &  73.10903  & 0         \\\\\n",
       "\\end{tabular}\n"
      ],
      "text/markdown": [
       "\n",
       "| <!--/--> | Estimate | Std.err | Wald | Pr(>|W|) | \n",
       "|---|---|\n",
       "| (Intercept) | 0.9447017  | 0.07848507 | 144.88230  | 0          | \n",
       "| arm | 1.1779649  | 0.13776752 |  73.10903  | 0          | \n",
       "\n",
       "\n"
      ],
      "text/plain": [
       "            Estimate  Std.err    Wald      Pr(>|W|)\n",
       "(Intercept) 0.9447017 0.07848507 144.88230 0       \n",
       "arm         1.1779649 0.13776752  73.10903 0       "
      ]
     },
     "metadata": {},
     "output_type": "display_data"
    }
   ],
   "source": [
    "summary(trues_ind)$coefficients"
   ]
  },
  {
   "cell_type": "markdown",
   "metadata": {},
   "source": [
    "### 1.2 True effect with exchangeable working correlation matrix"
   ]
  },
  {
   "cell_type": "code",
   "execution_count": 22,
   "metadata": {},
   "outputs": [],
   "source": [
    "trues_ex=geeglm(formula=y~arm,id=cluster, data = d1,\n",
    "                                   family =  binomial(\"logit\"),\n",
    "                                   corstr = \"exchangeable\")"
   ]
  },
  {
   "cell_type": "code",
   "execution_count": 23,
   "metadata": {},
   "outputs": [
    {
     "data": {
      "text/html": [
       "<table>\n",
       "<thead><tr><th></th><th scope=col>Estimate</th><th scope=col>Std.err</th><th scope=col>Wald</th><th scope=col>Pr(&gt;|W|)</th></tr></thead>\n",
       "<tbody>\n",
       "\t<tr><th scope=row>(Intercept)</th><td>0.9393288 </td><td>0.07764006</td><td>146.37387 </td><td>0         </td></tr>\n",
       "\t<tr><th scope=row>arm</th><td>1.1951098 </td><td>0.13400613</td><td> 79.53647 </td><td>0         </td></tr>\n",
       "</tbody>\n",
       "</table>\n"
      ],
      "text/latex": [
       "\\begin{tabular}{r|llll}\n",
       "  & Estimate & Std.err & Wald & Pr(>\\textbar{}W\\textbar{})\\\\\n",
       "\\hline\n",
       "\t(Intercept) & 0.9393288  & 0.07764006 & 146.37387  & 0         \\\\\n",
       "\tarm & 1.1951098  & 0.13400613 &  79.53647  & 0         \\\\\n",
       "\\end{tabular}\n"
      ],
      "text/markdown": [
       "\n",
       "| <!--/--> | Estimate | Std.err | Wald | Pr(>|W|) | \n",
       "|---|---|\n",
       "| (Intercept) | 0.9393288  | 0.07764006 | 146.37387  | 0          | \n",
       "| arm | 1.1951098  | 0.13400613 |  79.53647  | 0          | \n",
       "\n",
       "\n"
      ],
      "text/plain": [
       "            Estimate  Std.err    Wald      Pr(>|W|)\n",
       "(Intercept) 0.9393288 0.07764006 146.37387 0       \n",
       "arm         1.1951098 0.13400613  79.53647 0       "
      ]
     },
     "metadata": {},
     "output_type": "display_data"
    }
   ],
   "source": [
    "summary(trues_ex)$coefficients"
   ]
  },
  {
   "cell_type": "markdown",
   "metadata": {},
   "source": [
    "### 2.1 Unadjusted CRA with independent working correlation matrix"
   ]
  },
  {
   "cell_type": "code",
   "execution_count": 24,
   "metadata": {},
   "outputs": [],
   "source": [
    "d2=na.omit(d3)\n",
    "ucra_ind=geeglm(formula=y~arm,id=cluster, data = d2,\n",
    "                                   family =  binomial(\"logit\"),\n",
    "                                   corstr = \"independence\")"
   ]
  },
  {
   "cell_type": "code",
   "execution_count": 25,
   "metadata": {},
   "outputs": [
    {
     "data": {
      "text/html": [
       "<table>\n",
       "<thead><tr><th></th><th scope=col>Estimate</th><th scope=col>Std.err</th><th scope=col>Wald</th><th scope=col>Pr(&gt;|W|)</th></tr></thead>\n",
       "<tbody>\n",
       "\t<tr><th scope=row>(Intercept)</th><td>0.9322216   </td><td>0.07642514  </td><td>148.78727   </td><td>0.000000e+00</td></tr>\n",
       "\t<tr><th scope=row>arm</th><td>1.1109600   </td><td>0.14831494  </td><td> 56.10829   </td><td>6.861178e-14</td></tr>\n",
       "</tbody>\n",
       "</table>\n"
      ],
      "text/latex": [
       "\\begin{tabular}{r|llll}\n",
       "  & Estimate & Std.err & Wald & Pr(>\\textbar{}W\\textbar{})\\\\\n",
       "\\hline\n",
       "\t(Intercept) & 0.9322216    & 0.07642514   & 148.78727    & 0.000000e+00\\\\\n",
       "\tarm & 1.1109600    & 0.14831494   &  56.10829    & 6.861178e-14\\\\\n",
       "\\end{tabular}\n"
      ],
      "text/markdown": [
       "\n",
       "| <!--/--> | Estimate | Std.err | Wald | Pr(>|W|) | \n",
       "|---|---|\n",
       "| (Intercept) | 0.9322216    | 0.07642514   | 148.78727    | 0.000000e+00 | \n",
       "| arm | 1.1109600    | 0.14831494   |  56.10829    | 6.861178e-14 | \n",
       "\n",
       "\n"
      ],
      "text/plain": [
       "            Estimate  Std.err    Wald      Pr(>|W|)    \n",
       "(Intercept) 0.9322216 0.07642514 148.78727 0.000000e+00\n",
       "arm         1.1109600 0.14831494  56.10829 6.861178e-14"
      ]
     },
     "metadata": {},
     "output_type": "display_data"
    }
   ],
   "source": [
    "summary(ucra_ind)$coefficients"
   ]
  },
  {
   "cell_type": "markdown",
   "metadata": {},
   "source": [
    "### 2.2 Unadjusted CRA with exchangeable working correlation matrix"
   ]
  },
  {
   "cell_type": "code",
   "execution_count": 26,
   "metadata": {},
   "outputs": [],
   "source": [
    "ucra_ex=geeglm(formula=y~arm,id=cluster, data = d2,\n",
    "                                  family =  binomial(\"logit\"),\n",
    "                                  corstr = \"exchangeable\")"
   ]
  },
  {
   "cell_type": "code",
   "execution_count": 27,
   "metadata": {},
   "outputs": [
    {
     "data": {
      "text/html": [
       "<table>\n",
       "<thead><tr><th></th><th scope=col>Estimate</th><th scope=col>Std.err</th><th scope=col>Wald</th><th scope=col>Pr(&gt;|W|)</th></tr></thead>\n",
       "<tbody>\n",
       "\t<tr><th scope=row>(Intercept)</th><td>0.9270717   </td><td>0.0743951   </td><td>155.28802   </td><td>0.000000e+00</td></tr>\n",
       "\t<tr><th scope=row>arm</th><td>1.0907114   </td><td>0.1440184   </td><td> 57.35668   </td><td>3.630429e-14</td></tr>\n",
       "</tbody>\n",
       "</table>\n"
      ],
      "text/latex": [
       "\\begin{tabular}{r|llll}\n",
       "  & Estimate & Std.err & Wald & Pr(>\\textbar{}W\\textbar{})\\\\\n",
       "\\hline\n",
       "\t(Intercept) & 0.9270717    & 0.0743951    & 155.28802    & 0.000000e+00\\\\\n",
       "\tarm & 1.0907114    & 0.1440184    &  57.35668    & 3.630429e-14\\\\\n",
       "\\end{tabular}\n"
      ],
      "text/markdown": [
       "\n",
       "| <!--/--> | Estimate | Std.err | Wald | Pr(>|W|) | \n",
       "|---|---|\n",
       "| (Intercept) | 0.9270717    | 0.0743951    | 155.28802    | 0.000000e+00 | \n",
       "| arm | 1.0907114    | 0.1440184    |  57.35668    | 3.630429e-14 | \n",
       "\n",
       "\n"
      ],
      "text/plain": [
       "            Estimate  Std.err   Wald      Pr(>|W|)    \n",
       "(Intercept) 0.9270717 0.0743951 155.28802 0.000000e+00\n",
       "arm         1.0907114 0.1440184  57.35668 3.630429e-14"
      ]
     },
     "metadata": {},
     "output_type": "display_data"
    }
   ],
   "source": [
    "summary(ucra_ex)$coefficients"
   ]
  },
  {
   "cell_type": "markdown",
   "metadata": {},
   "source": [
    "### 3.1 Adjusted CRA with independent working correlation matrix"
   ]
  },
  {
   "cell_type": "code",
   "execution_count": 28,
   "metadata": {},
   "outputs": [],
   "source": [
    "cra_ind=geeglm(formula=y~x+arm,id=cluster, data = d2,\n",
    "                                  family =  binomial(\"logit\"),\n",
    "                                  corstr = \"independence\")"
   ]
  },
  {
   "cell_type": "code",
   "execution_count": 29,
   "metadata": {},
   "outputs": [
    {
     "data": {
      "text/html": [
       "<table>\n",
       "<thead><tr><th></th><th scope=col>Estimate</th><th scope=col>Std.err</th><th scope=col>Wald</th><th scope=col>Pr(&gt;|W|)</th></tr></thead>\n",
       "<tbody>\n",
       "\t<tr><th scope=row>(Intercept)</th><td>0.9924606   </td><td>0.08088748  </td><td>150.54420   </td><td>0.000000e+00</td></tr>\n",
       "\t<tr><th scope=row>x</th><td>0.8655646   </td><td>0.08620781  </td><td>100.81048   </td><td>0.000000e+00</td></tr>\n",
       "\t<tr><th scope=row>arm</th><td>1.1665538   </td><td>0.14921610  </td><td> 61.11928   </td><td>5.329071e-15</td></tr>\n",
       "</tbody>\n",
       "</table>\n"
      ],
      "text/latex": [
       "\\begin{tabular}{r|llll}\n",
       "  & Estimate & Std.err & Wald & Pr(>\\textbar{}W\\textbar{})\\\\\n",
       "\\hline\n",
       "\t(Intercept) & 0.9924606    & 0.08088748   & 150.54420    & 0.000000e+00\\\\\n",
       "\tx & 0.8655646    & 0.08620781   & 100.81048    & 0.000000e+00\\\\\n",
       "\tarm & 1.1665538    & 0.14921610   &  61.11928    & 5.329071e-15\\\\\n",
       "\\end{tabular}\n"
      ],
      "text/markdown": [
       "\n",
       "| <!--/--> | Estimate | Std.err | Wald | Pr(>|W|) | \n",
       "|---|---|---|\n",
       "| (Intercept) | 0.9924606    | 0.08088748   | 150.54420    | 0.000000e+00 | \n",
       "| x | 0.8655646    | 0.08620781   | 100.81048    | 0.000000e+00 | \n",
       "| arm | 1.1665538    | 0.14921610   |  61.11928    | 5.329071e-15 | \n",
       "\n",
       "\n"
      ],
      "text/plain": [
       "            Estimate  Std.err    Wald      Pr(>|W|)    \n",
       "(Intercept) 0.9924606 0.08088748 150.54420 0.000000e+00\n",
       "x           0.8655646 0.08620781 100.81048 0.000000e+00\n",
       "arm         1.1665538 0.14921610  61.11928 5.329071e-15"
      ]
     },
     "metadata": {},
     "output_type": "display_data"
    }
   ],
   "source": [
    "summary(cra_ind)$coefficients"
   ]
  },
  {
   "cell_type": "markdown",
   "metadata": {},
   "source": [
    "### 3.2 Adjusted CRA with exchangeable working correlation matrix"
   ]
  },
  {
   "cell_type": "code",
   "execution_count": 30,
   "metadata": {},
   "outputs": [],
   "source": [
    "cra_ex=geeglm(formula=y~x+arm,id=cluster, data = d2,\n",
    "                                 family =  binomial(\"logit\"),\n",
    "                                 corstr = \"exchangeable\")"
   ]
  },
  {
   "cell_type": "code",
   "execution_count": 31,
   "metadata": {},
   "outputs": [
    {
     "data": {
      "text/html": [
       "<table>\n",
       "<thead><tr><th></th><th scope=col>Estimate</th><th scope=col>Std.err</th><th scope=col>Wald</th><th scope=col>Pr(&gt;|W|)</th></tr></thead>\n",
       "<tbody>\n",
       "\t<tr><th scope=row>(Intercept)</th><td>0.9890455   </td><td>0.07872937  </td><td>157.81890   </td><td>0.000000e+00</td></tr>\n",
       "\t<tr><th scope=row>x</th><td>0.8702397   </td><td>0.08514418  </td><td>104.46430   </td><td>0.000000e+00</td></tr>\n",
       "\t<tr><th scope=row>arm</th><td>1.1409707   </td><td>0.14678714  </td><td> 60.41893   </td><td>7.660539e-15</td></tr>\n",
       "</tbody>\n",
       "</table>\n"
      ],
      "text/latex": [
       "\\begin{tabular}{r|llll}\n",
       "  & Estimate & Std.err & Wald & Pr(>\\textbar{}W\\textbar{})\\\\\n",
       "\\hline\n",
       "\t(Intercept) & 0.9890455    & 0.07872937   & 157.81890    & 0.000000e+00\\\\\n",
       "\tx & 0.8702397    & 0.08514418   & 104.46430    & 0.000000e+00\\\\\n",
       "\tarm & 1.1409707    & 0.14678714   &  60.41893    & 7.660539e-15\\\\\n",
       "\\end{tabular}\n"
      ],
      "text/markdown": [
       "\n",
       "| <!--/--> | Estimate | Std.err | Wald | Pr(>|W|) | \n",
       "|---|---|---|\n",
       "| (Intercept) | 0.9890455    | 0.07872937   | 157.81890    | 0.000000e+00 | \n",
       "| x | 0.8702397    | 0.08514418   | 104.46430    | 0.000000e+00 | \n",
       "| arm | 1.1409707    | 0.14678714   |  60.41893    | 7.660539e-15 | \n",
       "\n",
       "\n"
      ],
      "text/plain": [
       "            Estimate  Std.err    Wald      Pr(>|W|)    \n",
       "(Intercept) 0.9890455 0.07872937 157.81890 0.000000e+00\n",
       "x           0.8702397 0.08514418 104.46430 0.000000e+00\n",
       "arm         1.1409707 0.14678714  60.41893 7.660539e-15"
      ]
     },
     "metadata": {},
     "output_type": "display_data"
    }
   ],
   "source": [
    "summary(cra_ex)$coefficients"
   ]
  },
  {
   "cell_type": "markdown",
   "metadata": {},
   "source": [
    "### 4.1 IPW, without consideration of cluster effects, independent working correlation matrix"
   ]
  },
  {
   "cell_type": "markdown",
   "metadata": {},
   "source": [
    "By preforming IPW, we firstly calculate the weights of missingness for each participant. \n",
    "\n",
    "* w1: the weights without consideration of cluster effects\n",
    "* w2: the weights with consideration of cluster effects "
   ]
  },
  {
   "cell_type": "code",
   "execution_count": 32,
   "metadata": {},
   "outputs": [
    {
     "data": {
      "text/html": [
       "<table>\n",
       "<thead><tr><th></th><th scope=col>Estimate</th><th scope=col>Std. Error</th><th scope=col>z value</th><th scope=col>Pr(&gt;|z|)</th></tr></thead>\n",
       "<tbody>\n",
       "\t<tr><th scope=row>(Intercept)</th><td>-1.3237042   </td><td>0.04980259   </td><td>-26.57902    </td><td>1.186680e-155</td></tr>\n",
       "\t<tr><th scope=row>x</th><td> 0.8845521   </td><td>0.07402777   </td><td> 11.94892    </td><td> 6.577247e-33</td></tr>\n",
       "\t<tr><th scope=row>arm</th><td> 0.8928844   </td><td>0.06473582   </td><td> 13.79274    </td><td> 2.818423e-43</td></tr>\n",
       "</tbody>\n",
       "</table>\n"
      ],
      "text/latex": [
       "\\begin{tabular}{r|llll}\n",
       "  & Estimate & Std. Error & z value & Pr(>\\textbar{}z\\textbar{})\\\\\n",
       "\\hline\n",
       "\t(Intercept) & -1.3237042    & 0.04980259    & -26.57902     & 1.186680e-155\\\\\n",
       "\tx &  0.8845521    & 0.07402777    &  11.94892     &  6.577247e-33\\\\\n",
       "\tarm &  0.8928844    & 0.06473582    &  13.79274     &  2.818423e-43\\\\\n",
       "\\end{tabular}\n"
      ],
      "text/markdown": [
       "\n",
       "| <!--/--> | Estimate | Std. Error | z value | Pr(>|z|) | \n",
       "|---|---|---|\n",
       "| (Intercept) | -1.3237042    | 0.04980259    | -26.57902     | 1.186680e-155 | \n",
       "| x |  0.8845521    | 0.07402777    |  11.94892     |  6.577247e-33 | \n",
       "| arm |  0.8928844    | 0.06473582    |  13.79274     |  2.818423e-43 | \n",
       "\n",
       "\n"
      ],
      "text/plain": [
       "            Estimate   Std. Error z value   Pr(>|z|)     \n",
       "(Intercept) -1.3237042 0.04980259 -26.57902 1.186680e-155\n",
       "x            0.8845521 0.07402777  11.94892  6.577247e-33\n",
       "arm          0.8928844 0.06473582  13.79274  2.818423e-43"
      ]
     },
     "metadata": {},
     "output_type": "display_data"
    }
   ],
   "source": [
    "w1=glm(missing ~x + arm, data = d3, family = binomial(link='logit'))\n",
    "w2=glmer(missing ~x + arm+(1|cluster) , data = d3,family = binomial(link='logit'))\n",
    "summary(w1)$coefficients"
   ]
  },
  {
   "cell_type": "code",
   "execution_count": 33,
   "metadata": {},
   "outputs": [
    {
     "data": {
      "text/html": [
       "<table>\n",
       "<thead><tr><th></th><th scope=col>Estimate</th><th scope=col>Std. Error</th><th scope=col>z value</th><th scope=col>Pr(&gt;|z|)</th></tr></thead>\n",
       "<tbody>\n",
       "\t<tr><th scope=row>(Intercept)</th><td>-1.4240443  </td><td>0.10602023  </td><td>-13.43182   </td><td>3.936319e-41</td></tr>\n",
       "\t<tr><th scope=row>x</th><td> 0.9399899  </td><td>0.07755602  </td><td> 12.12014   </td><td>8.261648e-34</td></tr>\n",
       "\t<tr><th scope=row>arm</th><td> 0.9331475  </td><td>0.14664129  </td><td>  6.36347   </td><td>1.972453e-10</td></tr>\n",
       "</tbody>\n",
       "</table>\n"
      ],
      "text/latex": [
       "\\begin{tabular}{r|llll}\n",
       "  & Estimate & Std. Error & z value & Pr(>\\textbar{}z\\textbar{})\\\\\n",
       "\\hline\n",
       "\t(Intercept) & -1.4240443   & 0.10602023   & -13.43182    & 3.936319e-41\\\\\n",
       "\tx &  0.9399899   & 0.07755602   &  12.12014    & 8.261648e-34\\\\\n",
       "\tarm &  0.9331475   & 0.14664129   &   6.36347    & 1.972453e-10\\\\\n",
       "\\end{tabular}\n"
      ],
      "text/markdown": [
       "\n",
       "| <!--/--> | Estimate | Std. Error | z value | Pr(>|z|) | \n",
       "|---|---|---|\n",
       "| (Intercept) | -1.4240443   | 0.10602023   | -13.43182    | 3.936319e-41 | \n",
       "| x |  0.9399899   | 0.07755602   |  12.12014    | 8.261648e-34 | \n",
       "| arm |  0.9331475   | 0.14664129   |   6.36347    | 1.972453e-10 | \n",
       "\n",
       "\n"
      ],
      "text/plain": [
       "            Estimate   Std. Error z value   Pr(>|z|)    \n",
       "(Intercept) -1.4240443 0.10602023 -13.43182 3.936319e-41\n",
       "x            0.9399899 0.07755602  12.12014 8.261648e-34\n",
       "arm          0.9331475 0.14664129   6.36347 1.972453e-10"
      ]
     },
     "metadata": {},
     "output_type": "display_data"
    }
   ],
   "source": [
    "summary(w2)$coefficients"
   ]
  },
  {
   "cell_type": "code",
   "execution_count": 34,
   "metadata": {},
   "outputs": [],
   "source": [
    "w1=predict(w1,type=\"response\")\n",
    "w2=predict(w2,type=\"response\") \n",
    "# add the weights in the dataset\n",
    "d3$weight=1/w1\n",
    "d3$weight2=1/w2"
   ]
  },
  {
   "cell_type": "code",
   "execution_count": 35,
   "metadata": {
    "scrolled": true
   },
   "outputs": [
    {
     "data": {
      "text/html": [
       "<table>\n",
       "<thead><tr><th scope=col>y</th><th scope=col>arm</th><th scope=col>x</th><th scope=col>cluster</th><th scope=col>delta</th><th scope=col>mis</th><th scope=col>r</th><th scope=col>missing</th><th scope=col>weight</th><th scope=col>weight2</th></tr></thead>\n",
       "<tbody>\n",
       "\t<tr><td>1          </td><td>0          </td><td>-0.19685678</td><td>1          </td><td>-0.199188  </td><td>0.1209250  </td><td>0          </td><td>0          </td><td>5.471993   </td><td>7.925057   </td></tr>\n",
       "\t<tr><td>0          </td><td>0          </td><td>-0.01159787</td><td>1          </td><td>-0.199188  </td><td>0.1420410  </td><td>0          </td><td>0          </td><td>4.796058   </td><td>6.818280   </td></tr>\n",
       "\t<tr><td>1          </td><td>0          </td><td>-0.15495173</td><td>1          </td><td>-0.199188  </td><td>0.1254508  </td><td>0          </td><td>0          </td><td>5.309264   </td><td>7.657579   </td></tr>\n",
       "\t<tr><td>1          </td><td>0          </td><td>-0.27905741</td><td>1          </td><td>-0.199188  </td><td>0.1124556  </td><td>0          </td><td>0          </td><td>5.809268   </td><td>8.481356   </td></tr>\n",
       "\t<tr><td>1          </td><td>0          </td><td> 0.43872608</td><td>1          </td><td>-0.199188  </td><td>0.2061784  </td><td>0          </td><td>0          </td><td>3.548814   </td><td>4.810288   </td></tr>\n",
       "\t<tr><td>1          </td><td>0          </td><td> 0.77151303</td><td>1          </td><td>-0.199188  </td><td>0.2659381  </td><td>0          </td><td>0          </td><td>2.898873   </td><td>3.786785   </td></tr>\n",
       "</tbody>\n",
       "</table>\n"
      ],
      "text/latex": [
       "\\begin{tabular}{r|llllllllll}\n",
       " y & arm & x & cluster & delta & mis & r & missing & weight & weight2\\\\\n",
       "\\hline\n",
       "\t 1           & 0           & -0.19685678 & 1           & -0.199188   & 0.1209250   & 0           & 0           & 5.471993    & 7.925057   \\\\\n",
       "\t 0           & 0           & -0.01159787 & 1           & -0.199188   & 0.1420410   & 0           & 0           & 4.796058    & 6.818280   \\\\\n",
       "\t 1           & 0           & -0.15495173 & 1           & -0.199188   & 0.1254508   & 0           & 0           & 5.309264    & 7.657579   \\\\\n",
       "\t 1           & 0           & -0.27905741 & 1           & -0.199188   & 0.1124556   & 0           & 0           & 5.809268    & 8.481356   \\\\\n",
       "\t 1           & 0           &  0.43872608 & 1           & -0.199188   & 0.2061784   & 0           & 0           & 3.548814    & 4.810288   \\\\\n",
       "\t 1           & 0           &  0.77151303 & 1           & -0.199188   & 0.2659381   & 0           & 0           & 2.898873    & 3.786785   \\\\\n",
       "\\end{tabular}\n"
      ],
      "text/markdown": [
       "\n",
       "y | arm | x | cluster | delta | mis | r | missing | weight | weight2 | \n",
       "|---|---|---|---|---|---|\n",
       "| 1           | 0           | -0.19685678 | 1           | -0.199188   | 0.1209250   | 0           | 0           | 5.471993    | 7.925057    | \n",
       "| 0           | 0           | -0.01159787 | 1           | -0.199188   | 0.1420410   | 0           | 0           | 4.796058    | 6.818280    | \n",
       "| 1           | 0           | -0.15495173 | 1           | -0.199188   | 0.1254508   | 0           | 0           | 5.309264    | 7.657579    | \n",
       "| 1           | 0           | -0.27905741 | 1           | -0.199188   | 0.1124556   | 0           | 0           | 5.809268    | 8.481356    | \n",
       "| 1           | 0           |  0.43872608 | 1           | -0.199188   | 0.2061784   | 0           | 0           | 3.548814    | 4.810288    | \n",
       "| 1           | 0           |  0.77151303 | 1           | -0.199188   | 0.2659381   | 0           | 0           | 2.898873    | 3.786785    | \n",
       "\n",
       "\n"
      ],
      "text/plain": [
       "  y arm x           cluster delta     mis       r missing weight   weight2 \n",
       "1 1 0   -0.19685678 1       -0.199188 0.1209250 0 0       5.471993 7.925057\n",
       "2 0 0   -0.01159787 1       -0.199188 0.1420410 0 0       4.796058 6.818280\n",
       "3 1 0   -0.15495173 1       -0.199188 0.1254508 0 0       5.309264 7.657579\n",
       "4 1 0   -0.27905741 1       -0.199188 0.1124556 0 0       5.809268 8.481356\n",
       "5 1 0    0.43872608 1       -0.199188 0.2061784 0 0       3.548814 4.810288\n",
       "6 1 0    0.77151303 1       -0.199188 0.2659381 0 0       2.898873 3.786785"
      ]
     },
     "metadata": {},
     "output_type": "display_data"
    }
   ],
   "source": [
    "head(d3)"
   ]
  },
  {
   "cell_type": "markdown",
   "metadata": {},
   "source": [
    "Use IPW to analyze the data"
   ]
  },
  {
   "cell_type": "code",
   "execution_count": 36,
   "metadata": {},
   "outputs": [
    {
     "name": "stderr",
     "output_type": "stream",
     "text": [
      "Warning message in eval(family$initialize):\n",
      "“non-integer #successes in a binomial glm!”"
     ]
    }
   ],
   "source": [
    "ipw_ind=geeglm(formula=y~arm,id=cluster, data = d3,\n",
    "                                  family =  binomial(\"logit\"),\n",
    "                                  weights = d3$weight,\n",
    "                                  corstr = \"independence\")"
   ]
  },
  {
   "cell_type": "code",
   "execution_count": 37,
   "metadata": {},
   "outputs": [
    {
     "data": {
      "text/html": [
       "<table>\n",
       "<thead><tr><th></th><th scope=col>Estimate</th><th scope=col>Std.err</th><th scope=col>Wald</th><th scope=col>Pr(&gt;|W|)</th></tr></thead>\n",
       "<tbody>\n",
       "\t<tr><th scope=row>(Intercept)</th><td>0.8245646   </td><td>0.07535509  </td><td>119.73584   </td><td>0.000000e+00</td></tr>\n",
       "\t<tr><th scope=row>arm</th><td>1.0997879   </td><td>0.15196915  </td><td> 52.37295   </td><td>4.589662e-13</td></tr>\n",
       "</tbody>\n",
       "</table>\n"
      ],
      "text/latex": [
       "\\begin{tabular}{r|llll}\n",
       "  & Estimate & Std.err & Wald & Pr(>\\textbar{}W\\textbar{})\\\\\n",
       "\\hline\n",
       "\t(Intercept) & 0.8245646    & 0.07535509   & 119.73584    & 0.000000e+00\\\\\n",
       "\tarm & 1.0997879    & 0.15196915   &  52.37295    & 4.589662e-13\\\\\n",
       "\\end{tabular}\n"
      ],
      "text/markdown": [
       "\n",
       "| <!--/--> | Estimate | Std.err | Wald | Pr(>|W|) | \n",
       "|---|---|\n",
       "| (Intercept) | 0.8245646    | 0.07535509   | 119.73584    | 0.000000e+00 | \n",
       "| arm | 1.0997879    | 0.15196915   |  52.37295    | 4.589662e-13 | \n",
       "\n",
       "\n"
      ],
      "text/plain": [
       "            Estimate  Std.err    Wald      Pr(>|W|)    \n",
       "(Intercept) 0.8245646 0.07535509 119.73584 0.000000e+00\n",
       "arm         1.0997879 0.15196915  52.37295 4.589662e-13"
      ]
     },
     "metadata": {},
     "output_type": "display_data"
    }
   ],
   "source": [
    "summary(ipw_ind)$coefficients"
   ]
  },
  {
   "cell_type": "markdown",
   "metadata": {},
   "source": [
    "### 4.2 IPW, without consideration of cluster effects, exchangeable working correlation matrix"
   ]
  },
  {
   "cell_type": "code",
   "execution_count": 38,
   "metadata": {},
   "outputs": [
    {
     "name": "stderr",
     "output_type": "stream",
     "text": [
      "Warning message in eval(family$initialize):\n",
      "“non-integer #successes in a binomial glm!”"
     ]
    }
   ],
   "source": [
    "ipw_ex=geeglm(formula=y~arm,id=cluster, data = d3,\n",
    "                                 family =  binomial(\"logit\"),\n",
    "                                 weights = d3$weight,\n",
    "                                 corstr = \"exchangeable\")"
   ]
  },
  {
   "cell_type": "code",
   "execution_count": 39,
   "metadata": {},
   "outputs": [
    {
     "data": {
      "text/html": [
       "<table>\n",
       "<thead><tr><th></th><th scope=col>Estimate</th><th scope=col>Std.err</th><th scope=col>Wald</th><th scope=col>Pr(&gt;|W|)</th></tr></thead>\n",
       "<tbody>\n",
       "\t<tr><th scope=row>(Intercept)</th><td>0.7466171   </td><td>0.07512865  </td><td>98.76083    </td><td>0.000000e+00</td></tr>\n",
       "\t<tr><th scope=row>arm</th><td>1.0940630   </td><td>0.15100518  </td><td>52.49295    </td><td>4.317657e-13</td></tr>\n",
       "</tbody>\n",
       "</table>\n"
      ],
      "text/latex": [
       "\\begin{tabular}{r|llll}\n",
       "  & Estimate & Std.err & Wald & Pr(>\\textbar{}W\\textbar{})\\\\\n",
       "\\hline\n",
       "\t(Intercept) & 0.7466171    & 0.07512865   & 98.76083     & 0.000000e+00\\\\\n",
       "\tarm & 1.0940630    & 0.15100518   & 52.49295     & 4.317657e-13\\\\\n",
       "\\end{tabular}\n"
      ],
      "text/markdown": [
       "\n",
       "| <!--/--> | Estimate | Std.err | Wald | Pr(>|W|) | \n",
       "|---|---|\n",
       "| (Intercept) | 0.7466171    | 0.07512865   | 98.76083     | 0.000000e+00 | \n",
       "| arm | 1.0940630    | 0.15100518   | 52.49295     | 4.317657e-13 | \n",
       "\n",
       "\n"
      ],
      "text/plain": [
       "            Estimate  Std.err    Wald     Pr(>|W|)    \n",
       "(Intercept) 0.7466171 0.07512865 98.76083 0.000000e+00\n",
       "arm         1.0940630 0.15100518 52.49295 4.317657e-13"
      ]
     },
     "metadata": {},
     "output_type": "display_data"
    }
   ],
   "source": [
    "summary(ipw_ex)$coefficients"
   ]
  },
  {
   "cell_type": "markdown",
   "metadata": {},
   "source": [
    "### 5.1 IPW, with consideration of cluster effects, independent working correlation matrix"
   ]
  },
  {
   "cell_type": "code",
   "execution_count": 40,
   "metadata": {},
   "outputs": [
    {
     "name": "stderr",
     "output_type": "stream",
     "text": [
      "Warning message in eval(family$initialize):\n",
      "“non-integer #successes in a binomial glm!”"
     ]
    }
   ],
   "source": [
    "ipw_clu_ind=geeglm(formula=y~arm,id=cluster, data = d3,\n",
    "                                      family =  binomial(\"logit\"),\n",
    "                                      weights = d3$weight2,\n",
    "                                      corstr = \"independence\")"
   ]
  },
  {
   "cell_type": "code",
   "execution_count": 41,
   "metadata": {},
   "outputs": [
    {
     "data": {
      "text/html": [
       "<table>\n",
       "<thead><tr><th></th><th scope=col>Estimate</th><th scope=col>Std.err</th><th scope=col>Wald</th><th scope=col>Pr(&gt;|W|)</th></tr></thead>\n",
       "<tbody>\n",
       "\t<tr><th scope=row>(Intercept)</th><td>0.8290968   </td><td>0.08345892  </td><td>98.68814    </td><td>0.000000e+00</td></tr>\n",
       "\t<tr><th scope=row>arm</th><td>1.2379548   </td><td>0.16640605  </td><td>55.34410    </td><td>1.011413e-13</td></tr>\n",
       "</tbody>\n",
       "</table>\n"
      ],
      "text/latex": [
       "\\begin{tabular}{r|llll}\n",
       "  & Estimate & Std.err & Wald & Pr(>\\textbar{}W\\textbar{})\\\\\n",
       "\\hline\n",
       "\t(Intercept) & 0.8290968    & 0.08345892   & 98.68814     & 0.000000e+00\\\\\n",
       "\tarm & 1.2379548    & 0.16640605   & 55.34410     & 1.011413e-13\\\\\n",
       "\\end{tabular}\n"
      ],
      "text/markdown": [
       "\n",
       "| <!--/--> | Estimate | Std.err | Wald | Pr(>|W|) | \n",
       "|---|---|\n",
       "| (Intercept) | 0.8290968    | 0.08345892   | 98.68814     | 0.000000e+00 | \n",
       "| arm | 1.2379548    | 0.16640605   | 55.34410     | 1.011413e-13 | \n",
       "\n",
       "\n"
      ],
      "text/plain": [
       "            Estimate  Std.err    Wald     Pr(>|W|)    \n",
       "(Intercept) 0.8290968 0.08345892 98.68814 0.000000e+00\n",
       "arm         1.2379548 0.16640605 55.34410 1.011413e-13"
      ]
     },
     "metadata": {},
     "output_type": "display_data"
    }
   ],
   "source": [
    "summary(ipw_clu_ind)$coefficients"
   ]
  },
  {
   "cell_type": "markdown",
   "metadata": {},
   "source": [
    "### 5.2 IPW, with consideration of cluster effects, exchangeable working correlation matrix"
   ]
  },
  {
   "cell_type": "code",
   "execution_count": 42,
   "metadata": {},
   "outputs": [
    {
     "name": "stderr",
     "output_type": "stream",
     "text": [
      "Warning message in eval(family$initialize):\n",
      "“non-integer #successes in a binomial glm!”"
     ]
    }
   ],
   "source": [
    "ipw_clu_ex=geeglm(formula=y~arm,id=cluster, data = d3,\n",
    "                                     family =  binomial(\"logit\"),\n",
    "                                     weights = d3$weight2,\n",
    "                                     corstr = \"exchangeable\")"
   ]
  },
  {
   "cell_type": "code",
   "execution_count": 43,
   "metadata": {},
   "outputs": [
    {
     "data": {
      "text/html": [
       "<table>\n",
       "<thead><tr><th></th><th scope=col>Estimate</th><th scope=col>Std.err</th><th scope=col>Wald</th><th scope=col>Pr(&gt;|W|)</th></tr></thead>\n",
       "<tbody>\n",
       "\t<tr><th scope=row>(Intercept)</th><td>0.7240982   </td><td>0.08036469  </td><td>81.18287    </td><td>0.000000e+00</td></tr>\n",
       "\t<tr><th scope=row>arm</th><td>1.2548667   </td><td>0.16595839  </td><td>57.17376    </td><td>3.985701e-14</td></tr>\n",
       "</tbody>\n",
       "</table>\n"
      ],
      "text/latex": [
       "\\begin{tabular}{r|llll}\n",
       "  & Estimate & Std.err & Wald & Pr(>\\textbar{}W\\textbar{})\\\\\n",
       "\\hline\n",
       "\t(Intercept) & 0.7240982    & 0.08036469   & 81.18287     & 0.000000e+00\\\\\n",
       "\tarm & 1.2548667    & 0.16595839   & 57.17376     & 3.985701e-14\\\\\n",
       "\\end{tabular}\n"
      ],
      "text/markdown": [
       "\n",
       "| <!--/--> | Estimate | Std.err | Wald | Pr(>|W|) | \n",
       "|---|---|\n",
       "| (Intercept) | 0.7240982    | 0.08036469   | 81.18287     | 0.000000e+00 | \n",
       "| arm | 1.2548667    | 0.16595839   | 57.17376     | 3.985701e-14 | \n",
       "\n",
       "\n"
      ],
      "text/plain": [
       "            Estimate  Std.err    Wald     Pr(>|W|)    \n",
       "(Intercept) 0.7240982 0.08036469 81.18287 0.000000e+00\n",
       "arm         1.2548667 0.16595839 57.17376 3.985701e-14"
      ]
     },
     "metadata": {},
     "output_type": "display_data"
    }
   ],
   "source": [
    "summary(ipw_clu_ex)$coefficients"
   ]
  },
  {
   "cell_type": "markdown",
   "metadata": {},
   "source": [
    "### 6 Multiilevel multiple imputation"
   ]
  },
  {
   "cell_type": "markdown",
   "metadata": {},
   "source": [
    "#### Step 1: Imputate the dataset for 15 times. The new dataset is called as **imp**"
   ]
  },
  {
   "cell_type": "code",
   "execution_count": 44,
   "metadata": {},
   "outputs": [],
   "source": [
    "Nimp=15 # imputation time\n",
    "data.miss=d3\n",
    "y.cat= data.frame(outcome=data.miss$y)  # data frame for response variables with missing values\n",
    "y.numcat=c(2)                                 # number of levels in outcome variable\n",
    "clus=data.frame(clus=data.miss$cluster)          # data frame for clusters\n",
    "nobs=dim(data.miss)[1]\n",
    "\n",
    "x= data.frame(intercept=rep(1,nobs),covariate=data.miss$x,group=data.miss$arm)\n",
    "imp = jomo1rancat(Y.cat=y.cat, Y.numcat=y.numcat, X=x,\n",
    "        clus=clus,nburn=100, nbetween=25, nimp=Nimp,output=0)"
   ]
  },
  {
   "cell_type": "code",
   "execution_count": 45,
   "metadata": {},
   "outputs": [
    {
     "data": {
      "text/html": [
       "<ol class=list-inline>\n",
       "\t<li>4967</li>\n",
       "\t<li>10</li>\n",
       "</ol>\n"
      ],
      "text/latex": [
       "\\begin{enumerate*}\n",
       "\\item 4967\n",
       "\\item 10\n",
       "\\end{enumerate*}\n"
      ],
      "text/markdown": [
       "1. 4967\n",
       "2. 10\n",
       "\n",
       "\n"
      ],
      "text/plain": [
       "[1] 4967   10"
      ]
     },
     "metadata": {},
     "output_type": "display_data"
    },
    {
     "data": {
      "text/html": [
       "<ol class=list-inline>\n",
       "\t<li>79472</li>\n",
       "\t<li>8</li>\n",
       "</ol>\n"
      ],
      "text/latex": [
       "\\begin{enumerate*}\n",
       "\\item 79472\n",
       "\\item 8\n",
       "\\end{enumerate*}\n"
      ],
      "text/markdown": [
       "1. 79472\n",
       "2. 8\n",
       "\n",
       "\n"
      ],
      "text/plain": [
       "[1] 79472     8"
      ]
     },
     "metadata": {},
     "output_type": "display_data"
    }
   ],
   "source": [
    "dim(d3);dim(imp)"
   ]
  },
  {
   "cell_type": "code",
   "execution_count": 46,
   "metadata": {},
   "outputs": [
    {
     "data": {
      "text/html": [
       "79472"
      ],
      "text/latex": [
       "79472"
      ],
      "text/markdown": [
       "79472"
      ],
      "text/plain": [
       "[1] 79472"
      ]
     },
     "metadata": {},
     "output_type": "display_data"
    }
   ],
   "source": [
    "dim(d3)[1]*(1+15)"
   ]
  },
  {
   "cell_type": "markdown",
   "metadata": {},
   "source": [
    "#### Step 2: Analyze the 15 imputed datasets separately and save their results"
   ]
  },
  {
   "cell_type": "code",
   "execution_count": 47,
   "metadata": {},
   "outputs": [],
   "source": [
    "mmi_est_ind=c();mmi_std_ind=c();mmi_warn_ind=c()\n",
    "mmi_est_ex=c();mmi_std_ex=c();mmi_warn_ex=c()\n",
    "\n",
    "for(i in 1:Nimp){\n",
    "        temp=imp[imp$Imputation==i,]\n",
    "        rownames(temp)=NULL\n",
    "        temp$outcome=as.numeric(temp$outcome)-1\n",
    "        \n",
    "        mmi_ind=geeglm(formula=outcome~group,\n",
    "                                  id=clus , data = temp,\n",
    "                                  family =  binomial(\"logit\"),\n",
    "                                  corstr = \"independence\")\n",
    "        \n",
    "        mmi_ex=geeglm(formula=outcome~group,\n",
    "                                 id=clus , data = temp,\n",
    "                                 family =  binomial(\"logit\"),\n",
    "                                 corstr = \"exchangeable\")\n",
    "    \n",
    "       t1=summary(mmi_ind)$coefficients['group','Estimate']\n",
    "       t2=summary(mmi_ind)$coefficients['group','Std.err']\n",
    "       mmi_est_ind=c(mmi_est_ind,t1)\n",
    "       mmi_std_ind=c(mmi_std_ind,t2)\n",
    "    \n",
    "       t1=summary(mmi_ex)$coefficients['group','Estimate']\n",
    "       t2=summary(mmi_ex)$coefficients['group','Std.err']\n",
    "       mmi_est_ex=c(mmi_est_ex,t1)\n",
    "       mmi_std_ex=c(mmi_std_ex,t2)\n",
    "}"
   ]
  },
  {
   "cell_type": "markdown",
   "metadata": {},
   "source": [
    "#### Results"
   ]
  },
  {
   "cell_type": "code",
   "execution_count": 48,
   "metadata": {
    "scrolled": false
   },
   "outputs": [
    {
     "data": {
      "text/html": [
       "<ol class=list-inline>\n",
       "\t<li>1.09412994274887</li>\n",
       "\t<li>1.09020673958398</li>\n",
       "\t<li>1.1490709028192</li>\n",
       "\t<li>1.10023261743455</li>\n",
       "\t<li>1.04492048755211</li>\n",
       "\t<li>1.07398011912529</li>\n",
       "\t<li>0.998688244784761</li>\n",
       "\t<li>1.10428103829892</li>\n",
       "\t<li>1.15637699716657</li>\n",
       "\t<li>1.19865348973028</li>\n",
       "\t<li>0.967319603840791</li>\n",
       "\t<li>1.18337558673182</li>\n",
       "\t<li>1.10833844573001</li>\n",
       "\t<li>1.1333784056395</li>\n",
       "\t<li>1.04711766913998</li>\n",
       "</ol>\n"
      ],
      "text/latex": [
       "\\begin{enumerate*}\n",
       "\\item 1.09412994274887\n",
       "\\item 1.09020673958398\n",
       "\\item 1.1490709028192\n",
       "\\item 1.10023261743455\n",
       "\\item 1.04492048755211\n",
       "\\item 1.07398011912529\n",
       "\\item 0.998688244784761\n",
       "\\item 1.10428103829892\n",
       "\\item 1.15637699716657\n",
       "\\item 1.19865348973028\n",
       "\\item 0.967319603840791\n",
       "\\item 1.18337558673182\n",
       "\\item 1.10833844573001\n",
       "\\item 1.1333784056395\n",
       "\\item 1.04711766913998\n",
       "\\end{enumerate*}\n"
      ],
      "text/markdown": [
       "1. 1.09412994274887\n",
       "2. 1.09020673958398\n",
       "3. 1.1490709028192\n",
       "4. 1.10023261743455\n",
       "5. 1.04492048755211\n",
       "6. 1.07398011912529\n",
       "7. 0.998688244784761\n",
       "8. 1.10428103829892\n",
       "9. 1.15637699716657\n",
       "10. 1.19865348973028\n",
       "11. 0.967319603840791\n",
       "12. 1.18337558673182\n",
       "13. 1.10833844573001\n",
       "14. 1.1333784056395\n",
       "15. 1.04711766913998\n",
       "\n",
       "\n"
      ],
      "text/plain": [
       " [1] 1.0941299 1.0902067 1.1490709 1.1002326 1.0449205 1.0739801 0.9986882\n",
       " [8] 1.1042810 1.1563770 1.1986535 0.9673196 1.1833756 1.1083384 1.1333784\n",
       "[15] 1.0471177"
      ]
     },
     "metadata": {},
     "output_type": "display_data"
    }
   ],
   "source": [
    "mmi_est_ind"
   ]
  },
  {
   "cell_type": "code",
   "execution_count": 49,
   "metadata": {},
   "outputs": [
    {
     "data": {
      "text/html": [
       "<ol class=list-inline>\n",
       "\t<li>0.133561809559879</li>\n",
       "\t<li>0.138477805656246</li>\n",
       "\t<li>0.13866634990839</li>\n",
       "\t<li>0.139430763082265</li>\n",
       "\t<li>0.138770950077721</li>\n",
       "\t<li>0.144209558294102</li>\n",
       "\t<li>0.136781636254254</li>\n",
       "\t<li>0.143838255959696</li>\n",
       "\t<li>0.136036579949164</li>\n",
       "\t<li>0.1326949019401</li>\n",
       "\t<li>0.132726425891364</li>\n",
       "\t<li>0.124330194139274</li>\n",
       "\t<li>0.121209537379864</li>\n",
       "\t<li>0.134228453706873</li>\n",
       "\t<li>0.123610212435022</li>\n",
       "</ol>\n"
      ],
      "text/latex": [
       "\\begin{enumerate*}\n",
       "\\item 0.133561809559879\n",
       "\\item 0.138477805656246\n",
       "\\item 0.13866634990839\n",
       "\\item 0.139430763082265\n",
       "\\item 0.138770950077721\n",
       "\\item 0.144209558294102\n",
       "\\item 0.136781636254254\n",
       "\\item 0.143838255959696\n",
       "\\item 0.136036579949164\n",
       "\\item 0.1326949019401\n",
       "\\item 0.132726425891364\n",
       "\\item 0.124330194139274\n",
       "\\item 0.121209537379864\n",
       "\\item 0.134228453706873\n",
       "\\item 0.123610212435022\n",
       "\\end{enumerate*}\n"
      ],
      "text/markdown": [
       "1. 0.133561809559879\n",
       "2. 0.138477805656246\n",
       "3. 0.13866634990839\n",
       "4. 0.139430763082265\n",
       "5. 0.138770950077721\n",
       "6. 0.144209558294102\n",
       "7. 0.136781636254254\n",
       "8. 0.143838255959696\n",
       "9. 0.136036579949164\n",
       "10. 0.1326949019401\n",
       "11. 0.132726425891364\n",
       "12. 0.124330194139274\n",
       "13. 0.121209537379864\n",
       "14. 0.134228453706873\n",
       "15. 0.123610212435022\n",
       "\n",
       "\n"
      ],
      "text/plain": [
       " [1] 0.1335618 0.1384778 0.1386663 0.1394308 0.1387710 0.1442096 0.1367816\n",
       " [8] 0.1438383 0.1360366 0.1326949 0.1327264 0.1243302 0.1212095 0.1342285\n",
       "[15] 0.1236102"
      ]
     },
     "metadata": {},
     "output_type": "display_data"
    }
   ],
   "source": [
    "mmi_std_ind"
   ]
  },
  {
   "cell_type": "code",
   "execution_count": 50,
   "metadata": {},
   "outputs": [
    {
     "data": {
      "text/html": [
       "<ol class=list-inline>\n",
       "\t<li>1.10132790731384</li>\n",
       "\t<li>1.1111497501222</li>\n",
       "\t<li>1.16573712452682</li>\n",
       "\t<li>1.11456283671842</li>\n",
       "\t<li>1.06356754861373</li>\n",
       "\t<li>1.09754803492899</li>\n",
       "\t<li>1.01759594233908</li>\n",
       "\t<li>1.12087884415016</li>\n",
       "\t<li>1.16729062293531</li>\n",
       "\t<li>1.20378696580478</li>\n",
       "\t<li>0.986204012467771</li>\n",
       "\t<li>1.19636901449029</li>\n",
       "\t<li>1.11241540322304</li>\n",
       "\t<li>1.13895147914033</li>\n",
       "\t<li>1.06044959016145</li>\n",
       "</ol>\n"
      ],
      "text/latex": [
       "\\begin{enumerate*}\n",
       "\\item 1.10132790731384\n",
       "\\item 1.1111497501222\n",
       "\\item 1.16573712452682\n",
       "\\item 1.11456283671842\n",
       "\\item 1.06356754861373\n",
       "\\item 1.09754803492899\n",
       "\\item 1.01759594233908\n",
       "\\item 1.12087884415016\n",
       "\\item 1.16729062293531\n",
       "\\item 1.20378696580478\n",
       "\\item 0.986204012467771\n",
       "\\item 1.19636901449029\n",
       "\\item 1.11241540322304\n",
       "\\item 1.13895147914033\n",
       "\\item 1.06044959016145\n",
       "\\end{enumerate*}\n"
      ],
      "text/markdown": [
       "1. 1.10132790731384\n",
       "2. 1.1111497501222\n",
       "3. 1.16573712452682\n",
       "4. 1.11456283671842\n",
       "5. 1.06356754861373\n",
       "6. 1.09754803492899\n",
       "7. 1.01759594233908\n",
       "8. 1.12087884415016\n",
       "9. 1.16729062293531\n",
       "10. 1.20378696580478\n",
       "11. 0.986204012467771\n",
       "12. 1.19636901449029\n",
       "13. 1.11241540322304\n",
       "14. 1.13895147914033\n",
       "15. 1.06044959016145\n",
       "\n",
       "\n"
      ],
      "text/plain": [
       " [1] 1.101328 1.111150 1.165737 1.114563 1.063568 1.097548 1.017596 1.120879\n",
       " [9] 1.167291 1.203787 0.986204 1.196369 1.112415 1.138951 1.060450"
      ]
     },
     "metadata": {},
     "output_type": "display_data"
    }
   ],
   "source": [
    "mmi_est_ex"
   ]
  },
  {
   "cell_type": "code",
   "execution_count": 51,
   "metadata": {
    "scrolled": true
   },
   "outputs": [
    {
     "data": {
      "text/html": [
       "<ol class=list-inline>\n",
       "\t<li>0.132100965871348</li>\n",
       "\t<li>0.131622781908934</li>\n",
       "\t<li>0.136567481005705</li>\n",
       "\t<li>0.136409999660483</li>\n",
       "\t<li>0.133732921185889</li>\n",
       "\t<li>0.138801971880315</li>\n",
       "\t<li>0.133292677907332</li>\n",
       "\t<li>0.141101681802816</li>\n",
       "\t<li>0.130394473635094</li>\n",
       "\t<li>0.131259033568174</li>\n",
       "\t<li>0.129543245960054</li>\n",
       "\t<li>0.121897710389558</li>\n",
       "\t<li>0.120039237508899</li>\n",
       "\t<li>0.132227826913333</li>\n",
       "\t<li>0.12216039295522</li>\n",
       "</ol>\n"
      ],
      "text/latex": [
       "\\begin{enumerate*}\n",
       "\\item 0.132100965871348\n",
       "\\item 0.131622781908934\n",
       "\\item 0.136567481005705\n",
       "\\item 0.136409999660483\n",
       "\\item 0.133732921185889\n",
       "\\item 0.138801971880315\n",
       "\\item 0.133292677907332\n",
       "\\item 0.141101681802816\n",
       "\\item 0.130394473635094\n",
       "\\item 0.131259033568174\n",
       "\\item 0.129543245960054\n",
       "\\item 0.121897710389558\n",
       "\\item 0.120039237508899\n",
       "\\item 0.132227826913333\n",
       "\\item 0.12216039295522\n",
       "\\end{enumerate*}\n"
      ],
      "text/markdown": [
       "1. 0.132100965871348\n",
       "2. 0.131622781908934\n",
       "3. 0.136567481005705\n",
       "4. 0.136409999660483\n",
       "5. 0.133732921185889\n",
       "6. 0.138801971880315\n",
       "7. 0.133292677907332\n",
       "8. 0.141101681802816\n",
       "9. 0.130394473635094\n",
       "10. 0.131259033568174\n",
       "11. 0.129543245960054\n",
       "12. 0.121897710389558\n",
       "13. 0.120039237508899\n",
       "14. 0.132227826913333\n",
       "15. 0.12216039295522\n",
       "\n",
       "\n"
      ],
      "text/plain": [
       " [1] 0.1321010 0.1316228 0.1365675 0.1364100 0.1337329 0.1388020 0.1332927\n",
       " [8] 0.1411017 0.1303945 0.1312590 0.1295432 0.1218977 0.1200392 0.1322278\n",
       "[15] 0.1221604"
      ]
     },
     "metadata": {},
     "output_type": "display_data"
    }
   ],
   "source": [
    "mmi_std_ex"
   ]
  },
  {
   "cell_type": "markdown",
   "metadata": {},
   "source": [
    "#### Step 3: Pool the saved results"
   ]
  },
  {
   "cell_type": "code",
   "execution_count": 52,
   "metadata": {},
   "outputs": [],
   "source": [
    "mmi_res1=mypool(mmi_est_ind,mmi_std_ind,num=Nimp)\n",
    "mmi_res2=mypool(mmi_est_ex,mmi_std_ex,num=Nimp)"
   ]
  },
  {
   "cell_type": "markdown",
   "metadata": {},
   "source": [
    "#### The final results"
   ]
  },
  {
   "cell_type": "code",
   "execution_count": 53,
   "metadata": {},
   "outputs": [
    {
     "data": {
      "text/html": [
       "<dl>\n",
       "\t<dt>$mean</dt>\n",
       "\t\t<dd>1.09667135268844</dd>\n",
       "\t<dt>$std</dt>\n",
       "\t\t<dd>0.203116235531314</dd>\n",
       "</dl>\n"
      ],
      "text/latex": [
       "\\begin{description}\n",
       "\\item[\\$mean] 1.09667135268844\n",
       "\\item[\\$std] 0.203116235531314\n",
       "\\end{description}\n"
      ],
      "text/markdown": [
       "$mean\n",
       ":   1.09667135268844\n",
       "$std\n",
       ":   0.203116235531314\n",
       "\n",
       "\n"
      ],
      "text/plain": [
       "$mean\n",
       "[1] 1.096671\n",
       "\n",
       "$std\n",
       "[1] 0.2031162\n"
      ]
     },
     "metadata": {},
     "output_type": "display_data"
    }
   ],
   "source": [
    "mmi_res1  # with independent working correlation matrix"
   ]
  },
  {
   "cell_type": "code",
   "execution_count": 54,
   "metadata": {},
   "outputs": [
    {
     "data": {
      "text/html": [
       "<dl>\n",
       "\t<dt>$mean</dt>\n",
       "\t\t<dd>1.11052233846241</dd>\n",
       "\t<dt>$std</dt>\n",
       "\t\t<dd>0.196624227837091</dd>\n",
       "</dl>\n"
      ],
      "text/latex": [
       "\\begin{description}\n",
       "\\item[\\$mean] 1.11052233846241\n",
       "\\item[\\$std] 0.196624227837091\n",
       "\\end{description}\n"
      ],
      "text/markdown": [
       "$mean\n",
       ":   1.11052233846241\n",
       "$std\n",
       ":   0.196624227837091\n",
       "\n",
       "\n"
      ],
      "text/plain": [
       "$mean\n",
       "[1] 1.110522\n",
       "\n",
       "$std\n",
       "[1] 0.1966242\n"
      ]
     },
     "metadata": {},
     "output_type": "display_data"
    }
   ],
   "source": [
    "mmi_res2 # with exchangeable working correlation matrix"
   ]
  },
  {
   "cell_type": "markdown",
   "metadata": {},
   "source": [
    "# Try to run the whole codes together \n",
    "\n",
    "Run times of simulations (Do not set to T=1000 since it takes a lot of time) "
   ]
  },
  {
   "cell_type": "code",
   "execution_count": 55,
   "metadata": {},
   "outputs": [
    {
     "name": "stdout",
     "output_type": "stream",
     "text": [
      "[1] \"icc 0.1 iccm 0.1 times 1\"\n",
      "[1] \"icc 0.1 iccm 0.1 times 2\"\n",
      "[1] \"icc 0.1 iccm 0.1 times 3\"\n",
      "[1] \"icc 0.1 iccm 0.1 times 4\"\n",
      "[1] \"icc 0.1 iccm 0.1 times 5\"\n",
      "$est_ind\n",
      "  true_est_ind ucra_est_ind cra_est_ind ipw_est_ind ipw_clu_est_ind\n",
      "1     1.310384     1.159828    1.224555    1.210207        1.159971\n",
      "2     1.363460     1.309820    1.413219    1.344728        1.401885\n",
      "3     1.271641     1.247465    1.317396    1.355534        1.352649\n",
      "4     1.288215     1.341463    1.382355    1.370798        1.526852\n",
      "5     1.397283     1.319086    1.376324    1.417114        1.326664\n",
      "\n",
      "$est_ex\n",
      "  true_est_ex ucra_est_ex cra_est_ex ipw_est_ex ipw_clu_est_ex\n",
      "1    1.315306    1.179598   1.273972   1.281814       1.206704\n",
      "2    1.354091    1.287376   1.372334   1.376332       1.424973\n",
      "3    1.257005    1.247020   1.386951   1.469710       1.438932\n",
      "4    1.283022    1.313598   1.360069   1.435135       1.605032\n",
      "5    1.415773    1.342463   1.433274   1.549111       1.431345\n",
      "\n",
      "$std_ind\n",
      "  true_std_ind ucra_std_ind cra_std_ind ipw_std_ind ipw_clu_std_ind\n",
      "1    0.1277751    0.1403489   0.1449448   0.1422263       0.1494533\n",
      "2    0.1275291    0.1369247   0.1361605   0.1414350       0.1537923\n",
      "3    0.1386026    0.1445002   0.1519041   0.1482253       0.1453248\n",
      "4    0.1308024    0.1549170   0.1545345   0.1588177       0.2045625\n",
      "5    0.1362906    0.1449973   0.1471986   0.1409526       0.1511530\n",
      "\n",
      "$std_ex\n",
      "  true_std_ex ucra_std_ex cra_std_ex ipw_std_ex ipw_clu_std_ex\n",
      "1   0.1236798   0.1364428  0.1423762  0.1423043      0.1463474\n",
      "2   0.1282997   0.1357496  0.1383782  0.1454678      0.1581359\n",
      "3   0.1383818   0.1494429  0.1637642  0.1606704      0.1560414\n",
      "4   0.1309441   0.1505647  0.1511718  0.1660517      0.2125726\n",
      "5   0.1380929   0.1480646  0.1484291  0.1510896      0.1563051\n",
      "\n",
      "$warn_ind\n",
      "  true_warn_ind ucra_warn_ind cra_warn_ind ipw_warn_ind ipw_clu_warn_ind\n",
      "1             0             0            0            0                0\n",
      "2             0             0            0            0                0\n",
      "3             0             0            0            0                0\n",
      "4             0             0            0            0                0\n",
      "5             0             0            0            0                0\n",
      "\n",
      "$warn_ex\n",
      "  true_warn_ex ucra_warn_ex cra_warn_ex ipw_warn_ex ipw_clu_warn_ex\n",
      "1            0            0           0           0               0\n",
      "2            0            0           0           0               0\n",
      "3            0            0           0           0               0\n",
      "4            0            0           0           0               0\n",
      "5            0            0           0           0               0\n",
      "\n",
      "$miss\n",
      "[1] 1529 1546 1623 1492 1446\n",
      "\n",
      "$maxw1\n",
      "[1] 12.42960 21.32092 20.55912 18.78128 21.70527\n",
      "\n",
      "$maxw2\n",
      "[1] 24.28868 42.99223 35.70898 64.90525 53.83600\n",
      "\n"
     ]
    }
   ],
   "source": [
    "T=5\n",
    "\n",
    "s1=Sys.time()\n",
    "\n",
    "k=50; icc=0.1; iccm=0.1\n",
    "\n",
    "      true_est_ind=c();true_std_ind=c();true_warn_ind=c()\n",
    "      true_est_ex=c();true_std_ex=c();true_warn_ex=c()\n",
    "      ucra_est_ind=c();ucra_std_ind=c();ucra_warn_ind=c()\n",
    "      ucra_est_ex=c();ucra_std_ex=c();ucra_warn_ex=c()\n",
    "      cra_est_ind=c();cra_std_ind=c();cra_warn_ind=c()\n",
    "      cra_est_ex=c();cra_std_ex=c();cra_warn_ex=c()\n",
    "      ipw_est_ind=c();ipw_std_ind=c();ipw_warn_ind=c()\n",
    "      ipw_est_ex=c();ipw_std_ex=c();ipw_warn_ex=c()\n",
    "      ipw_clu_est_ind=c();ipw_clu_std_ind=c();ipw_clu_warn_ind=c()\n",
    "      ipw_clu_est_ex=c();ipw_clu_std_ex=c();ipw_clu_warn_ex=c()\n",
    "      miss=c()\n",
    "      maxw1=c(); maxw2=c()\n",
    "      \n",
    "      for(times in 1:T){\n",
    "        print(paste('icc',icc,'iccm',iccm,'times',times))\n",
    "        set.seed(times)\n",
    "        \n",
    "        #tune the intercept\n",
    "        mis=c()\n",
    "        for(intercept in seq(-5,5,0.1)){\n",
    "          temp=dategen(k,M,varx=varx,icc=icc,iccm=iccm,intercept=intercept)  \n",
    "          mis=c(mis,missing_per(temp))\n",
    "        }\n",
    "        intercept=seq(-5,5,0.1)[which.min(abs(mis-0.3))]\n",
    "        \n",
    "        #\n",
    "        d1=dategen(k,M,varx=varx,icc=icc,iccm=iccm,intercept=intercept)\n",
    "        d3=d1\n",
    "        d3$y=ifelse(d3$r==1,NA,d3$y)\n",
    "        d3$missing=d3$r\n",
    "        d2=na.omit(d3)\n",
    "        \n",
    "        #calculate the weights\n",
    "        w1=glm(missing ~x + arm, data = d3,\n",
    "               family = binomial(link='logit'))\n",
    "        w2=glmer(missing ~x + arm+(1|cluster) , data = d3,\n",
    "                 family = binomial(link='logit'))\n",
    "        \n",
    "        w1=predict(w1,type=\"response\")\n",
    "        w2=predict(w2,type=\"response\")\n",
    "        \n",
    "        d3$weight=1/w1\n",
    "        d3$weight2=1/w2\n",
    "        \n",
    "        maxw1=c(maxw1,max(d3$weight))\n",
    "        maxw2=c(maxw2,max(d3$weight2))\n",
    "        miss=c(miss,sum(d1$r))\n",
    "        \n",
    "        ### True effect\n",
    "        trues_ind=myTryCatch(geeglm(formula=y~arm,id=cluster, data = d1,\n",
    "                                    family =  binomial(\"logit\"),\n",
    "                                    corstr = \"independence\"))\n",
    "        trues_ex=myTryCatch(geeglm(formula=y~arm,id=cluster, data = d1,\n",
    "                                   family =  binomial(\"logit\"),\n",
    "                                   corstr = \"exchangeable\"))\n",
    "        \n",
    "        ### Unadjusted CRA\n",
    "        ucra_ind=myTryCatch(geeglm(formula=y~arm,id=cluster, data = d2,\n",
    "                                   family =  binomial(\"logit\"),\n",
    "                                   corstr = \"independence\"))\n",
    "        ucra_ex=myTryCatch(geeglm(formula=y~arm,id=cluster, data = d2,\n",
    "                                  family =  binomial(\"logit\"),\n",
    "                                  corstr = \"exchangeable\"))\n",
    "        \n",
    "        ### Adjusted CRA\n",
    "        cra_ind=myTryCatch(geeglm(formula=y~x+arm,id=cluster, data = d2,\n",
    "                                  family =  binomial(\"logit\"),\n",
    "                                  corstr = \"independence\"))\n",
    "        cra_ex=myTryCatch(geeglm(formula=y~x+arm,id=cluster, data = d2,\n",
    "                                 family =  binomial(\"logit\"),\n",
    "                                 corstr = \"exchangeable\"))\n",
    "        \n",
    "        ### IPW\n",
    "        ipw_ind=myTryCatch(geeglm(formula=y~arm,id=cluster, data = d3,\n",
    "                                  family =  binomial(\"logit\"),\n",
    "                                  weights = d3$weight,\n",
    "                                  corstr = \"independence\"))\n",
    "        ipw_ex=myTryCatch(geeglm(formula=y~arm,id=cluster, data = d3,\n",
    "                                 family =  binomial(\"logit\"),\n",
    "                                 weights = d3$weight,\n",
    "                                 corstr = \"exchangeable\"))\n",
    "        ### IPW cluster\n",
    "        ipw_clu_ind=myTryCatch(geeglm(formula=y~arm,id=cluster, data = d3,\n",
    "                                      family =  binomial(\"logit\"),\n",
    "                                      weights = d3$weight2,\n",
    "                                      corstr = \"independence\"))\n",
    "        ipw_clu_ex=myTryCatch(geeglm(formula=y~arm,id=cluster, data = d3,\n",
    "                                     family =  binomial(\"logit\"),\n",
    "                                     weights = d3$weight2,\n",
    "                                     corstr = \"exchangeable\"))\n",
    "        \n",
    "        #### save results:\n",
    "        if(is.null(trues_ind$value)==0){\n",
    "          t1=summary(trues_ind$value)$coefficients['arm','Estimate']\n",
    "          t2=summary(trues_ind$value)$coefficients['arm','Std.err']\n",
    "          true_est_ind=c(true_est_ind,t1)\n",
    "          true_std_ind=c(true_std_ind,t2)\n",
    "          if(summary(trues_ind$value)$error==1){true_warn_ind=c(true_warn_ind,times)}\n",
    "          if(summary(trues_ind$value)$error==0){true_warn_ind=c(true_warn_ind,0)}\n",
    "        }\n",
    "        if(is.null(trues_ind$value)==1){\n",
    "          true_est_ind=c(true_est_ind,NA)\n",
    "          true_std_ind=c(true_std_ind,NA)\n",
    "          true_warn_ind=c(true_warn_ind,times)\n",
    "        }\n",
    "        \n",
    "        if(is.null(trues_ex$value)==0){\n",
    "          t1=summary(trues_ex$value)$coefficients['arm','Estimate']\n",
    "          t2=summary(trues_ex$value)$coefficients['arm','Std.err']\n",
    "          true_est_ex=c(true_est_ex,t1)\n",
    "          true_std_ex=c(true_std_ex,t2)\n",
    "          if(summary(trues_ex$value)$error==1){true_warn_ex=c(true_warn_ex,times)}\n",
    "          if(summary(trues_ex$value)$error==0){true_warn_ex=c(true_warn_ex,0)}\n",
    "        }\n",
    "        if(is.null(trues_ex$value)==1){\n",
    "          true_est_ex=c(true_est_ex,NA)\n",
    "          true_std_ex=c(true_std_ex,NA)\n",
    "          true_warn_ex=c(true_warn_ex,times)\n",
    "        }\n",
    "        \n",
    "        if(is.null(ucra_ind$value)==0){\n",
    "          t1=summary(ucra_ind$value)$coefficients['arm','Estimate']\n",
    "          t2=summary(ucra_ind$value)$coefficients['arm','Std.err']\n",
    "          ucra_est_ind=c(ucra_est_ind,t1)\n",
    "          ucra_std_ind=c(ucra_std_ind,t2)\n",
    "          if(summary(ucra_ind$value)$error==1){ucra_warn_ind=c(ucra_warn_ind,times)}\n",
    "          if(summary(ucra_ind$value)$error==0){ucra_warn_ind=c(ucra_warn_ind,0)}\n",
    "        }\n",
    "        if(is.null(ucra_ind$value)==1){\n",
    "          ucra_est_ind=c(ucra_est_ind,NA)\n",
    "          ucra_std_ind=c(ucra_std_ind,NA)\n",
    "          ucra_warn_ind=c(ucra_warn_ind,times)\n",
    "        }\n",
    "        \n",
    "        if(is.null(ucra_ex$value)==0){\n",
    "          t1=summary(ucra_ex$value)$coefficients['arm','Estimate']\n",
    "          t2=summary(ucra_ex$value)$coefficients['arm','Std.err']\n",
    "          ucra_est_ex=c(ucra_est_ex,t1)\n",
    "          ucra_std_ex=c(ucra_std_ex,t2)\n",
    "          if(summary(ucra_ex$value)$error==1){ucra_warn_ex=c(ucra_warn_ex,times)}\n",
    "          if(summary(ucra_ex$value)$error==0){ucra_warn_ex=c(ucra_warn_ex,0)}\n",
    "        }\n",
    "        if(is.null(ucra_ex$value)==1){\n",
    "          ucra_est_ex=c(ucra_est_ex,NA)\n",
    "          ucra_std_ex=c(ucra_std_ex,NA)\n",
    "          ucra_warn_ex=c(ucra_warn_ex,times)\n",
    "        }\n",
    "        \n",
    "        if(is.null(cra_ind$value)==0){\n",
    "          t1=summary(cra_ind$value)$coefficients['arm','Estimate']\n",
    "          t2=summary(cra_ind$value)$coefficients['arm','Std.err']\n",
    "          cra_est_ind=c(cra_est_ind,t1)\n",
    "          cra_std_ind=c(cra_std_ind,t2)\n",
    "          if(summary(cra_ind$value)$error==1){cra_warn_ind=c(cra_warn_ind,times)}\n",
    "          if(summary(cra_ind$value)$error==0){cra_warn_ind=c(cra_warn_ind,0)}\n",
    "        }\n",
    "        if(is.null(cra_ind$value)==1){\n",
    "          cra_est_ind=c(cra_est_ind,NA)\n",
    "          cra_std_ind=c(cra_std_ind,NA)\n",
    "          cra_warn_ind=c(cra_warn_ind,times)\n",
    "        }\n",
    "        \n",
    "        if(is.null(cra_ex$value)==0){\n",
    "          t1=summary(cra_ex$value)$coefficients['arm','Estimate']\n",
    "          t2=summary(cra_ex$value)$coefficients['arm','Std.err']\n",
    "          cra_est_ex=c(cra_est_ex,t1)\n",
    "          cra_std_ex=c(cra_std_ex,t2)\n",
    "          if(summary(cra_ex$value)$error==1){cra_warn_ex=c(cra_warn_ex,times)}\n",
    "          if(summary(cra_ex$value)$error==0){cra_warn_ex=c(cra_warn_ex,0)}\n",
    "        }\n",
    "        if(is.null(cra_ex$value)==1){\n",
    "          cra_est_ex=c(cra_est_ex,NA)\n",
    "          cra_std_ex=c(cra_std_ex,NA)\n",
    "          cra_warn_ex=c(cra_warn_ex,times)\n",
    "        }\n",
    "        \n",
    "        if(is.null(ipw_ind$value)==0){\n",
    "          t1=summary(ipw_ind$value)$coefficients['arm','Estimate']\n",
    "          t2=summary(ipw_ind$value)$coefficients['arm','Std.err']\n",
    "          ipw_est_ind=c(ipw_est_ind,t1)\n",
    "          ipw_std_ind=c(ipw_std_ind,t2)\n",
    "          if(summary(ipw_ind$value)$error==1){ipw_warn_ind=c(ipw_warn_ind,times)}\n",
    "          if(summary(ipw_ind$value)$error==0){ipw_warn_ind=c(ipw_warn_ind,0)}\n",
    "        }\n",
    "        if(is.null(ipw_ind$value)==1){\n",
    "          ipw_est_ind=c(ipw_est_ind,NA)\n",
    "          ipw_std_ind=c(ipw_std_ind,NA)\n",
    "          ipw_warn_ind=c(ipw_warn_ind,times)\n",
    "        }\n",
    "        \n",
    "        if(is.null(ipw_ex$value)==0){\n",
    "          t1=summary(ipw_ex$value)$coefficients['arm','Estimate']\n",
    "          t2=summary(ipw_ex$value)$coefficients['arm','Std.err']\n",
    "          ipw_est_ex=c(ipw_est_ex,t1)\n",
    "          ipw_std_ex=c(ipw_std_ex,t2)\n",
    "          if(summary(ipw_ex$value)$error==1){ipw_warn_ex=c(ipw_warn_ex,times)}\n",
    "          if(summary(ipw_ex$value)$error==0){ipw_warn_ex=c(ipw_warn_ex,0)}\n",
    "        }\n",
    "        if(is.null(ipw_ex$value)==1){\n",
    "          ipw_est_ex=c(ipw_est_ex,NA)\n",
    "          ipw_std_ex=c(ipw_std_ex,NA)\n",
    "          ipw_warn_ex=c(ipw_warn_ex,times)\n",
    "        }\n",
    "        \n",
    "        if(is.null(ipw_clu_ind$value)==0){\n",
    "          t1=summary(ipw_clu_ind$value)$coefficients['arm','Estimate']\n",
    "          t2=summary(ipw_clu_ind$value)$coefficients['arm','Std.err']\n",
    "          ipw_clu_est_ind=c(ipw_clu_est_ind,t1)\n",
    "          ipw_clu_std_ind=c(ipw_clu_std_ind,t2)\n",
    "          if(summary(ipw_clu_ind$value)$error==1){ipw_clu_warn_ind=c(ipw_clu_warn_ind,times)}\n",
    "          if(summary(ipw_clu_ind$value)$error==0){ipw_clu_warn_ind=c(ipw_clu_warn_ind,0)}\n",
    "        }\n",
    "        if(is.null(ipw_clu_ind$value)==1){\n",
    "          ipw_clu_est_ind=c(ipw_clu_est_ind,NA)\n",
    "          ipw_clu_std_ind=c(ipw_clu_std_ind,NA)\n",
    "          ipw_clu_warn_ind=c(ipw_clu_warn_ind,times)\n",
    "        }\n",
    "        \n",
    "        if(is.null(ipw_clu_ex$value)==0){\n",
    "          t1=summary(ipw_clu_ex$value)$coefficients['arm','Estimate']\n",
    "          t2=summary(ipw_clu_ex$value)$coefficients['arm','Std.err']\n",
    "          ipw_clu_est_ex=c(ipw_clu_est_ex,t1)\n",
    "          ipw_clu_std_ex=c(ipw_clu_std_ex,t2)\n",
    "          if(summary(ipw_clu_ex$value)$error==1){ipw_clu_warn_ex=c(ipw_clu_warn_ex,times)}\n",
    "          if(summary(ipw_clu_ex$value)$error==0){ipw_clu_warn_ex=c(ipw_clu_warn_ex,0)}\n",
    "        }\n",
    "        if(is.null(ipw_clu_ex$value)==1){\n",
    "          ipw_clu_est_ex=c(ipw_clu_est_ex,NA)\n",
    "          ipw_clu_std_ex=c(ipw_clu_std_ex,NA)\n",
    "          ipw_clu_warn_ex=c(ipw_clu_warn_ex,times)\n",
    "        }\n",
    "        \n",
    "      }\n",
    "      \n",
    "      est_ind=data.frame(true_est_ind=true_est_ind,ucra_est_ind=ucra_est_ind,cra_est_ind=cra_est_ind,\n",
    "                         ipw_est_ind=ipw_est_ind,ipw_clu_est_ind=ipw_clu_est_ind)\n",
    "      est_ex=data.frame(true_est_ex=true_est_ex,ucra_est_ex=ucra_est_ex,cra_est_ex=cra_est_ex,\n",
    "                        ipw_est_ex=ipw_est_ex,ipw_clu_est_ex=ipw_clu_est_ex)\n",
    "      \n",
    "      std_ind=data.frame(true_std_ind=true_std_ind,ucra_std_ind=ucra_std_ind,cra_std_ind=cra_std_ind,\n",
    "                         ipw_std_ind=ipw_std_ind,ipw_clu_std_ind=ipw_clu_std_ind)\n",
    "      std_ex=data.frame(true_std_ex=true_std_ex,ucra_std_ex=ucra_std_ex,cra_std_ex=cra_std_ex,\n",
    "                        ipw_std_ex=ipw_std_ex,ipw_clu_std_ex=ipw_clu_std_ex)\n",
    "      \n",
    "      warn_ind=data.frame(true_warn_ind=true_warn_ind,ucra_warn_ind=ucra_warn_ind,cra_warn_ind=cra_warn_ind,\n",
    "                          ipw_warn_ind=ipw_warn_ind,ipw_clu_warn_ind=ipw_clu_warn_ind)\n",
    "      warn_ex=data.frame(true_warn_ex=true_warn_ex,ucra_warn_ex=ucra_warn_ex,cra_warn_ex=cra_warn_ex,\n",
    "                         ipw_warn_ex=ipw_warn_ex,ipw_clu_warn_ex=ipw_clu_warn_ex)\n",
    "      \n",
    "      result=list(est_ind=est_ind,est_ex=est_ex,std_ind=std_ind,\n",
    "                  std_ex=std_ex,warn_ind=warn_ind,warn_ex=warn_ex,miss=miss,maxw1=maxw1,maxw2=maxw2)\n",
    "      names=paste('wrapk',k,icc,iccm,'.RData',sep='')\n",
    "      #save(result,file=names)\n",
    "      print(result)\n",
    "\n",
    "e1=Sys.time() "
   ]
  },
  {
   "cell_type": "code",
   "execution_count": null,
   "metadata": {},
   "outputs": [],
   "source": []
  },
  {
   "cell_type": "code",
   "execution_count": null,
   "metadata": {},
   "outputs": [],
   "source": []
  }
 ],
 "metadata": {
  "kernelspec": {
   "display_name": "R",
   "language": "R",
   "name": "ir"
  },
  "language_info": {
   "codemirror_mode": "r",
   "file_extension": ".r",
   "mimetype": "text/x-r-source",
   "name": "R",
   "pygments_lexer": "r",
   "version": "3.4.3"
  }
 },
 "nbformat": 4,
 "nbformat_minor": 2
}
